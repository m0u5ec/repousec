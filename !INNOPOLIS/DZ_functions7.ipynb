{
 "cells": [
  {
   "cell_type": "code",
   "execution_count": 14,
   "id": "ff2ed6c4-0578-452f-bce9-4eaa755a7b0c",
   "metadata": {},
   "outputs": [
    {
     "name": "stdin",
     "output_type": "stream",
     "text": [
      "Сколько проехали:  2\n",
      "Базовый тариф (подача + 3 км):  100\n",
      "Цена за км (начиная с 4-го):  12\n"
     ]
    },
    {
     "name": "stdout",
     "output_type": "stream",
     "text": [
      "{'drive_km': 2.0, 'base_cost': 100.0, 'km_price': 12.0}\n",
      "Стоимость вашей поездки = 100.0\n"
     ]
    },
    {
     "name": "stdin",
     "output_type": "stream",
     "text": [
      "Повторим (да / нет)?  да\n",
      "Сколько проехали:  20.5\n",
      "Базовый тариф (подача + 3 км):  100\n",
      "Цена за км (начиная с 4-го):  12\n"
     ]
    },
    {
     "name": "stdout",
     "output_type": "stream",
     "text": [
      "{'drive_km': 20.5, 'base_cost': 100.0, 'km_price': 12.0}\n",
      "Стоимость вашей поездки = 310.0\n"
     ]
    },
    {
     "name": "stdin",
     "output_type": "stream",
     "text": [
      "Повторим (да / нет)?  нет\n"
     ]
    }
   ],
   "source": [
    "def drive_cost(**kwargs) -> float:\n",
    "    try:\n",
    "        print(kwargs)\n",
    "        if kwargs['drive_km'] > 3:\n",
    "            return kwargs['base_cost'] + kwargs['km_price'] * (kwargs['drive_km']-3)\n",
    "        else:\n",
    "            return kwargs['base_cost']\n",
    "    except KeyError:\n",
    "        print(f'В функцию переданы аргументы: {kwargs.keys()}! Ожидались drive_km, base_cost и km_price.')\n",
    "\n",
    "\n",
    "\n",
    "#######################################################        \n",
    "state='' \n",
    "N=1\n",
    "while state !='нет':\n",
    "    try:\n",
    "        #drive_km = float(input('Сколько проехали: '))\n",
    "        #base_cost = float(input('Базовый тариф (подача + 3 км): '))\n",
    "        #km_price = float(input('Цена за км (начиная с 4-го): '))\n",
    "        print (f'Стоимость вашей поездки = {drive_cost(drive_km = float(input('Сколько проехали: ')), base_cost = float(input('Базовый тариф (подача + 3 км): ')), km_price = float(input('Цена за км (начиная с 4-го): ')))}')\n",
    "    except ValueError:\n",
    "        if N<5:\n",
    "            print('Попробуйте еще раз.')\n",
    "            N += 1\n",
    "        else:\n",
    "            print('Превышено количество неудачных попыток!')\n",
    "            break  \n",
    "    else:\n",
    "        state = input('Повторим (да / нет)? ').lower()"
   ]
  },
  {
   "cell_type": "code",
   "execution_count": null,
   "id": "cc4675d5-a5bc-400e-837e-fd0d765bf34f",
   "metadata": {},
   "outputs": [],
   "source": []
  }
 ],
 "metadata": {
  "kernelspec": {
   "display_name": "Python 3 (ipykernel)",
   "language": "python",
   "name": "python3"
  },
  "language_info": {
   "codemirror_mode": {
    "name": "ipython",
    "version": 3
   },
   "file_extension": ".py",
   "mimetype": "text/x-python",
   "name": "python",
   "nbconvert_exporter": "python",
   "pygments_lexer": "ipython3",
   "version": "3.12.4"
  }
 },
 "nbformat": 4,
 "nbformat_minor": 5
}
