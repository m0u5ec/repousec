{
 "cells": [
  {
   "cell_type": "code",
   "execution_count": 49,
   "id": "b17ea482-fa16-464f-a1f5-fa76ccf58ee3",
   "metadata": {},
   "outputs": [],
   "source": [
    "from tkinter import *\n",
    "import tkinter.messagebox as box\n",
    "window = Tk()\n",
    "window.geometry(\"300x150\")\n",
    "window.title(\"Пожалуйста, авторизуйтесь\")\n",
    "frame = Frame(window)\n",
    "entry_log = Entry(frame)\n",
    "entry_pass = Entry(frame)\n",
    "def dialog(event):\n",
    "    login=entry_log.get()\n",
    "    password=entry_pass.get()\n",
    "    if login == \"user\" and password == \"passwd\":\n",
    "        box.showinfo(\"Приветствие\", \"Привет, \" + login)\n",
    "    else:\n",
    "        box.showerror(\"Что-то пошло не так...\",\"Неверные данные!\")\n",
    "def check_it(event):\n",
    "    login=entry_log.get()\n",
    "    password=entry_pass.get()\n",
    "    if len(login)>0 and len(password)>0:\n",
    "        btn['state']=NORMAL\n",
    "    else:\n",
    "        btn['state']=DISABLED\n",
    "\n",
    "def Q_func(event):\n",
    "    window.destroy()\n",
    "\n",
    "btn = Button(frame, text = \"Войти\", state = DISABLED,width=15)\n",
    "Qbtn = Button(frame, text = \"Выйти\", width=15)\n",
    "lb_log = Label(frame, text = \"Введите логин: \")\n",
    "lb_pass = Label(frame, text = \"Введите пароль: \")\n",
    "entry_log.grid(column=1, row=0)\n",
    "lb_log.grid(column=0, row=0)\n",
    "entry_pass.grid(column=1, row=1)\n",
    "lb_pass.grid(column=0, row=1)\n",
    "btn.grid( row=2, pady = 5, column=0)\n",
    "Qbtn.grid( row=2, pady = 5, column=1)\n",
    "frame.pack(padx = 20, pady = 20,expand=1)\n",
    "entry_log.bind('<KeyPress>', check_it)\n",
    "#entry_log.bind('<Tab>', check_it)\n",
    "#entry_log.bind('<Delete>', check_it)\n",
    "#entry_log.bind('<BackSpace>', check_it)\n",
    "entry_pass.bind('<Key>', check_it)\n",
    "#entry_pass.bind('<Tab>', check_it)\n",
    "#entry_pass.bind('<Delete>', check_it)\n",
    "#entry_pass.bind('<BackSpace>', check_it)\n",
    "btn.bind('<Button-1>',dialog)\n",
    "btn.bind('<Return>',dialog)\n",
    "Qbtn.bind('<Button-1>', Q_func)\n",
    "Qbtn.bind('<Return>', Q_func)\n",
    "window.mainloop()"
   ]
  },
  {
   "cell_type": "code",
   "execution_count": null,
   "id": "0387f206-59ba-4758-b450-513380a0a969",
   "metadata": {},
   "outputs": [],
   "source": []
  }
 ],
 "metadata": {
  "kernelspec": {
   "display_name": "Python 3 (ipykernel)",
   "language": "python",
   "name": "python3"
  },
  "language_info": {
   "codemirror_mode": {
    "name": "ipython",
    "version": 3
   },
   "file_extension": ".py",
   "mimetype": "text/x-python",
   "name": "python",
   "nbconvert_exporter": "python",
   "pygments_lexer": "ipython3",
   "version": "3.12.4"
  }
 },
 "nbformat": 4,
 "nbformat_minor": 5
}
