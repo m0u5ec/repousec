{
 "cells": [
  {
   "cell_type": "code",
   "execution_count": 1,
   "id": "aac0ca27-3520-441f-8d45-1e548a8686cf",
   "metadata": {},
   "outputs": [],
   "source": [
    "a = 0.1+0.2+0.3\n",
    "b= 0.3-0.2-0.1"
   ]
  },
  {
   "cell_type": "code",
   "execution_count": 2,
   "id": "4aaa74c8-9d3b-4d89-aa9d-4405f9fd02a4",
   "metadata": {},
   "outputs": [
    {
     "data": {
      "text/plain": [
       "0.6000000000000001"
      ]
     },
     "execution_count": 2,
     "metadata": {},
     "output_type": "execute_result"
    }
   ],
   "source": [
    "a"
   ]
  },
  {
   "cell_type": "code",
   "execution_count": 3,
   "id": "6436dbdf-0f39-43b0-b10d-3d0b8018f762",
   "metadata": {},
   "outputs": [
    {
     "data": {
      "text/plain": [
       "-2.7755575615628914e-17"
      ]
     },
     "execution_count": 3,
     "metadata": {},
     "output_type": "execute_result"
    }
   ],
   "source": [
    "b"
   ]
  },
  {
   "cell_type": "code",
   "execution_count": 4,
   "id": "4d329579-4fb9-4534-8702-fcb36516dc29",
   "metadata": {},
   "outputs": [
    {
     "data": {
      "application/json": {
       "cell": {
        "!": "OSMagics",
        "HTML": "Other",
        "SVG": "Other",
        "bash": "Other",
        "capture": "ExecutionMagics",
        "cmd": "Other",
        "code_wrap": "ExecutionMagics",
        "debug": "ExecutionMagics",
        "file": "Other",
        "html": "DisplayMagics",
        "javascript": "DisplayMagics",
        "js": "DisplayMagics",
        "latex": "DisplayMagics",
        "markdown": "DisplayMagics",
        "perl": "Other",
        "prun": "ExecutionMagics",
        "pypy": "Other",
        "python": "Other",
        "python2": "Other",
        "python3": "Other",
        "ruby": "Other",
        "script": "ScriptMagics",
        "sh": "Other",
        "svg": "DisplayMagics",
        "sx": "OSMagics",
        "system": "OSMagics",
        "time": "ExecutionMagics",
        "timeit": "ExecutionMagics",
        "writefile": "OSMagics"
       },
       "line": {
        "alias": "OSMagics",
        "alias_magic": "BasicMagics",
        "autoawait": "AsyncMagics",
        "autocall": "AutoMagics",
        "automagic": "AutoMagics",
        "autosave": "KernelMagics",
        "bookmark": "OSMagics",
        "cd": "OSMagics",
        "clear": "KernelMagics",
        "cls": "KernelMagics",
        "code_wrap": "ExecutionMagics",
        "colors": "BasicMagics",
        "conda": "PackagingMagics",
        "config": "ConfigMagics",
        "connect_info": "KernelMagics",
        "copy": "Other",
        "ddir": "Other",
        "debug": "ExecutionMagics",
        "dhist": "OSMagics",
        "dirs": "OSMagics",
        "doctest_mode": "BasicMagics",
        "echo": "Other",
        "ed": "Other",
        "edit": "KernelMagics",
        "env": "OSMagics",
        "gui": "BasicMagics",
        "hist": "Other",
        "history": "HistoryMagics",
        "killbgscripts": "ScriptMagics",
        "ldir": "Other",
        "less": "KernelMagics",
        "load": "CodeMagics",
        "load_ext": "ExtensionMagics",
        "loadpy": "CodeMagics",
        "logoff": "LoggingMagics",
        "logon": "LoggingMagics",
        "logstart": "LoggingMagics",
        "logstate": "LoggingMagics",
        "logstop": "LoggingMagics",
        "ls": "Other",
        "lsmagic": "BasicMagics",
        "macro": "ExecutionMagics",
        "magic": "BasicMagics",
        "mamba": "PackagingMagics",
        "matplotlib": "PylabMagics",
        "micromamba": "PackagingMagics",
        "mkdir": "Other",
        "more": "KernelMagics",
        "notebook": "BasicMagics",
        "page": "BasicMagics",
        "pastebin": "CodeMagics",
        "pdb": "ExecutionMagics",
        "pdef": "NamespaceMagics",
        "pdoc": "NamespaceMagics",
        "pfile": "NamespaceMagics",
        "pinfo": "NamespaceMagics",
        "pinfo2": "NamespaceMagics",
        "pip": "PackagingMagics",
        "popd": "OSMagics",
        "pprint": "BasicMagics",
        "precision": "BasicMagics",
        "prun": "ExecutionMagics",
        "psearch": "NamespaceMagics",
        "psource": "NamespaceMagics",
        "pushd": "OSMagics",
        "pwd": "OSMagics",
        "pycat": "OSMagics",
        "pylab": "PylabMagics",
        "qtconsole": "KernelMagics",
        "quickref": "BasicMagics",
        "recall": "HistoryMagics",
        "rehashx": "OSMagics",
        "reload_ext": "ExtensionMagics",
        "ren": "Other",
        "rep": "Other",
        "rerun": "HistoryMagics",
        "reset": "NamespaceMagics",
        "reset_selective": "NamespaceMagics",
        "rmdir": "Other",
        "run": "ExecutionMagics",
        "save": "CodeMagics",
        "sc": "OSMagics",
        "set_env": "OSMagics",
        "store": "StoreMagics",
        "sx": "OSMagics",
        "system": "OSMagics",
        "tb": "ExecutionMagics",
        "time": "ExecutionMagics",
        "timeit": "ExecutionMagics",
        "unalias": "OSMagics",
        "unload_ext": "ExtensionMagics",
        "who": "NamespaceMagics",
        "who_ls": "NamespaceMagics",
        "whos": "NamespaceMagics",
        "xdel": "NamespaceMagics",
        "xmode": "BasicMagics"
       }
      },
      "text/plain": [
       "Available line magics:\n",
       "%alias  %alias_magic  %autoawait  %autocall  %automagic  %autosave  %bookmark  %cd  %clear  %cls  %code_wrap  %colors  %conda  %config  %connect_info  %copy  %ddir  %debug  %dhist  %dirs  %doctest_mode  %echo  %ed  %edit  %env  %gui  %hist  %history  %killbgscripts  %ldir  %less  %load  %load_ext  %loadpy  %logoff  %logon  %logstart  %logstate  %logstop  %ls  %lsmagic  %macro  %magic  %mamba  %matplotlib  %micromamba  %mkdir  %more  %notebook  %page  %pastebin  %pdb  %pdef  %pdoc  %pfile  %pinfo  %pinfo2  %pip  %popd  %pprint  %precision  %prun  %psearch  %psource  %pushd  %pwd  %pycat  %pylab  %qtconsole  %quickref  %recall  %rehashx  %reload_ext  %ren  %rep  %rerun  %reset  %reset_selective  %rmdir  %run  %save  %sc  %set_env  %store  %sx  %system  %tb  %time  %timeit  %unalias  %unload_ext  %who  %who_ls  %whos  %xdel  %xmode\n",
       "\n",
       "Available cell magics:\n",
       "%%!  %%HTML  %%SVG  %%bash  %%capture  %%cmd  %%code_wrap  %%debug  %%file  %%html  %%javascript  %%js  %%latex  %%markdown  %%perl  %%prun  %%pypy  %%python  %%python2  %%python3  %%ruby  %%script  %%sh  %%svg  %%sx  %%system  %%time  %%timeit  %%writefile\n",
       "\n",
       "Automagic is ON, % prefix IS NOT needed for line magics."
      ]
     },
     "execution_count": 4,
     "metadata": {},
     "output_type": "execute_result"
    }
   ],
   "source": [
    "%lsmagic"
   ]
  },
  {
   "cell_type": "code",
   "execution_count": 5,
   "id": "7858c1f0-6fdb-4490-814e-3dcdd90412d1",
   "metadata": {},
   "outputs": [
    {
     "name": "stdin",
     "output_type": "stream",
     "text": [
      "ВВедите что-нить: jh\n"
     ]
    },
    {
     "ename": "ValueError",
     "evalue": "invalid literal for int() with base 10: 'jh'",
     "output_type": "error",
     "traceback": [
      "\u001b[1;31m---------------------------------------------------------------------------\u001b[0m",
      "\u001b[1;31mValueError\u001b[0m                                Traceback (most recent call last)",
      "Cell \u001b[1;32mIn[5], line 1\u001b[0m\n\u001b[1;32m----> 1\u001b[0m zzz \u001b[38;5;241m=\u001b[39m \u001b[38;5;28mint\u001b[39m(\u001b[38;5;28minput\u001b[39m(\u001b[38;5;124m'\u001b[39m\u001b[38;5;124mВВедите что-нить:\u001b[39m\u001b[38;5;124m'\u001b[39m))\n\u001b[0;32m      2\u001b[0m \u001b[38;5;28;01mif\u001b[39;00m zzz \u001b[38;5;241m==\u001b[39m \u001b[38;5;241m5\u001b[39m:\n\u001b[0;32m      3\u001b[0m     \u001b[38;5;28mprint\u001b[39m(\u001b[38;5;124m'\u001b[39m\u001b[38;5;124mOK\u001b[39m\u001b[38;5;124m'\u001b[39m)\n",
      "\u001b[1;31mValueError\u001b[0m: invalid literal for int() with base 10: 'jh'"
     ]
    }
   ],
   "source": [
    "    zzz = int(input('ВВедите что-нить:'))\n",
    "    if zzz == 5:\n",
    "        print('OK')\n",
    "    elif zzz <= 5:\n",
    "        print('Почти OK')\n",
    "    elif zzz >= 5:\n",
    "        print('Сомнительно, но OK')\n",
    "    else:\n",
    "        print('Што это?')\n"
   ]
  },
  {
   "cell_type": "code",
   "execution_count": 6,
   "id": "d0b84877-802e-4e8b-96ec-0d1e8ca88934",
   "metadata": {},
   "outputs": [
    {
     "name": "stdout",
     "output_type": "stream",
     "text": [
      "Defaulting to user installation because normal site-packages is not writeable\n",
      "Requirement already satisfied: opencv-python in c:\\users\\marina.mysh\\appdata\\roaming\\python\\python312\\site-packages (4.10.0.84)\n",
      "Requirement already satisfied: numpy>=1.21.2 in c:\\programdata\\anaconda3\\lib\\site-packages (from opencv-python) (1.26.4)\n",
      "Note: you may need to restart the kernel to use updated packages.\n"
     ]
    }
   ],
   "source": [
    "pip install opencv-python"
   ]
  },
  {
   "cell_type": "code",
   "execution_count": 7,
   "id": "be5a2d4e-4f57-4f1b-9036-0e067751fa61",
   "metadata": {},
   "outputs": [
    {
     "name": "stdin",
     "output_type": "stream",
     "text": [
      "Введите путь к файлу: drfg\n"
     ]
    },
    {
     "ename": "AttributeError",
     "evalue": "'NoneType' object has no attribute 'shape'",
     "output_type": "error",
     "traceback": [
      "\u001b[1;31m---------------------------------------------------------------------------\u001b[0m",
      "\u001b[1;31mAttributeError\u001b[0m                            Traceback (most recent call last)",
      "Cell \u001b[1;32mIn[7], line 6\u001b[0m\n\u001b[0;32m      4\u001b[0m img_filename \u001b[38;5;241m=\u001b[39m \u001b[38;5;28mstr\u001b[39m(\u001b[38;5;28minput\u001b[39m(\u001b[38;5;124m'\u001b[39m\u001b[38;5;124mВведите путь к файлу:\u001b[39m\u001b[38;5;124m'\u001b[39m))\n\u001b[0;32m      5\u001b[0m img\u001b[38;5;241m=\u001b[39mcv2\u001b[38;5;241m.\u001b[39mimread(img_filename)\n\u001b[1;32m----> 6\u001b[0m \u001b[38;5;28mprint\u001b[39m(\u001b[38;5;124m'\u001b[39m\u001b[38;5;124mИсходные размеры: \u001b[39m\u001b[38;5;124m'\u001b[39m,img\u001b[38;5;241m.\u001b[39mshape[\u001b[38;5;241m1\u001b[39m], img\u001b[38;5;241m.\u001b[39mshape[\u001b[38;5;241m0\u001b[39m])\n\u001b[0;32m      7\u001b[0m x,y\u001b[38;5;241m=\u001b[39m\u001b[38;5;28mint\u001b[39m(img\u001b[38;5;241m.\u001b[39mshape[\u001b[38;5;241m1\u001b[39m] \u001b[38;5;241m/\u001b[39m\u001b[38;5;241m2\u001b[39m),\u001b[38;5;28mint\u001b[39m(img\u001b[38;5;241m.\u001b[39mshape[\u001b[38;5;241m0\u001b[39m] \u001b[38;5;241m/\u001b[39m\u001b[38;5;241m2\u001b[39m)\n\u001b[0;32m      8\u001b[0m dim\u001b[38;5;241m=\u001b[39m(x,y)\n",
      "\u001b[1;31mAttributeError\u001b[0m: 'NoneType' object has no attribute 'shape'"
     ]
    }
   ],
   "source": [
    "import cv2\n",
    "##cv2.__version__\n",
    "\n",
    "img_filename = str(input('Введите путь к файлу:'))\n",
    "img=cv2.imread(img_filename)\n",
    "print('Исходные размеры: ',img.shape[1], img.shape[0])\n",
    "x,y=int(img.shape[1] /2),int(img.shape[0] /2)\n",
    "dim=(x,y)\n",
    "res_img = cv2.resize(img, dim,interpolation=cv2.INTER_AREA)\n",
    "print('Новые размеры: ',res_img.shape[1], res_img.shape[0])\n",
    "cv2.namedWindow('zzz', cv2.WINDOW_AUTOSIZE)\n",
    "cv2.imshow('zzz',cv2.cvtColor(cv2.flip(res_img,-1),cv2.COLOR_BGR2GRAY))\n",
    "cv2.waitKey(0)\n",
    "cv2.destroyAllWindows()"
   ]
  },
  {
   "cell_type": "code",
   "execution_count": null,
   "id": "6ffb560f-f49a-4aaa-841a-0b7fae0d7b7f",
   "metadata": {},
   "outputs": [],
   "source": [
    "import cv2\n",
    "\n",
    "cap = cv2.VideoCapture(0)\n",
    "\n",
    "while True:\n",
    "    ret, img = cap.read()\n",
    "    if ret:  # <<<<< этот параметр вам не просто так выдают\n",
    "        cv2.imshow(\"camera\", img)\n",
    "    if cv2.waitKey(10) & 0xFF == 27:  # <<<<< 0xFF\n",
    "        break\n",
    "\n",
    "cap.release()\n",
    "cv2.destroyAllWindows()"
   ]
  },
  {
   "cell_type": "code",
   "execution_count": null,
   "id": "022787ed-1bd6-4145-bf7b-ffc988745320",
   "metadata": {},
   "outputs": [],
   "source": [
    "import csv\n",
    "\n",
    "path=str(input('Введите путь к файлу:'))\n",
    "with open(path,'r') as f:\n",
    "    #reader = csv.reader(f,delimiter=',')\n",
    "    #headers=next(reader)\n",
    "    #print(*headers)\n",
    "   # for row in reader:\n",
    "   #     print(row)\n",
    "   # reader2=csv.DictReader(f,delimiter=';') \n",
    "   # for row2 in reader2:\n",
    "     #   print(row2)\n",
    "    print(f.read())\n",
    "f.close()"
   ]
  },
  {
   "cell_type": "code",
   "execution_count": null,
   "id": "17ab1265-ae87-4127-aace-2470b1e81dff",
   "metadata": {},
   "outputs": [],
   "source": [
    "import numpy as np\n",
    "import random\n",
    "L=np.arange(0,100,0.3)\n",
    "print(L)\n",
    "L0=np.zeros(315)\n",
    "L1=np.ones(315)\n",
    "LN=np.full(315,random.random())\n",
    "LN.resize(3,3,2)\n",
    "print(L0,L1,LN)"
   ]
  },
  {
   "cell_type": "code",
   "execution_count": null,
   "id": "30775c3c-072a-4a59-86df-8e653e1e4357",
   "metadata": {},
   "outputs": [],
   "source": [
    "import numpy as np\n",
    "\n",
    "A = np.ones((5, 5), dtype=int)\n",
    "print(A)\n",
    "B = np.zeros((9, 9))\n",
    "print(B)\n",
    "C = np.array([[1, 2.1], [4, 5], [6, 7]])\n",
    "print(C)"
   ]
  },
  {
   "cell_type": "code",
   "execution_count": null,
   "id": "79a77a8d-5dd7-4d62-93aa-ac1a0650bbc0",
   "metadata": {},
   "outputs": [],
   "source": [
    "import seaborn as sns\n",
    "test_dataset = sns.load_dataset(\"diamonds\")\n",
    "print(test_dataset)\n",
    "sns.barplot(x=\"color\", y=\"price\", data=test_dataset,hue='cut',  palette='hls')"
   ]
  },
  {
   "cell_type": "code",
   "execution_count": 8,
   "id": "1a3b9843-cb7e-4060-8ea6-c78504eb0ac8",
   "metadata": {},
   "outputs": [],
   "source": [
    "import re"
   ]
  },
  {
   "cell_type": "code",
   "execution_count": 58,
   "id": "dce750e9-3a58-4953-b6fb-a06b23af5bc1",
   "metadata": {},
   "outputs": [
    {
     "name": "stdout",
     "output_type": "stream",
     "text": [
      "<re.Match object; span=(5, 26), match='сука, тестовая строка'>\n"
     ]
    }
   ],
   "source": [
    "pattern = 'строка'\n",
    "text = 'это тестовая строка для регулярных выражений'\n",
    "match = re.search(pattern, text)\n",
    "print(match)"
   ]
  },
  {
   "cell_type": "code",
   "execution_count": 59,
   "id": "46d6306e-a9d6-4e33-89f0-7de1622554be",
   "metadata": {},
   "outputs": [
    {
     "name": "stdout",
     "output_type": "stream",
     "text": [
      "5  -  26\n"
     ]
    }
   ],
   "source": [
    "print(match.start(),' - ', match.end())"
   ]
  },
  {
   "cell_type": "code",
   "execution_count": 24,
   "id": "8e0b362f-eeb7-4b8d-9f53-ef3d5a11b042",
   "metadata": {},
   "outputs": [
    {
     "name": "stdout",
     "output_type": "stream",
     "text": [
      "<re.Match object; span=(0, 3), match='Это'>\n",
      "None\n"
     ]
    }
   ],
   "source": [
    "pattern1 = 'Это'\n",
    "pattern2 = 'строка'\n",
    "text = 'Это тестовая строка для рекулярных выражений'\n",
    "match1=re.match(pattern1, text)\n",
    "print(match1)\n",
    "match2=re.match(pattern2, text)\n",
    "print(match2)"
   ]
  },
  {
   "cell_type": "code",
   "execution_count": 22,
   "id": "d7d01862-22c4-4f92-9688-5d6eb419e2d0",
   "metadata": {},
   "outputs": [
    {
     "name": "stdout",
     "output_type": "stream",
     "text": [
      "<re.Match object; span=(13, 19), match='строка'>\n",
      "это измененная строка для регулярных выражений\n"
     ]
    }
   ],
   "source": [
    "pattern = 'тестовая'\n",
    "text = 'это тестовая строка для регулярных выражений'\n",
    "new_text = 'измененная'\n",
    "\n",
    "new_string = re.sub(pattern, new_text, text)\n",
    "print(match)\n",
    "print(new_string)"
   ]
  },
  {
   "cell_type": "code",
   "execution_count": 54,
   "id": "43bcb935-49b5-46f2-9c2a-a5ee65cf1e2c",
   "metadata": {},
   "outputs": [
    {
     "name": "stdout",
     "output_type": "stream",
     "text": [
      "['20', '40', '5', '5', '9']\n"
     ]
    }
   ],
   "source": [
    "text = 'в этой строке есть число 20, также есть число — 40,5, возможно, еще цифры 5 и 9'\n",
    "nums_list = re.findall(r'\\d+', text)\n",
    "print(nums_list)"
   ]
  },
  {
   "cell_type": "code",
   "execution_count": 52,
   "id": "1db3cb8e-5cb2-4475-82db-1ed14cdefc40",
   "metadata": {},
   "outputs": [
    {
     "name": "stdout",
     "output_type": "stream",
     "text": [
      "['в', 'этой', 'строке', 'есть', 'число', '20', '', 'также', 'есть', 'число', '—', '40', '5', '', 'возможно', '', 'еще', 'цифры', '5', 'и', '9', '']\n"
     ]
    }
   ],
   "source": [
    "pattern='[., !]'\n",
    "text = 'в этой строке есть число 20, также есть число — 40,5, возможно, еще цифры 5 и 9!'\n",
    "result = re.split(pattern, text)\n",
    "print(result)"
   ]
  },
  {
   "cell_type": "code",
   "execution_count": 57,
   "id": "3dfaeb77-ba6e-4706-a874-f903cdf9de1d",
   "metadata": {},
   "outputs": [
    {
     "name": "stdout",
     "output_type": "stream",
     "text": [
      "['в ', 'эт', 'ой', ' с', 'тр', 'ок', 'е ', 'ес', 'ть', ' ч', 'ис', 'ло', ' 2', ', ', 'ак', 'же', ' е', 'ст', 'ь ', 'чи', 'сл', 'о ', '— ', ',5', ', ', 'во', 'зм', 'ож', 'но', ', ', 'ещ', 'е ', 'ци', 'фр', 'ы ', ' и', ' 9']\n"
     ]
    }
   ],
   "source": [
    "pattern=r'\\D[^абв]'\n",
    "text = 'в этой строке есть число 20, также есть число — 40,5, возможно, еще цифры 5 и 9!'\n",
    "result = re.findall(pattern, text)\n",
    "print(result)"
   ]
  },
  {
   "cell_type": "code",
   "execution_count": 65,
   "id": "5c24e88f-d9c4-4d41-a094-b32199804be0",
   "metadata": {},
   "outputs": [
    {
     "name": "stdout",
     "output_type": "stream",
     "text": [
      "['сука', 'строка']\n"
     ]
    }
   ],
   "source": [
    "pattern = r'с[^,. ]*ка'\n",
    "text = 'это, сука, тестовая строка для регулярных выражений'\n",
    "match = re.findall(pattern, text)\n",
    "print(match)"
   ]
  },
  {
   "cell_type": "code",
   "execution_count": 69,
   "id": "70b0f5fe-c0cc-4659-ac50-7ef23fe58a04",
   "metadata": {},
   "outputs": [
    {
     "data": {
      "text/plain": [
       "[('mousec@list.ru', 'mousec', 'list', 'ru'),\n",
       " ('mysh@rt.ru', 'mysh', 'rt', 'ru'),\n",
       " ('pochta_Pochta_1@ya.ru', 'pochta_Pochta_1', 'ya', 'ru')]"
      ]
     },
     "execution_count": 69,
     "metadata": {},
     "output_type": "execute_result"
    }
   ],
   "source": [
    "text='mousec@list.ru, marina.mysh@rt.ru? pochta_Pochta_1@ya.ru'\n",
    "pattern=r'((\\w+)@([A-Z0-9]+)\\.([A-Z]{2,4}))'\n",
    "re.findall(pattern,text,flags=re.IGNORECASE)"
   ]
  },
  {
   "cell_type": "code",
   "execution_count": null,
   "id": "415e4eaa-88ce-41c1-a5ae-3456a5540382",
   "metadata": {},
   "outputs": [
    {
     "name": "stdout",
     "output_type": "stream",
     "text": [
      " * Serving Flask app '__main__'\n",
      " * Debug mode: off\n"
     ]
    },
    {
     "name": "stderr",
     "output_type": "stream",
     "text": [
      "WARNING: This is a development server. Do not use it in a production deployment. Use a production WSGI server instead.\n",
      " * Running on http://127.0.0.1:5000\n",
      "Press CTRL+C to quit\n",
      "127.0.0.1 - - [26/Nov/2024 18:33:06] \"GET / HTTP/1.1\" 200 -\n",
      "127.0.0.1 - - [26/Nov/2024 18:33:12] \"GET /submit HTTP/1.1\" 200 -\n",
      "127.0.0.1 - - [26/Nov/2024 18:33:15] \"GET /submit HTTP/1.1\" 200 -\n",
      "127.0.0.1 - - [26/Nov/2024 18:33:18] \"GET /submit2 HTTP/1.1\" 200 -\n",
      "127.0.0.1 - - [26/Nov/2024 18:36:08] \"GET /submit2 HTTP/1.1\" 200 -\n",
      "127.0.0.1 - - [26/Nov/2024 18:36:13] \"POST /submit2 HTTP/1.1\" 200 -\n"
     ]
    }
   ],
   "source": [
    "from flask import Flask,request\n",
    "app = Flask (__name__)\n",
    "@app.route ('/')\n",
    "def hello():\n",
    "    return \"\"\"Привет Мир!\"\"\"\n",
    "@app.route('/page2')\n",
    "def greeting():\n",
    "    return 'Это страница 2!'\n",
    "\n",
    "@app.route('/submit', methods=['GET'])\n",
    "def req_with_get():\n",
    "    return \"<h3>Метод GET</h3>\"\n",
    "\n",
    "@app.route('/submit')\n",
    "def req_with_post():\n",
    "    return \"<h3>Метод POST</h3>\"\n",
    "\n",
    "@app.route('/submit2', methods=['GET','POST'])\n",
    "def both_get_post():\n",
    "    if request.method == 'POST':\n",
    "        return \"<h3>Метод POST 2</h3>\"\n",
    "    else:\n",
    "        return \"<h2>Метод GET 2</h2>\"\n",
    "\n",
    "if __name__ == '__main__':\n",
    "    app.run()"
   ]
  },
  {
   "cell_type": "code",
   "execution_count": null,
   "id": "dadf3f9b-3d98-43e6-bbc0-c6241cd0fd1e",
   "metadata": {},
   "outputs": [
    {
     "name": "stdout",
     "output_type": "stream",
     "text": [
      " * Serving Flask app '__main__'\n",
      " * Debug mode: off\n"
     ]
    },
    {
     "name": "stderr",
     "output_type": "stream",
     "text": [
      "WARNING: This is a development server. Do not use it in a production deployment. Use a production WSGI server instead.\n",
      " * Running on http://127.0.0.1:5000\n",
      "Press CTRL+C to quit\n",
      "127.0.0.1 - - [27/Nov/2024 11:57:32] \"GET / HTTP/1.1\" 404 -\n",
      "127.0.0.1 - - [27/Nov/2024 11:57:41] \"GET /greeting HTTP/1.1\" 200 -\n",
      "127.0.0.1 - - [27/Nov/2024 12:06:37] \"GET / HTTP/1.1\" 404 -\n",
      "127.0.0.1 - - [27/Nov/2024 12:06:46] \"GET /submit HTTP/1.1\" 404 -\n",
      "127.0.0.1 - - [27/Nov/2024 12:06:49] \"GET /submit HTTP/1.1\" 404 -\n"
     ]
    }
   ],
   "source": [
    "from flask import Flask,request,render_template, url_for,redirect\n",
    "app = Flask (__name__)\n",
    "\n",
    "@app.route('/hello')\n",
    "def hello():\n",
    "    hello_url = url_for('static',filename=\"1.html\")\n",
    "    return redirect(hello_url)\n",
    "\n",
    "@app.route('/greeting')\n",
    "def greeting():\n",
    "    msg = \"Hello from Hell!!!\"\n",
    "    return render_template(\"2.html\",greeting=msg)\n",
    "\n",
    "if __name__ == '__main__':\n",
    "    app.run()"
   ]
  },
  {
   "cell_type": "code",
   "execution_count": null,
   "id": "6ae888fc-cf56-4539-922b-61b4be064226",
   "metadata": {},
   "outputs": [
    {
     "name": "stdout",
     "output_type": "stream",
     "text": [
      " * Serving Flask app '__main__'\n",
      " * Debug mode: off\n"
     ]
    },
    {
     "name": "stderr",
     "output_type": "stream",
     "text": [
      "WARNING: This is a development server. Do not use it in a production deployment. Use a production WSGI server instead.\n",
      " * Running on http://127.0.0.1:5000\n",
      "Press CTRL+C to quit\n",
      "127.0.0.1 - - [27/Nov/2024 12:20:24] \"GET / HTTP/1.1\" 404 -\n",
      "127.0.0.1 - - [27/Nov/2024 12:20:33] \"GET /user/mousec HTTP/1.1\" 200 -\n",
      "127.0.0.1 - - [27/Nov/2024 12:20:38] \"GET /post/mousec HTTP/1.1\" 404 -\n",
      "127.0.0.1 - - [27/Nov/2024 12:20:42] \"GET /post/15 HTTP/1.1\" 200 -\n",
      "127.0.0.1 - - [27/Nov/2024 12:21:28] \"GET /post/-15 HTTP/1.1\" 404 -\n",
      "127.0.0.1 - - [27/Nov/2024 12:21:34] \"GET /post/115 HTTP/1.1\" 200 -\n"
     ]
    }
   ],
   "source": [
    "from flask import Flask,request,render_template\n",
    "app = Flask (__name__)\n",
    "\n",
    "@app.route('/hello')\n",
    "@app.route('/hello/<fname> <lname>')\n",
    "def hello_user(fname=None, lname=None):\n",
    "    return render_template('3.html', name=f'{fname} {lname} ')\n",
    "\n",
    "@app.get('/submit')\n",
    "def process_get_request_data():\n",
    "    fname = request.args['fname']\n",
    "    lname = request.args.get('lname', 'None')\n",
    "    return render_template('3.html', name=f'{fname} {lname} ')\n",
    "\n",
    "@app.post('/submit')\n",
    "def process_post_request_data():\n",
    "    fname = request.form['fname']\n",
    "    lname = request.form.get('lname', 'None')\n",
    "    return render_template('3.html', name=f'{fname} {lname} ')\n",
    "\n",
    "@app.route('/user/<username>')\n",
    "def show_user_profile(username):\n",
    "    return 'User %s' % username\n",
    "\n",
    "@app.route('/post/<int:post_id>')\n",
    "def show_post(post_id):\n",
    "    return 'Post %d' % post_id\n",
    "\n",
    "if __name__ == '__main__':\n",
    "    app.run()"
   ]
  },
  {
   "cell_type": "code",
   "execution_count": null,
   "id": "266de950-f774-4186-b1fb-2b061834357e",
   "metadata": {},
   "outputs": [
    {
     "name": "stdout",
     "output_type": "stream",
     "text": [
      " * Serving Flask app '__main__'\n",
      " * Debug mode: off\n"
     ]
    },
    {
     "name": "stderr",
     "output_type": "stream",
     "text": [
      "WARNING: This is a development server. Do not use it in a production deployment. Use a production WSGI server instead.\n",
      " * Running on http://127.0.0.1:5000\n",
      "Press CTRL+C to quit\n",
      "127.0.0.1 - - [27/Nov/2024 12:24:36] \"GET / HTTP/1.1\" 302 -\n",
      "127.0.0.1 - - [27/Nov/2024 12:24:36] \"GET /login HTTP/1.1\" 401 -\n"
     ]
    }
   ],
   "source": [
    "from flask import Flask, abort, redirect, url_for\n",
    "app = Flask (__name__)\n",
    "\n",
    "@app.route('/')\n",
    "def index():\n",
    "    return redirect(url_for('login'))\n",
    "\n",
    "@app.route('/login')\n",
    "def login():\n",
    "    abort(401)\n",
    "\n",
    "if __name__ == '__main__':\n",
    "    app.run()"
   ]
  },
  {
   "cell_type": "code",
   "execution_count": 1,
   "id": "8562a8db-44ff-4d84-899c-ac51115fd440",
   "metadata": {},
   "outputs": [],
   "source": [
    "from flask import Flask, abort, redirect, url_for,render_template_string,request\n",
    "app = Flask (__name__)\n",
    "\n",
    "items=[f'Элемент {i}' for i in range(1,101)]\n",
    "\n",
    "@app.route('/')\n",
    "def home():\n",
    "    page=int(request.args.get('page','1'))\n",
    "    per_page=10\n",
    "    start=(page-1)*per_page\n",
    "    end=start+per_page\n",
    "    paginated_items=items[start:end]\n",
    "\n",
    "    next_page=url_for(\"home\",page=page+1) if end<len(items) else None\n",
    "    prev_page = url_for(\"home\", page=page-1) if start > 0 else None\n",
    "\n",
    "    return render_template_string(\"\"\"\n",
    "    <h1>Добро пожаловать!</h1>\n",
    "    <p>Это главная страница с пагинацией.</p>\n",
    "    <ul>\n",
    "        {% for item in items %}\n",
    "        <li>{{ item }}</li>\n",
    "        {% endfor %}\n",
    "    </ul>\n",
    "    <div>\n",
    "        {% if prev_page %}\n",
    "        <a href=\"{{ prev_page }}\">Предыдущая</a>\n",
    "        {% endif %}\n",
    "        {% if next_page %}\n",
    "        <a href=\"{{ next_page }}\">Следующая</a>\n",
    "        {% endif %}\n",
    "    </div>\n",
    "    <a href=\"/about\">О проекте</a><br/>\n",
    "    <a href=\"/contact\">Контакты</a>\n",
    "    \"\"\", items=paginated_items, next_page=next_page,prev_page=prev_page)\n",
    "\n",
    "@app.route(\"/about\")\n",
    "def about():\n",
    "    return render_template_string(\"\"\"\n",
    "    <h1>О проекте</h1>\n",
    "    <p>Этот проект демонстрирует работу Flask с пагинацией и формами</p>\n",
    "    <a href=\"/\">На главную</a><br/>\n",
    "    <a href=\"/contact\">Контакты</a>\n",
    "    \"\"\")\n",
    "\n",
    "@app.route(\"/contact\", methods=[\"GET\",\"POST\"])\n",
    "def contact():\n",
    "    message=None\n",
    "    if request.method == \"POST\":\n",
    "        name=request.form.get(\"name\")\n",
    "        email=request.form.get(\"email\")\n",
    "        message=f'Спасибо за ваше сообщение, {name} ({email})!'\n",
    "\n",
    "    return render_template_string(\"\"\"\n",
    "    <h1>Контакты</h1>\n",
    "    {% if message %}\n",
    "    <p>{{ message }}</p>\n",
    "    {% else %}\n",
    "    <form method=\"POST\">\n",
    "        <label for=\"name\">Имя: </label><br/>\n",
    "        <input type=\"text\" id=\"name\" name= \"name\" required><br/>\n",
    "        <label for=\"email\">email: </label><br/>\n",
    "        <input type=\"email\" id=\"email\" name= \"email\" required><br/>\n",
    "        <button type=\"submit\">Отправить</button>\n",
    "    </form>\n",
    "    {% endif %}\n",
    "    <a href=\"/\">На главную</a><br/>\n",
    "    <a href=\"/about\">О проекте</a>\n",
    "    \"\"\", message=message)\n",
    "\n",
    "def run_app():\n",
    "    from werkzeug.serving import run_simple\n",
    "    run_simple(\"localhost\", 5000,app)"
   ]
  },
  {
   "cell_type": "code",
   "execution_count": 2,
   "id": "eb218e3a-b69b-4fe0-b5c5-7e0300e377ac",
   "metadata": {},
   "outputs": [
    {
     "name": "stderr",
     "output_type": "stream",
     "text": [
      "WARNING: This is a development server. Do not use it in a production deployment. Use a production WSGI server instead.\n",
      " * Running on http://localhost:5000\n",
      "Press CTRL+C to quit\n",
      "127.0.0.1 - - [27/Nov/2024 17:04:53] \"GET / HTTP/1.1\" 200 -\n",
      "127.0.0.1 - - [27/Nov/2024 17:04:58] \"GET /?page=2 HTTP/1.1\" 200 -\n",
      "127.0.0.1 - - [27/Nov/2024 17:05:06] \"GET /?page=3 HTTP/1.1\" 200 -\n",
      "127.0.0.1 - - [27/Nov/2024 17:05:25] \"GET /?page=4 HTTP/1.1\" 200 -\n",
      "127.0.0.1 - - [27/Nov/2024 17:05:26] \"GET /?page=5 HTTP/1.1\" 200 -\n",
      "127.0.0.1 - - [27/Nov/2024 17:05:26] \"GET /?page=4 HTTP/1.1\" 200 -\n",
      "127.0.0.1 - - [27/Nov/2024 17:05:26] \"GET /?page=3 HTTP/1.1\" 200 -\n",
      "127.0.0.1 - - [27/Nov/2024 17:05:27] \"GET /?page=2 HTTP/1.1\" 200 -\n",
      "127.0.0.1 - - [27/Nov/2024 17:05:27] \"GET /?page=1 HTTP/1.1\" 200 -\n"
     ]
    }
   ],
   "source": [
    "run_app()"
   ]
  },
  {
   "cell_type": "code",
   "execution_count": null,
   "id": "9226bd08-0db8-4dee-bddf-90f8e69f444a",
   "metadata": {},
   "outputs": [],
   "source": []
  }
 ],
 "metadata": {
  "kernelspec": {
   "display_name": "Python 3 (ipykernel)",
   "language": "python",
   "name": "python3"
  },
  "language_info": {
   "codemirror_mode": {
    "name": "ipython",
    "version": 3
   },
   "file_extension": ".py",
   "mimetype": "text/x-python",
   "name": "python",
   "nbconvert_exporter": "python",
   "pygments_lexer": "ipython3",
   "version": "3.12.4"
  }
 },
 "nbformat": 4,
 "nbformat_minor": 5
}
