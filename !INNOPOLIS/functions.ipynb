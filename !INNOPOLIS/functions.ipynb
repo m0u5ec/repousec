{
 "cells": [
  {
   "cell_type": "markdown",
   "id": "0311fe71",
   "metadata": {},
   "source": [
    "### Функции"
   ]
  },
  {
   "cell_type": "code",
   "execution_count": 1,
   "id": "78bc60e2",
   "metadata": {},
   "outputs": [],
   "source": [
    "def my_func():\n",
    "    print('Hello World!')"
   ]
  },
  {
   "cell_type": "code",
   "execution_count": 2,
   "id": "36d250c8",
   "metadata": {},
   "outputs": [
    {
     "name": "stdout",
     "output_type": "stream",
     "text": [
      "Hello World!\n"
     ]
    }
   ],
   "source": [
    "my_func()"
   ]
  },
  {
   "cell_type": "code",
   "execution_count": 8,
   "id": "446c0403",
   "metadata": {},
   "outputs": [],
   "source": [
    "def my_func(my_list):\n",
    "    for elem in my_list:\n",
    "        if isinstance(elem, int):\n",
    "            if elem % 2 == 0:\n",
    "                print(elem, end=' ')"
   ]
  },
  {
   "cell_type": "code",
   "execution_count": 9,
   "id": "14641d32",
   "metadata": {},
   "outputs": [
    {
     "name": "stdout",
     "output_type": "stream",
     "text": [
      "2 4 "
     ]
    }
   ],
   "source": [
    "my_func([1, 2, 3, 4, 'Yes'])"
   ]
  },
  {
   "cell_type": "code",
   "execution_count": 10,
   "id": "4ea9dcf0",
   "metadata": {},
   "outputs": [],
   "source": [
    "def my_func(name, age):\n",
    "    print(f'Вас зовут {name}. Вам {age} лет')"
   ]
  },
  {
   "cell_type": "code",
   "execution_count": 11,
   "id": "4a4db44a",
   "metadata": {},
   "outputs": [
    {
     "name": "stdout",
     "output_type": "stream",
     "text": [
      "Вас зовут Ivan. Вам 35 лет\n"
     ]
    }
   ],
   "source": [
    "my_func('Ivan', 35)"
   ]
  },
  {
   "cell_type": "code",
   "execution_count": 14,
   "id": "f5eb116a",
   "metadata": {},
   "outputs": [],
   "source": [
    "def my_func(num):\n",
    "    fib_list = [0, 1]\n",
    "    while len(fib_list) < num:\n",
    "        fib_list.append(fib_list[-1] + fib_list[-2])\n",
    "    print(fib_list[num - 1])"
   ]
  },
  {
   "cell_type": "code",
   "execution_count": 18,
   "id": "6a624cad",
   "metadata": {},
   "outputs": [
    {
     "ename": "TypeError",
     "evalue": "my_func() missing 1 required positional argument: 'num'",
     "output_type": "error",
     "traceback": [
      "\u001b[1;31m---------------------------------------------------------------------------\u001b[0m",
      "\u001b[1;31mTypeError\u001b[0m                                 Traceback (most recent call last)",
      "Cell \u001b[1;32mIn[18], line 1\u001b[0m\n\u001b[1;32m----> 1\u001b[0m my_func()\n",
      "\u001b[1;31mTypeError\u001b[0m: my_func() missing 1 required positional argument: 'num'"
     ]
    }
   ],
   "source": [
    "my_func(7)"
   ]
  },
  {
   "cell_type": "code",
   "execution_count": 19,
   "id": "d978a9db",
   "metadata": {},
   "outputs": [],
   "source": [
    "def my_func(user, is_admin=False):\n",
    "    if is_admin:\n",
    "        print(f'Привет {user}. Вы администратор')\n",
    "    else:\n",
    "        print(f'Привет {user}. Вы обычный пользователь')"
   ]
  },
  {
   "cell_type": "code",
   "execution_count": 20,
   "id": "6c85bcdc",
   "metadata": {},
   "outputs": [
    {
     "name": "stdout",
     "output_type": "stream",
     "text": [
      "Привет Ivan. Вы обычный пользователь\n"
     ]
    }
   ],
   "source": [
    "my_func('Ivan')"
   ]
  },
  {
   "cell_type": "code",
   "execution_count": 21,
   "id": "4f4aadcc",
   "metadata": {},
   "outputs": [
    {
     "ename": "SyntaxError",
     "evalue": "non-default argument follows default argument (3173834787.py, line 1)",
     "output_type": "error",
     "traceback": [
      "\u001b[1;36m  Cell \u001b[1;32mIn[21], line 1\u001b[1;36m\u001b[0m\n\u001b[1;33m    def my_func(is_admin=False, user):\u001b[0m\n\u001b[1;37m                                ^\u001b[0m\n\u001b[1;31mSyntaxError\u001b[0m\u001b[1;31m:\u001b[0m non-default argument follows default argument\n"
     ]
    }
   ],
   "source": [
    "def my_func(is_admin=False, user):\n",
    "    if is_admin:\n",
    "        print(f'Привет {user}. Вы администратор')\n",
    "    else:\n",
    "        print(f'Привет {user}. Вы обычный пользователь')"
   ]
  },
  {
   "cell_type": "code",
   "execution_count": 22,
   "id": "8152494d",
   "metadata": {},
   "outputs": [],
   "source": [
    "def my_func(user, is_admin=False):\n",
    "    if is_admin:\n",
    "        print(f'Привет {user}. Вы администратор')\n",
    "    else:\n",
    "        print(f'Привет {user}. Вы обычный пользователь')"
   ]
  },
  {
   "cell_type": "code",
   "execution_count": 24,
   "id": "c2bc500a",
   "metadata": {},
   "outputs": [
    {
     "name": "stdout",
     "output_type": "stream",
     "text": [
      "Привет Ivan. Вы администратор\n"
     ]
    }
   ],
   "source": [
    "my_func(is_admin=True, user='Ivan')"
   ]
  },
  {
   "cell_type": "code",
   "execution_count": 25,
   "id": "916e71ee",
   "metadata": {},
   "outputs": [],
   "source": [
    "def my_func(num):\n",
    "    fib_list = [0, 1]\n",
    "    while len(fib_list) < num:\n",
    "        fib_list.append(fib_list[-1] + fib_list[-2])\n",
    "    return fib_list[num - 1], fib_list"
   ]
  },
  {
   "cell_type": "code",
   "execution_count": 26,
   "id": "c886a985",
   "metadata": {},
   "outputs": [
    {
     "name": "stdout",
     "output_type": "stream",
     "text": [
      "8 [0, 1, 1, 2, 3, 5, 8]\n"
     ]
    }
   ],
   "source": [
    "result, result_list = my_func(7)\n",
    "print(result, result_list)"
   ]
  },
  {
   "cell_type": "code",
   "execution_count": 31,
   "id": "6143bd2d",
   "metadata": {},
   "outputs": [],
   "source": [
    "def my_func(num: int) -> tuple[int, list]:\n",
    "    fib_list = [0, 1]\n",
    "    while len(fib_list) < num:\n",
    "        fib_list.append(fib_list[-1] + fib_list[-2])\n",
    "    return fib_list[num - 1], fib_list"
   ]
  },
  {
   "cell_type": "code",
   "execution_count": 32,
   "id": "844aa5ac",
   "metadata": {},
   "outputs": [
    {
     "name": "stdout",
     "output_type": "stream",
     "text": [
      "8 [0, 1, 1, 2, 3, 5, 8]\n"
     ]
    }
   ],
   "source": [
    "result, result_list = my_func(7)\n",
    "print(result, result_list)"
   ]
  },
  {
   "cell_type": "code",
   "execution_count": 33,
   "id": "e225d6b5",
   "metadata": {},
   "outputs": [
    {
     "name": "stdout",
     "output_type": "stream",
     "text": [
      "Привет Ivan\n"
     ]
    }
   ],
   "source": [
    "name = 'Ivan'\n",
    "def get_name():\n",
    "    print(f'Привет {name}')\n",
    "get_name()"
   ]
  },
  {
   "cell_type": "code",
   "execution_count": 35,
   "id": "e197d3c8",
   "metadata": {},
   "outputs": [
    {
     "name": "stdout",
     "output_type": "stream",
     "text": [
      "Привет Ivan\n",
      "Petr\n"
     ]
    }
   ],
   "source": [
    "name = 'Petr'\n",
    "def get_name():\n",
    "    name = 'Ivan'\n",
    "    print(f'Привет {name}')\n",
    "get_name()\n",
    "print(name)"
   ]
  },
  {
   "cell_type": "code",
   "execution_count": 36,
   "id": "a2433df5",
   "metadata": {},
   "outputs": [
    {
     "name": "stdout",
     "output_type": "stream",
     "text": [
      "Привет Ivan\n",
      "Ivan\n"
     ]
    }
   ],
   "source": [
    "name = 'Petr'\n",
    "def get_name():\n",
    "    global name\n",
    "    name = 'Ivan'\n",
    "    print(f'Привет {name}')\n",
    "get_name()\n",
    "print(name)"
   ]
  },
  {
   "cell_type": "code",
   "execution_count": 37,
   "id": "ca84e3da",
   "metadata": {},
   "outputs": [
    {
     "name": "stdout",
     "output_type": "stream",
     "text": [
      "Ivan\n",
      "Petr 35\n",
      "Petr 35\n",
      "Petr 35\n",
      "Petr\n"
     ]
    }
   ],
   "source": [
    "name = 'Ivan'\n",
    "def func1():\n",
    "    global name\n",
    "    name = 'Petr'\n",
    "    age = 35\n",
    "    print(name, age)\n",
    "    def func2():\n",
    "        nonlocal age\n",
    "        age = 35\n",
    "        print(name, age)\n",
    "    func2()\n",
    "    print(name, age)\n",
    "print(name)\n",
    "func1()\n",
    "print(name)"
   ]
  },
  {
   "cell_type": "code",
   "execution_count": 38,
   "id": "4c1d5116",
   "metadata": {},
   "outputs": [],
   "source": [
    "def my_func(name, *args, **kwargs):\n",
    "    print(f'{name=}')\n",
    "    print(f'{args=}')\n",
    "    print(f'{kwargs=}')"
   ]
  },
  {
   "cell_type": "code",
   "execution_count": 39,
   "id": "dd81de5e",
   "metadata": {},
   "outputs": [
    {
     "name": "stdout",
     "output_type": "stream",
     "text": [
      "name='Ivan'\n",
      "args=('a', 'b', 25)\n",
      "kwargs={'a': 5, 'b': 10}\n"
     ]
    }
   ],
   "source": [
    "my_func('Ivan', 'a', 'b', 25, a=5,  b=10)"
   ]
  },
  {
   "cell_type": "code",
   "execution_count": 40,
   "id": "b64d89f0",
   "metadata": {},
   "outputs": [
    {
     "ename": "RecursionError",
     "evalue": "maximum recursion depth exceeded",
     "output_type": "error",
     "traceback": [
      "\u001b[1;31m---------------------------------------------------------------------------\u001b[0m",
      "\u001b[1;31mRecursionError\u001b[0m                            Traceback (most recent call last)",
      "Cell \u001b[1;32mIn[40], line 4\u001b[0m\n\u001b[0;32m      1\u001b[0m \u001b[38;5;28;01mdef\u001b[39;00m \u001b[38;5;21mmy_func\u001b[39m():\n\u001b[0;32m      2\u001b[0m     my_func()\n\u001b[1;32m----> 4\u001b[0m my_func()\n",
      "Cell \u001b[1;32mIn[40], line 2\u001b[0m, in \u001b[0;36mmy_func\u001b[1;34m()\u001b[0m\n\u001b[0;32m      1\u001b[0m \u001b[38;5;28;01mdef\u001b[39;00m \u001b[38;5;21mmy_func\u001b[39m():\n\u001b[1;32m----> 2\u001b[0m     my_func()\n",
      "Cell \u001b[1;32mIn[40], line 2\u001b[0m, in \u001b[0;36mmy_func\u001b[1;34m()\u001b[0m\n\u001b[0;32m      1\u001b[0m \u001b[38;5;28;01mdef\u001b[39;00m \u001b[38;5;21mmy_func\u001b[39m():\n\u001b[1;32m----> 2\u001b[0m     my_func()\n",
      "    \u001b[1;31m[... skipping similar frames: my_func at line 2 (2971 times)]\u001b[0m\n",
      "Cell \u001b[1;32mIn[40], line 2\u001b[0m, in \u001b[0;36mmy_func\u001b[1;34m()\u001b[0m\n\u001b[0;32m      1\u001b[0m \u001b[38;5;28;01mdef\u001b[39;00m \u001b[38;5;21mmy_func\u001b[39m():\n\u001b[1;32m----> 2\u001b[0m     my_func()\n",
      "\u001b[1;31mRecursionError\u001b[0m: maximum recursion depth exceeded"
     ]
    }
   ],
   "source": [
    "def my_func():\n",
    "    my_func()\n",
    "\n",
    "my_func()"
   ]
  },
  {
   "cell_type": "code",
   "execution_count": 41,
   "id": "b4de5918",
   "metadata": {},
   "outputs": [],
   "source": [
    "from sys import setrecursionlimit\n",
    "setrecursionlimit(2000)"
   ]
  },
  {
   "cell_type": "code",
   "execution_count": 45,
   "id": "5d02e379",
   "metadata": {},
   "outputs": [
    {
     "name": "stdout",
     "output_type": "stream",
     "text": [
      "Введите число членов последовательности:10\n",
      "Последовательность Фибоначчи:\n",
      "0 1 1 2 3 5 8 13 21 34 "
     ]
    }
   ],
   "source": [
    "def fib(n):\n",
    "    if (n <= 1):\n",
    "        return n\n",
    "    else:\n",
    "        return (fib(n-1) + fib(n-2))\n",
    "n = int(input(\"Введите число членов последовательности:\"))\n",
    "print(\"Последовательность Фибоначчи:\")\n",
    "for i in range(n):\n",
    "    print(fib(i), end=' ')"
   ]
  },
  {
   "cell_type": "code",
   "execution_count": null,
   "id": "ebb778a0",
   "metadata": {},
   "outputs": [],
   "source": []
  }
 ],
 "metadata": {
  "kernelspec": {
   "display_name": "Python 3 (ipykernel)",
   "language": "python",
   "name": "python3"
  },
  "language_info": {
   "codemirror_mode": {
    "name": "ipython",
    "version": 3
   },
   "file_extension": ".py",
   "mimetype": "text/x-python",
   "name": "python",
   "nbconvert_exporter": "python",
   "pygments_lexer": "ipython3",
   "version": "3.12.4"
  }
 },
 "nbformat": 4,
 "nbformat_minor": 5
}
