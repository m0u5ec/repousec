{
 "cells": [
  {
   "cell_type": "code",
   "execution_count": 1,
   "id": "40100c97",
   "metadata": {},
   "outputs": [],
   "source": [
    "# datetime"
   ]
  },
  {
   "cell_type": "code",
   "execution_count": 20,
   "id": "18e290ab",
   "metadata": {},
   "outputs": [
    {
     "name": "stdout",
     "output_type": "stream",
     "text": [
      "01:02:03\n",
      "Часы: 1\n",
      "Минуты: 2\n",
      "Секунды: 3\n",
      "Микросекунды: 0\n",
      "Временная зона: None\n"
     ]
    }
   ],
   "source": [
    "import datetime\n",
    "\n",
    "t = datetime.time(1, 2, 3)\n",
    "print(t)\n",
    "print(f'Часы: {t.hour}')\n",
    "print(f'Минуты: {t.minute}')\n",
    "print(f'Секунды: {t.second}')\n",
    "print(f'Микросекунды: {t.microsecond}')\n",
    "print(f'Временная зона: {t.tzinfo}')"
   ]
  },
  {
   "cell_type": "code",
   "execution_count": 11,
   "id": "402f77a3",
   "metadata": {},
   "outputs": [
    {
     "name": "stdout",
     "output_type": "stream",
     "text": [
      "Самое раннее: 00:00:00\n",
      "Самое позднее: 23:59:59.999999\n",
      "Разрешающая способность: 0:00:00.000001\n"
     ]
    }
   ],
   "source": [
    "print(f'Самое раннее: {datetime.time.min}')\n",
    "print(f'Самое позднее: {datetime.time.max}')\n",
    "print(f'Разрешающая способность: {datetime.time.resolution}')"
   ]
  },
  {
   "cell_type": "code",
   "execution_count": 17,
   "id": "6d1037dd",
   "metadata": {},
   "outputs": [
    {
     "name": "stdout",
     "output_type": "stream",
     "text": [
      "2023-11-20\n",
      "2023\n",
      "time.struct_time(tm_year=2023, tm_mon=11, tm_mday=20, tm_hour=0, tm_min=0, tm_sec=0, tm_wday=0, tm_yday=324, tm_isdst=-1)\n",
      "2023\n"
     ]
    }
   ],
   "source": [
    "today = datetime.date.today()\n",
    "print(today)\n",
    "print(today.year)\n",
    "td = today.timetuple()\n",
    "print(td)\n",
    "print(td.tm_year)"
   ]
  },
  {
   "cell_type": "code",
   "execution_count": 18,
   "id": "4c52f4e2",
   "metadata": {},
   "outputs": [
    {
     "name": "stdout",
     "output_type": "stream",
     "text": [
      "Самое раннее: 0001-01-01\n",
      "Самое позднее: 9999-12-31\n",
      "Разрешающая способность: 1 day, 0:00:00\n"
     ]
    }
   ],
   "source": [
    "print(f'Самое раннее: {datetime.date.min}')\n",
    "print(f'Самое позднее: {datetime.date.max}')\n",
    "print(f'Разрешающая способность: {datetime.date.resolution}')"
   ]
  },
  {
   "cell_type": "code",
   "execution_count": 19,
   "id": "8f24d0b3",
   "metadata": {},
   "outputs": [
    {
     "name": "stdout",
     "output_type": "stream",
     "text": [
      "d1: Mon Nov 20 00:00:00 2023\n",
      "d2: Mon Nov 20 00:00:00 2023\n"
     ]
    }
   ],
   "source": [
    "d1 = datetime.date(2023, 11, 20)\n",
    "print('d1:', d1.ctime())\n",
    "d2 = d1.replace(year=2023)\n",
    "print('d2:', d2.ctime())"
   ]
  },
  {
   "cell_type": "code",
   "execution_count": 22,
   "id": "c2bdd6f4",
   "metadata": {},
   "outputs": [
    {
     "name": "stdout",
     "output_type": "stream",
     "text": [
      "Микросекунды: 0:00:00.000001\n",
      "Миллисекунды: 0:00:00.001000\n",
      "Секунды: 0:00:01\n",
      "Минуты: 0:01:00\n",
      "Часы: 1:00:00\n",
      "Дни: 1 day, 0:00:00\n",
      "Недели: 7 days, 0:00:00\n"
     ]
    }
   ],
   "source": [
    "print('Микросекунды:', datetime.timedelta(microseconds=1))\n",
    "print('Миллисекунды:', datetime.timedelta(milliseconds=1))\n",
    "print('Секунды:', datetime.timedelta(seconds=1))\n",
    "print('Минуты:', datetime.timedelta(minutes=1))\n",
    "print('Часы:', datetime.timedelta(hours=1))\n",
    "print('Дни:', datetime.timedelta(days=1))\n",
    "print('Недели:', datetime.timedelta(weeks=1))"
   ]
  },
  {
   "cell_type": "code",
   "execution_count": 24,
   "id": "0837f54f",
   "metadata": {},
   "outputs": [
    {
     "name": "stdout",
     "output_type": "stream",
     "text": [
      "Сегодня: 2023-11-20\n",
      "1 день: 1 day, 0:00:00\n",
      "Вчера: 2023-11-19\n",
      "Завтра: 2023-11-21\n",
      "\n",
      "2 days, 0:00:00\n",
      "-2 days, 0:00:00\n"
     ]
    }
   ],
   "source": [
    "today = datetime.date.today()\n",
    "print('Сегодня:', today)\n",
    "one_day = datetime.timedelta(days=1)\n",
    "print('1 день:', one_day)\n",
    "yesterday = today - one_day\n",
    "print('Вчера:', yesterday)\n",
    "tomorrow = today + one_day\n",
    "print('Завтра:', tomorrow)\n",
    "print()\n",
    "print(tomorrow - yesterday)\n",
    "print(yesterday - tomorrow)"
   ]
  },
  {
   "cell_type": "code",
   "execution_count": 26,
   "id": "7da38aec",
   "metadata": {},
   "outputs": [
    {
     "name": "stdout",
     "output_type": "stream",
     "text": [
      "Время:\n",
      " tl: 12:55:00\n",
      "t2: 13:05:00\n",
      "tl < t2: True\n",
      "Даты: \n",
      "dl: 2023-11-20\n",
      "d2: 2023-11-21\n",
      "dl > d2: False\n"
     ]
    }
   ],
   "source": [
    "print('Время:')\n",
    "tl = datetime.time(12, 55, 0)\n",
    "print(' tl:', tl)\n",
    "t2 = datetime.time(13, 5, 0)\n",
    "print('t2:', t2)\n",
    "print('tl < t2:', tl < t2)\n",
    "print\n",
    "print('Даты: ')\n",
    "dl = datetime.date.today()\n",
    "print('dl:', dl)\n",
    "d2 = datetime.date.today() + datetime.timedelta(days=1)\n",
    "print('d2:', d2)\n",
    "print('dl > d2:', dl > d2)"
   ]
  },
  {
   "cell_type": "code",
   "execution_count": 31,
   "id": "6d564b95",
   "metadata": {},
   "outputs": [
    {
     "name": "stdout",
     "output_type": "stream",
     "text": [
      "Сейчас : 2023-11-20 15:13:37.981330\n",
      "Сейчас : 2023-11-20 15:13:37.981330\n",
      "Сейчас UTC: 2023-11-20 12:13:37.981330\n",
      "year        : 2023\n",
      "month       : 11\n",
      "day         : 20\n",
      "hour        : 15\n",
      "minute      : 13\n",
      "second      : 37\n",
      "microsecond : 981330\n"
     ]
    }
   ],
   "source": [
    "print('Сейчас :', datetime.datetime.now())\n",
    "print('Сейчас :', datetime.datetime.today())\n",
    "print('Сейчас UTC:', datetime.datetime.utcnow())\n",
    "print\n",
    "FIELDS = [\n",
    "'year', 'month', 'day',\n",
    "'hour', 'minute', 'second',\n",
    "'microsecond',\n",
    "]\n",
    "d = datetime.datetime.now()\n",
    "for attr in FIELDS:\n",
    "    print('{:12}: {}'.format(attr, getattr(d, attr)))\n"
   ]
  },
  {
   "cell_type": "code",
   "execution_count": 32,
   "id": "2ddc9a9e",
   "metadata": {},
   "outputs": [
    {
     "name": "stdout",
     "output_type": "stream",
     "text": [
      "0.4919369552644436\n",
      "10\n",
      "8\n",
      "банан\n",
      "[7, 5, 2]\n",
      "[3, 5, 1, 4, 2]\n"
     ]
    }
   ],
   "source": [
    "import random\n",
    "random_number = random.random()\n",
    "print(random_number)\n",
    "\n",
    "random_integer = random.randint(1, 10)\n",
    "print(random_integer)\n",
    "\n",
    "random_number = random.randrange(0, 10, 2)\n",
    "print(random_number)\n",
    "\n",
    "fruits = [\"яблоко\", \"банан\", \"вишня\", \"апельсин\"]\n",
    "random_fruit = random.choice(fruits)\n",
    "print(random_fruit)\n",
    "\n",
    "\n",
    "numbers = [1, 2, 3, 4, 5, 6, 7, 8, 9]\n",
    "random_sample = random.sample(numbers, 3)\n",
    "print(random_sample)\n",
    "\n",
    "numbers = [1, 2, 3, 4, 5]\n",
    "random.shuffle(numbers)\n",
    "print(numbers)"
   ]
  },
  {
   "cell_type": "code",
   "execution_count": 35,
   "id": "56f8480e",
   "metadata": {},
   "outputs": [
    {
     "name": "stdout",
     "output_type": "stream",
     "text": [
      "{'name': 'Viktor', 'age': 30, 'married': True, 'divorced': False, 'children': ('Anna', 'Bogdan'), 'pets': None, 'cars': [{'model': 'BMW 230', 'mpg': 27.5}, {'model': 'Ford Edge', 'mpg': 24.1}]}\n"
     ]
    }
   ],
   "source": [
    "from pprint import pprint\n",
    "\n",
    "x = {\n",
    "\"name\": \"Viktor\",\n",
    "\"age\": 30,\n",
    "\"married\": True,\n",
    "\"divorced\": False,\n",
    "\"children\": (\"Anna\",\"Bogdan\"),\n",
    "\"pets\": None,\n",
    "\"cars\": [\n",
    "{\"model\": \"BMW 230\", \"mpg\":  27.5},\n",
    "{\"model\": \"Ford Edge\", \"mpg\": 24.1}  \n",
    "]\n",
    "}\n",
    "print(x)"
   ]
  },
  {
   "cell_type": "code",
   "execution_count": 37,
   "id": "03fa6c63",
   "metadata": {},
   "outputs": [
    {
     "name": "stdout",
     "output_type": "stream",
     "text": [
      "{'age': 30,\n",
      " 'cars': [...],\n",
      " 'children': (...),\n",
      " 'divorced': False,\n",
      " 'married': True,\n",
      " 'name': 'Viktor',\n",
      " 'pets': None}\n"
     ]
    }
   ],
   "source": [
    "pprint(x, depth=1)"
   ]
  },
  {
   "cell_type": "code",
   "execution_count": 40,
   "id": "9ea4e5c1",
   "metadata": {},
   "outputs": [
    {
     "name": "stdout",
     "output_type": "stream",
     "text": [
      "<class 'str'>\n",
      "{'age': 30,\n",
      " 'cars': [{'model': 'BMW 230', 'mpg': 27.5},\n",
      "          {'model': 'Ford Edge', 'mpg': 24.1}],\n",
      " 'children': ('Anna', 'Bogdan'),\n",
      " 'divorced': False,\n",
      " 'married': True,\n",
      " 'name': 'Viktor',\n",
      " 'pets': None}\n"
     ]
    }
   ],
   "source": [
    "from pprint import pformat\n",
    "\n",
    "formatted_x = pformat(x)\n",
    "print(type(formatted_x))\n",
    "print(formatted_x)"
   ]
  },
  {
   "cell_type": "code",
   "execution_count": 41,
   "id": "58cb4a5e",
   "metadata": {},
   "outputs": [
    {
     "name": "stdout",
     "output_type": "stream",
     "text": [
      "{'name': 'Viktor',\n",
      " 'age': 30,\n",
      " 'married': True,\n",
      " 'divorced': False,\n",
      " 'children': ('Anna', 'Bogdan'),\n",
      " 'pets': None,\n",
      " 'cars': [{'model': 'BMW 230', 'mpg': 27.5},\n",
      "          {'model': 'Ford Edge', 'mpg': 24.1}]}\n"
     ]
    }
   ],
   "source": [
    "pprint(x, sort_dicts=False)"
   ]
  },
  {
   "cell_type": "code",
   "execution_count": 42,
   "id": "97b9deef",
   "metadata": {},
   "outputs": [
    {
     "name": "stdout",
     "output_type": "stream",
     "text": [
      "8.0\n",
      "8\n",
      "3.0\n",
      "5\n",
      "4\n",
      "179.9998479605043\n",
      "3.141592653589793\n",
      "0.5000000000000001\n",
      "1.0\n",
      "0.0\n",
      "3.0\n",
      "2.0\n"
     ]
    }
   ],
   "source": [
    "import math\n",
    " \n",
    "n1 = math.pow(2, 3)\n",
    "print(n1)\n",
    "\n",
    "n2 = 2 ** 3\n",
    "print(n2)\n",
    "print(math.sqrt(9))\n",
    "print(math.ceil(4.56))\n",
    "print(math.floor(4.56))\n",
    "print(math.degrees(3.14159))\n",
    "print(math.radians(180))\n",
    "print(math.cos(math.radians(60)))\n",
    "print(math.sin(math.radians(90)))\n",
    "print(math.tan(math.radians(0))) \n",
    "print(math.log(8,2))\n",
    "print(math.log10(100))"
   ]
  },
  {
   "cell_type": "code",
   "execution_count": 43,
   "id": "41b37421",
   "metadata": {},
   "outputs": [
    {
     "name": "stdout",
     "output_type": "stream",
     "text": [
      "2827.4333882308138\n",
      "2.302585092994046\n"
     ]
    }
   ],
   "source": [
    "radius = 30\n",
    "area = math.pi * math.pow(radius, 2)\n",
    "print(area)\n",
    "number = math.log(10, math.e)\n",
    "print(number)"
   ]
  },
  {
   "cell_type": "code",
   "execution_count": null,
   "id": "76500cfa",
   "metadata": {},
   "outputs": [],
   "source": []
  }
 ],
 "metadata": {
  "kernelspec": {
   "display_name": "Python 3 (ipykernel)",
   "language": "python",
   "name": "python3"
  },
  "language_info": {
   "codemirror_mode": {
    "name": "ipython",
    "version": 3
   },
   "file_extension": ".py",
   "mimetype": "text/x-python",
   "name": "python",
   "nbconvert_exporter": "python",
   "pygments_lexer": "ipython3",
   "version": "3.12.4"
  }
 },
 "nbformat": 4,
 "nbformat_minor": 5
}
