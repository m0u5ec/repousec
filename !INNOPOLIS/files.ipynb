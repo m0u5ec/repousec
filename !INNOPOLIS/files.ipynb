{
 "cells": [
  {
   "cell_type": "code",
   "execution_count": 1,
   "id": "10b55343",
   "metadata": {},
   "outputs": [],
   "source": [
    "import csv"
   ]
  },
  {
   "cell_type": "code",
   "execution_count": 6,
   "id": "81bc32c8",
   "metadata": {},
   "outputs": [
    {
     "name": "stdout",
     "output_type": "stream",
     "text": [
      "['username', 'course', 'progress']\n",
      "['ivan123', 'python', '90%']\n",
      "['petr2', 'python', '78%']\n",
      "['serg19', 'C#', '50% ']\n"
     ]
    }
   ],
   "source": [
    "with open('users.csv') as f:\n",
    "    reader = csv.reader(f, delimiter=',')\n",
    "    for row in reader:\n",
    "        print(row)"
   ]
  },
  {
   "cell_type": "code",
   "execution_count": 10,
   "id": "f5a94e37",
   "metadata": {},
   "outputs": [
    {
     "name": "stdout",
     "output_type": "stream",
     "text": [
      "[['username', 'course', 'progress'], ['ivan123', 'python', '90%'], ['petr2', 'python', '78%'], ['serg19', 'C#', '50% ']]\n"
     ]
    }
   ],
   "source": [
    "with open('users.csv') as f:\n",
    "    reader = csv.reader(f, delimiter=';')\n",
    "    print(list(reader))"
   ]
  },
  {
   "cell_type": "code",
   "execution_count": 13,
   "id": "ea3178e3",
   "metadata": {},
   "outputs": [
    {
     "name": "stdout",
     "output_type": "stream",
     "text": [
      "Заголовки:  username course progress\n",
      "ivan123 python 90%\n",
      "petr2 python 78%\n",
      "serg19 C# 50% \n"
     ]
    }
   ],
   "source": [
    "with open('users.csv') as f:\n",
    "    reader = csv.reader(f, delimiter=';')\n",
    "    headers = next(reader)\n",
    "    print('Заголовки: ', *headers)\n",
    "    for row in reader:\n",
    "        print(*row)"
   ]
  },
  {
   "cell_type": "code",
   "execution_count": 15,
   "id": "da8f936b",
   "metadata": {},
   "outputs": [
    {
     "name": "stdout",
     "output_type": "stream",
     "text": [
      "{'username': 'ivan123', 'course': 'python', 'progress': '90%'}\n",
      "ivan123 python\n",
      "{'username': 'petr2', 'course': 'python', 'progress': '78%'}\n",
      "petr2 python\n",
      "{'username': 'serg19', 'course': 'C#', 'progress': '50% '}\n",
      "serg19 C#\n"
     ]
    }
   ],
   "source": [
    "with open('users.csv') as f:\n",
    "    reader = csv.DictReader(f, delimiter=';')\n",
    "    for row in reader:\n",
    "        print(row)\n",
    "        print(row['username'], row['course'])"
   ]
  },
  {
   "cell_type": "code",
   "execution_count": 16,
   "id": "ba850e83",
   "metadata": {},
   "outputs": [],
   "source": [
    "data = [['username', 'course', 'progress'],\n",
    "        ['ivan123', 'Python', '90%'],\n",
    "        ['petr2', 'Python', '78%'],\n",
    "        ['serg19', 'C#', '50%'],\n",
    "        ['alex88', 'Java', '83%']]\n",
    "\n",
    "\n",
    "with open('new_users.csv', 'w') as f:\n",
    "    writer = csv.writer(f)\n",
    "    for row in data:\n",
    "        writer.writerow(row)"
   ]
  },
  {
   "cell_type": "code",
   "execution_count": 17,
   "id": "a60c84d5",
   "metadata": {},
   "outputs": [
    {
     "name": "stdout",
     "output_type": "stream",
     "text": [
      "username,course,progress\n",
      "\n",
      "ivan123,Python,90%\n",
      "\n",
      "petr2,Python,78%\n",
      "\n",
      "serg19,C#,50%\n",
      "\n",
      "alex88,Java,83%\n",
      "\n",
      "\n"
     ]
    }
   ],
   "source": [
    "with open('new_users.csv') as f:\n",
    "    print(f.read())"
   ]
  },
  {
   "cell_type": "code",
   "execution_count": 18,
   "id": "a5dcd45c",
   "metadata": {},
   "outputs": [],
   "source": [
    "data = [['username', 'course', 'progress'],\n",
    "        ['ivan123', 'Python', '90%'],\n",
    "        ['petr2', 'Python', '78%'],\n",
    "        ['serg19', 'C#', '50%'],\n",
    "        ['alex88', 'Java', '83%']]\n",
    "\n",
    "\n",
    "with open('new_users.csv', 'w') as f:\n",
    "    writer = csv.writer(f, quoting=csv.QUOTE_NONNUMERIC)\n",
    "    for row in data:\n",
    "        writer.writerow(row)"
   ]
  },
  {
   "cell_type": "code",
   "execution_count": 19,
   "id": "6c9cf6a4",
   "metadata": {},
   "outputs": [
    {
     "name": "stdout",
     "output_type": "stream",
     "text": [
      "\"username\",\"course\",\"progress\"\n",
      "\n",
      "\"ivan123\",\"Python\",\"90%\"\n",
      "\n",
      "\"petr2\",\"Python\",\"78%\"\n",
      "\n",
      "\"serg19\",\"C#\",\"50%\"\n",
      "\n",
      "\"alex88\",\"Java\",\"83%\"\n",
      "\n",
      "\n"
     ]
    }
   ],
   "source": [
    "with open('new_users.csv') as f:\n",
    "    print(f.read())"
   ]
  },
  {
   "cell_type": "code",
   "execution_count": 20,
   "id": "2ba328eb",
   "metadata": {},
   "outputs": [],
   "source": [
    "with open('new_users.csv', 'w') as f:\n",
    "    writer = csv.writer(f, quoting=csv.QUOTE_NONNUMERIC)\n",
    "    writer.writerows(data)"
   ]
  },
  {
   "cell_type": "code",
   "execution_count": 21,
   "id": "9effcbc1",
   "metadata": {},
   "outputs": [
    {
     "name": "stdout",
     "output_type": "stream",
     "text": [
      "\"username\",\"course\",\"progress\"\n",
      "\n",
      "\"ivan123\",\"Python\",\"90%\"\n",
      "\n",
      "\"petr2\",\"Python\",\"78%\"\n",
      "\n",
      "\"serg19\",\"C#\",\"50%\"\n",
      "\n",
      "\"alex88\",\"Java\",\"83%\"\n",
      "\n",
      "\n"
     ]
    }
   ],
   "source": [
    "with open('new_users.csv') as f:\n",
    "    print(f.read())"
   ]
  },
  {
   "cell_type": "code",
   "execution_count": 22,
   "id": "9554e2f5",
   "metadata": {},
   "outputs": [],
   "source": [
    "data = [{\n",
    "    'username': 'ivan123',\n",
    "    'course': 'Python',\n",
    "    'progress': '90%'\n",
    "}, {\n",
    "    'username': 'petr2',\n",
    "    'course': 'Python',\n",
    "    'progress': '78%'\n",
    "}, {\n",
    "    'username': 'serg19',\n",
    "    'course': 'C#',\n",
    "    'progress': '50%'\n",
    "}]\n",
    "with open('dict_users.csv', 'w') as f:\n",
    "    writer = csv.DictWriter(\n",
    "        f, fieldnames=list(data[0].keys()), quoting=csv.QUOTE_NONNUMERIC)\n",
    "    writer.writeheader()\n",
    "    for d in data:\n",
    "        writer.writerow(d)"
   ]
  },
  {
   "cell_type": "code",
   "execution_count": 23,
   "id": "df530237",
   "metadata": {},
   "outputs": [
    {
     "name": "stdout",
     "output_type": "stream",
     "text": [
      "\"username\",\"course\",\"progress\"\n",
      "\n",
      "\"ivan123\",\"Python\",\"90%\"\n",
      "\n",
      "\"petr2\",\"Python\",\"78%\"\n",
      "\n",
      "\"serg19\",\"C#\",\"50%\"\n",
      "\n",
      "\n"
     ]
    }
   ],
   "source": [
    "with open('dict_users.csv') as f:\n",
    "    print(f.read())"
   ]
  },
  {
   "cell_type": "code",
   "execution_count": 24,
   "id": "d7c4cde5",
   "metadata": {},
   "outputs": [],
   "source": [
    "{\n",
    "  \"access\": [\n",
    "    \"switchport mode access\",\n",
    "    \"switchport access vlan\",\n",
    "    \"switchport nonegotiate\",\n",
    "    \"spanning-tree portfast\",\n",
    "    \"spanning-tree bpduguard enable\"\n",
    "  ],\n",
    "  \"trunk\": [\n",
    "    \"switchport trunk encapsulation dot1q\",\n",
    "    \"switchport mode trunk\",\n",
    "    \"switchport trunk native vlan 999\",\n",
    "    \"switchport trunk allowed vlan\"\n",
    "  ]\n",
    "}"
   ]
  },
  {
   "cell_type": "code",
   "execution_count": 27,
   "id": "9c14f3eb",
   "metadata": {},
   "outputs": [
    {
     "name": "stdout",
     "output_type": "stream",
     "text": [
      "{'access': ['switchport mode access', 'switchport access vlan', 'switchport nonegotiate', 'spanning-tree portfast', 'spanning-tree bpduguard enable'], 'trunk': ['switchport trunk encapsulation dot1q', 'switchport mode trunk', 'switchport trunk native vlan 999', 'switchport trunk allowed vlan']}\n",
      "access\n",
      "switchport mode access\n",
      "switchport access vlan\n",
      "switchport nonegotiate\n",
      "spanning-tree portfast\n",
      "spanning-tree bpduguard enable\n",
      "trunk\n",
      "switchport trunk encapsulation dot1q\n",
      "switchport mode trunk\n",
      "switchport trunk native vlan 999\n",
      "switchport trunk allowed vlan\n"
     ]
    }
   ],
   "source": [
    "import json\n",
    "\n",
    "with open('example.json') as f:\n",
    "    templates = json.load(f)\n",
    "\n",
    "print(templates)\n",
    "\n",
    "for section, commands in templates.items():\n",
    "    print(section)\n",
    "    print('\\n'.join(commands))"
   ]
  },
  {
   "cell_type": "code",
   "execution_count": 28,
   "id": "8f34e966",
   "metadata": {},
   "outputs": [
    {
     "name": "stdout",
     "output_type": "stream",
     "text": [
      "{'access': ['switchport mode access', 'switchport access vlan', 'switchport nonegotiate', 'spanning-tree portfast', 'spanning-tree bpduguard enable'], 'trunk': ['switchport trunk encapsulation dot1q', 'switchport mode trunk', 'switchport trunk native vlan 999', 'switchport trunk allowed vlan']}\n",
      "access\n",
      "switchport mode access\n",
      "switchport access vlan\n",
      "switchport nonegotiate\n",
      "spanning-tree portfast\n",
      "spanning-tree bpduguard enable\n",
      "trunk\n",
      "switchport trunk encapsulation dot1q\n",
      "switchport mode trunk\n",
      "switchport trunk native vlan 999\n",
      "switchport trunk allowed vlan\n"
     ]
    }
   ],
   "source": [
    "with open('example.json') as f:\n",
    "    file_content = f.read()\n",
    "    templates = json.loads(file_content)\n",
    "\n",
    "print(templates)\n",
    "\n",
    "for section, commands in templates.items():\n",
    "    print(section)\n",
    "    print('\\n'.join(commands))"
   ]
  },
  {
   "cell_type": "code",
   "execution_count": 29,
   "id": "cc829d9d",
   "metadata": {},
   "outputs": [],
   "source": [
    "import json\n",
    "\n",
    "trunk_template = [\n",
    "    'switchport trunk encapsulation dot1q', 'switchport mode trunk',\n",
    "    'switchport trunk native vlan 999', 'switchport trunk allowed vlan'\n",
    "]\n",
    "\n",
    "access_template = [\n",
    "    'switchport mode access', 'switchport access vlan',\n",
    "    'switchport nonegotiate', 'spanning-tree portfast',\n",
    "    'spanning-tree bpduguard enable'\n",
    "]\n",
    "\n",
    "to_json = {'trunk': trunk_template, 'access': access_template}\n",
    "\n",
    "with open('example1.json', 'w') as f:\n",
    "    json.dump(to_json, f)"
   ]
  },
  {
   "cell_type": "code",
   "execution_count": 30,
   "id": "e360f16a",
   "metadata": {},
   "outputs": [
    {
     "name": "stdout",
     "output_type": "stream",
     "text": [
      "{\"trunk\": [\"switchport trunk encapsulation dot1q\", \"switchport mode trunk\", \"switchport trunk native vlan 999\", \"switchport trunk allowed vlan\"], \"access\": [\"switchport mode access\", \"switchport access vlan\", \"switchport nonegotiate\", \"spanning-tree portfast\", \"spanning-tree bpduguard enable\"]}\n"
     ]
    }
   ],
   "source": [
    "with open('example1.json') as f:\n",
    "    print(f.read())"
   ]
  },
  {
   "cell_type": "code",
   "execution_count": 33,
   "id": "2a288552",
   "metadata": {},
   "outputs": [],
   "source": [
    "import json\n",
    "\n",
    "trunk_template = [\n",
    "    'switchport trunk encapsulation dot1q', 'switchport mode trunk',\n",
    "    'switchport trunk native vlan 999', 'switchport trunk allowed vlan'\n",
    "]\n",
    "\n",
    "access_template = [\n",
    "    'switchport mode access', 'switchport access vlan',\n",
    "    'switchport nonegotiate', 'spanning-tree portfast',\n",
    "    'spanning-tree bpduguard enable'\n",
    "]\n",
    "\n",
    "to_json = {'trunk': trunk_template, 'access': access_template}\n",
    "\n",
    "with open('example2.json', 'w') as f:\n",
    "    f.write(json.dumps(to_json))"
   ]
  },
  {
   "cell_type": "code",
   "execution_count": 34,
   "id": "c886b25e",
   "metadata": {},
   "outputs": [
    {
     "name": "stdout",
     "output_type": "stream",
     "text": [
      "{\"trunk\": [\"switchport trunk encapsulation dot1q\", \"switchport mode trunk\", \"switchport trunk native vlan 999\", \"switchport trunk allowed vlan\"], \"access\": [\"switchport mode access\", \"switchport access vlan\", \"switchport nonegotiate\", \"spanning-tree portfast\", \"spanning-tree bpduguard enable\"]}\n"
     ]
    }
   ],
   "source": [
    "with open('example2.json') as f:\n",
    "    print(f.read())"
   ]
  },
  {
   "cell_type": "code",
   "execution_count": 35,
   "id": "da4a8b72",
   "metadata": {},
   "outputs": [],
   "source": [
    "import json\n",
    "\n",
    "trunk_template = [\n",
    "    'switchport trunk encapsulation dot1q', 'switchport mode trunk',\n",
    "    'switchport trunk native vlan 999', 'switchport trunk allowed vlan'\n",
    "]\n",
    "\n",
    "access_template = [\n",
    "    'switchport mode access', 'switchport access vlan',\n",
    "    'switchport nonegotiate', 'spanning-tree portfast',\n",
    "    'spanning-tree bpduguard enable'\n",
    "]\n",
    "\n",
    "to_json = {'trunk': trunk_template, 'access': access_template}\n",
    "\n",
    "with open('example3.json', 'w') as f:\n",
    "    json.dump(to_json, f, sort_keys=True, indent=2)"
   ]
  },
  {
   "cell_type": "code",
   "execution_count": 39,
   "id": "a12b9b3f",
   "metadata": {},
   "outputs": [
    {
     "name": "stdout",
     "output_type": "stream",
     "text": [
      "{\n",
      "  \"access\": [\n",
      "    \"switchport mode access\",\n",
      "    \"switchport access vlan\",\n",
      "    \"switchport nonegotiate\",\n",
      "    \"spanning-tree portfast\",\n",
      "    \"spanning-tree bpduguard enable\"\n",
      "  ],\n",
      "  \"trunk\": [\n",
      "    \"switchport trunk encapsulation dot1q\",\n",
      "    \"switchport mode trunk\",\n",
      "    \"switchport trunk native vlan 999\",\n",
      "    \"switchport trunk allowed vlan\"\n",
      "  ]\n",
      "}\n"
     ]
    }
   ],
   "source": [
    "\n",
    "with open('example3.json') as f:\n",
    "    print(f.read())"
   ]
  },
  {
   "cell_type": "code",
   "execution_count": 43,
   "id": "d3600488",
   "metadata": {},
   "outputs": [
    {
     "name": "stdout",
     "output_type": "stream",
     "text": [
      "ValCurs {'ID': 'R01235', 'DateRange1': '02.03.2001', 'DateRange2': '14.03.2001', 'name': 'Foreign Currency Market Dynamic'}\n",
      "Record {'Date': '02.03.2001', 'Id': 'R01235'}\n",
      "Nominal {}\n",
      "Value {}\n",
      "VunitRate {}\n",
      "Record {'Date': '03.03.2001', 'Id': 'R01235'}\n",
      "Nominal {}\n",
      "Value {}\n",
      "VunitRate {}\n",
      "Record {'Date': '06.03.2001', 'Id': 'R01235'}\n",
      "Nominal {}\n",
      "Value {}\n",
      "VunitRate {}\n",
      "Record {'Date': '07.03.2001', 'Id': 'R01235'}\n",
      "Nominal {}\n",
      "Value {}\n",
      "VunitRate {}\n",
      "Record {'Date': '08.03.2001', 'Id': 'R01235'}\n",
      "Nominal {}\n",
      "Value {}\n",
      "VunitRate {}\n",
      "Record {'Date': '12.03.2001', 'Id': 'R01235'}\n",
      "Nominal {}\n",
      "Value {}\n",
      "VunitRate {}\n",
      "Record {'Date': '13.03.2001', 'Id': 'R01235'}\n",
      "Nominal {}\n",
      "Value {}\n",
      "VunitRate {}\n",
      "Record {'Date': '14.03.2001', 'Id': 'R01235'}\n",
      "Nominal {}\n",
      "Value {}\n",
      "VunitRate {}\n"
     ]
    }
   ],
   "source": [
    "import xml.etree.ElementTree as ET\n",
    " \n",
    "tree = ET.parse('xml_file.xml')\n",
    "root = tree.getroot()\n",
    "for elem in root.iter():\n",
    "    print(elem.tag, elem.attrib)\n"
   ]
  },
  {
   "cell_type": "code",
   "execution_count": 45,
   "id": "0b1a13c8",
   "metadata": {},
   "outputs": [
    {
     "name": "stdout",
     "output_type": "stream",
     "text": [
      "{'Date': '02.03.2001', 'Id': 'R01235'}\n",
      "{'Date': '03.03.2001', 'Id': 'R01235'}\n",
      "{'Date': '06.03.2001', 'Id': 'R01235'}\n",
      "{'Date': '07.03.2001', 'Id': 'R01235'}\n",
      "{'Date': '08.03.2001', 'Id': 'R01235'}\n",
      "{'Date': '12.03.2001', 'Id': 'R01235'}\n",
      "{'Date': '13.03.2001', 'Id': 'R01235'}\n",
      "{'Date': '14.03.2001', 'Id': 'R01235'}\n"
     ]
    }
   ],
   "source": [
    "for elem in root.findall('Record'):\n",
    "    print(elem.attrib)"
   ]
  },
  {
   "cell_type": "code",
   "execution_count": 48,
   "id": "df842c5b",
   "metadata": {},
   "outputs": [],
   "source": [
    "for elem in root.iter('Record'):\n",
    "    elem.set('Id', '1111')"
   ]
  },
  {
   "cell_type": "code",
   "execution_count": 49,
   "id": "02e5bf99",
   "metadata": {},
   "outputs": [
    {
     "name": "stdout",
     "output_type": "stream",
     "text": [
      "{'Date': '02.03.2001', 'Id': '1111'}\n",
      "{'Date': '03.03.2001', 'Id': '1111'}\n",
      "{'Date': '06.03.2001', 'Id': '1111'}\n",
      "{'Date': '07.03.2001', 'Id': '1111'}\n",
      "{'Date': '08.03.2001', 'Id': '1111'}\n",
      "{'Date': '12.03.2001', 'Id': '1111'}\n",
      "{'Date': '13.03.2001', 'Id': '1111'}\n",
      "{'Date': '14.03.2001', 'Id': '1111'}\n"
     ]
    }
   ],
   "source": [
    "for elem in root.findall('Record'):\n",
    "    print(elem.attrib)"
   ]
  },
  {
   "cell_type": "code",
   "execution_count": 51,
   "id": "ab8b6a47",
   "metadata": {},
   "outputs": [],
   "source": [
    "new_elem = ET.Element('Example')\n",
    "new_elem.set('attribute_name', 'attribute_value')\n",
    "new_elem.text = 'element_text'\n",
    "root.append(new_elem)"
   ]
  },
  {
   "cell_type": "code",
   "execution_count": 54,
   "id": "bbcd4956",
   "metadata": {},
   "outputs": [
    {
     "name": "stdout",
     "output_type": "stream",
     "text": [
      "ValCurs <Element 'ValCurs' at 0x00000251D565B100>\n",
      "Record <Element 'Record' at 0x00000251D5659A80>\n",
      "Nominal <Element 'Nominal' at 0x00000251D56596C0>\n",
      "Value <Element 'Value' at 0x00000251D565B3D0>\n",
      "VunitRate <Element 'VunitRate' at 0x00000251D565B420>\n",
      "Record <Element 'Record' at 0x00000251D565B470>\n",
      "Nominal <Element 'Nominal' at 0x00000251D565B4C0>\n",
      "Value <Element 'Value' at 0x00000251D565B510>\n",
      "VunitRate <Element 'VunitRate' at 0x00000251D565B560>\n",
      "Record <Element 'Record' at 0x00000251D565B5B0>\n",
      "Nominal <Element 'Nominal' at 0x00000251D565B600>\n",
      "Value <Element 'Value' at 0x00000251D565B650>\n",
      "VunitRate <Element 'VunitRate' at 0x00000251D565B6A0>\n",
      "Record <Element 'Record' at 0x00000251D565B6F0>\n",
      "Nominal <Element 'Nominal' at 0x00000251D565B740>\n",
      "Value <Element 'Value' at 0x00000251D565B790>\n",
      "VunitRate <Element 'VunitRate' at 0x00000251D565B7E0>\n",
      "Record <Element 'Record' at 0x00000251D565B830>\n",
      "Nominal <Element 'Nominal' at 0x00000251D565B880>\n",
      "Value <Element 'Value' at 0x00000251D565B8D0>\n",
      "VunitRate <Element 'VunitRate' at 0x00000251D565B920>\n",
      "Record <Element 'Record' at 0x00000251D565B970>\n",
      "Nominal <Element 'Nominal' at 0x00000251D565B9C0>\n",
      "Value <Element 'Value' at 0x00000251D565BA10>\n",
      "VunitRate <Element 'VunitRate' at 0x00000251D565BA60>\n",
      "Record <Element 'Record' at 0x00000251D565BAB0>\n",
      "Nominal <Element 'Nominal' at 0x00000251D565BB00>\n",
      "Value <Element 'Value' at 0x00000251D565BB50>\n",
      "VunitRate <Element 'VunitRate' at 0x00000251D565BBA0>\n",
      "Record <Element 'Record' at 0x00000251D565BBF0>\n",
      "Nominal <Element 'Nominal' at 0x00000251D565BC40>\n",
      "Value <Element 'Value' at 0x00000251D565BC90>\n",
      "VunitRate <Element 'VunitRate' at 0x00000251D565BCE0>\n",
      "Example <Element 'Example' at 0x00000251D5E5D4E0>\n"
     ]
    }
   ],
   "source": [
    "for elem in root.iter():\n",
    "    print(elem.tag, elem)"
   ]
  },
  {
   "cell_type": "code",
   "execution_count": 55,
   "id": "da8f7304",
   "metadata": {},
   "outputs": [],
   "source": [
    "tree.write('example.xml')"
   ]
  },
  {
   "cell_type": "code",
   "execution_count": 56,
   "id": "33002ce9",
   "metadata": {},
   "outputs": [
    {
     "data": {
      "text/plain": [
       "{'type': 'record',\n",
       " 'namespace': 'notificator',\n",
       " 'name': 'out',\n",
       " 'doc': 'HTTP нотификация',\n",
       " 'fields': [{'doc': 'id задания', 'name': 'id', 'type': 'long'},\n",
       "  {'name': 'datetime',\n",
       "   'doc': 'время постановки задания',\n",
       "   'type': {'type': 'long', 'logicalType': 'timestamp-millis'}},\n",
       "  {'doc': 'источник нотификации',\n",
       "   'name': 'source',\n",
       "   'type': ['null', 'string']},\n",
       "  {'doc': 'Метод',\n",
       "   'name': 'method',\n",
       "   'default': 'POST',\n",
       "   'type': {'type': 'enum', 'name': 'methods', 'symbols': ['POST', 'GET']}},\n",
       "  {'name': 'url', 'type': 'string'},\n",
       "  {'name': 'headers', 'type': {'type': 'map', 'values': 'string'}},\n",
       "  {'doc': 'body', 'name': 'body', 'type': 'bytes'}]}"
      ]
     },
     "execution_count": 56,
     "metadata": {},
     "output_type": "execute_result"
    }
   ],
   "source": [
    "pip install fastavro"
   ]
  },
  {
   "cell_type": "code",
   "execution_count": 67,
   "id": "d8c19fb2",
   "metadata": {},
   "outputs": [
    {
     "name": "stdout",
     "output_type": "stream",
     "text": [
      "{'station': '011990-99999', 'time': 1433269388, 'temp': 0}\n",
      "{'station': '011990-99999', 'time': 1433270389, 'temp': 22}\n",
      "{'station': '011990-99999', 'time': 1433273379, 'temp': -11}\n",
      "{'station': '012650-99999', 'time': 1433275478, 'temp': 111}\n"
     ]
    }
   ],
   "source": [
    "from fastavro import writer, reader, parse_schema\n",
    "\n",
    "schema = {\n",
    "    'doc': 'A weather reading.',\n",
    "    'name': 'Weather',\n",
    "    'namespace': 'test',\n",
    "    'type': 'record',\n",
    "    'fields': [\n",
    "        {'name': 'station', 'type': 'string'},\n",
    "        {'name': 'time', 'type': 'long'},\n",
    "        {'name': 'temp', 'type': 'int'},\n",
    "    ],\n",
    "}\n",
    "parsed_schema = parse_schema(schema)\n",
    "\n",
    "records = [\n",
    "    {u'station': u'011990-99999', u'temp': 0, u'time': 1433269388},\n",
    "    {u'station': u'011990-99999', u'temp': 22, u'time': 1433270389},\n",
    "    {u'station': u'011990-99999', u'temp': -11, u'time': 1433273379},\n",
    "    {u'station': u'012650-99999', u'temp': 111, u'time': 1433275478},\n",
    "]\n",
    "\n",
    "with open('weather.avro', 'wb') as out:\n",
    "    writer(out, parsed_schema, records)"
   ]
  },
  {
   "cell_type": "code",
   "execution_count": 68,
   "id": "ee23912b",
   "metadata": {},
   "outputs": [
    {
     "name": "stdout",
     "output_type": "stream",
     "text": [
      "{'type': 'record', 'doc': 'A weather reading.', 'name': 'test.Weather', 'fields': [{'name': 'station', 'type': 'string'}, {'name': 'time', 'type': 'long'}, {'name': 'temp', 'type': 'int'}]}\n"
     ]
    },
    {
     "name": "stderr",
     "output_type": "stream",
     "text": [
      "C:\\Users\\rusla\\AppData\\Local\\Temp\\ipykernel_11340\\138560851.py:5: DeprecationWarning: The 'schema' attribute is deprecated. Please use 'writer_schema'\n",
      "  print(avro_reader.schema)\n"
     ]
    }
   ],
   "source": [
    "with open('weather.avro', 'rb') as fo:\n",
    "    for record in reader(fo):\n",
    "        print(record)"
   ]
  },
  {
   "cell_type": "code",
   "execution_count": null,
   "id": "a331c6ac",
   "metadata": {},
   "outputs": [],
   "source": []
  },
  {
   "cell_type": "code",
   "execution_count": null,
   "id": "6482f459",
   "metadata": {},
   "outputs": [],
   "source": []
  }
 ],
 "metadata": {
  "kernelspec": {
   "display_name": "Python 3 (ipykernel)",
   "language": "python",
   "name": "python3"
  },
  "language_info": {
   "codemirror_mode": {
    "name": "ipython",
    "version": 3
   },
   "file_extension": ".py",
   "mimetype": "text/x-python",
   "name": "python",
   "nbconvert_exporter": "python",
   "pygments_lexer": "ipython3",
   "version": "3.12.4"
  }
 },
 "nbformat": 4,
 "nbformat_minor": 5
}
