{
 "cells": [
  {
   "cell_type": "code",
   "execution_count": 1,
   "id": "dac1183a-bf48-4f5c-bde8-1e352bce52d6",
   "metadata": {},
   "outputs": [
    {
     "name": "stdin",
     "output_type": "stream",
     "text": [
      "Введите начало диапазона:  пв\n"
     ]
    },
    {
     "name": "stdout",
     "output_type": "stream",
     "text": [
      "Начало и конец диапазона должны быть числовыми значениями!\n"
     ]
    },
    {
     "name": "stdin",
     "output_type": "stream",
     "text": [
      "Введите начало диапазона:  4\n",
      "Введите конец диапазона:  1\n"
     ]
    },
    {
     "name": "stdout",
     "output_type": "stream",
     "text": [
      "Начало диапазона должно быть меньше конца!\n"
     ]
    },
    {
     "name": "stdin",
     "output_type": "stream",
     "text": [
      "Введите начало диапазона:  1\n",
      "Введите конец диапазона:  2\n"
     ]
    },
    {
     "name": "stdout",
     "output_type": "stream",
     "text": [
      "1  не делится ни на 3, ни на 5\n",
      "2  не делится ни на 3, ни на 5\n",
      "Итого:\n",
      "Кратны 3м или 5ти  0  чисел:  []\n",
      "На ноль делить нельзя!\n"
     ]
    },
    {
     "name": "stdin",
     "output_type": "stream",
     "text": [
      "Введите начало диапазона:  1\n",
      "Введите конец диапазона:  9\n"
     ]
    },
    {
     "name": "stdout",
     "output_type": "stream",
     "text": [
      "1  не делится ни на 3, ни на 5\n",
      "2  не делится ни на 3, ни на 5\n",
      "4  не делится ни на 3, ни на 5\n",
      "7  не делится ни на 3, ни на 5\n",
      "8  не делится ни на 3, ни на 5\n",
      "Итого:\n",
      "Кратны 3м или 5ти  4  чисел:  [3, 5, 6, 9]\n",
      "Их среднее значение:  5.75\n"
     ]
    },
    {
     "name": "stdin",
     "output_type": "stream",
     "text": [
      "Повторим (да / нет)?  нет\n"
     ]
    }
   ],
   "source": [
    "state='' \n",
    "N=1\n",
    "while state !='нет':\n",
    "    try:\n",
    "        num1 = int(input('Введите начало диапазона: '))\n",
    "        num2 = int(input('Введите конец диапазона: '))\n",
    "        if num1 >= num2:\n",
    "            raise OverflowError\n",
    "        avg = 0\n",
    "        avg_i = 0\n",
    "        avg_set = []\n",
    "        for i in range(num1, num2+1):\n",
    "            match (i % 3) * (i % 5):\n",
    "                case 0:\n",
    "                    avg += i\n",
    "                    avg_i += 1\n",
    "                    avg_set.append(i)\n",
    "                case _:\n",
    "                    print (i,' не делится ни на 3, ни на 5')\n",
    "        print('Итого:')\n",
    "        print('Кратны 3м или 5ти ', avg_i,' чисел: ', avg_set)\n",
    "        print('Их среднее значение: ', avg/avg_i)\n",
    "    except ValueError:\n",
    "        print('Начало и конец диапазона должны быть числовыми значениями!')\n",
    "        if N>5:\n",
    "            print('Превышено количество неудачных попыток!')\n",
    "            break\n",
    "        else:\n",
    "            N += 1\n",
    "    except OverflowError:\n",
    "        print('Начало диапазона должно быть меньше конца!')\n",
    "        if N>5:\n",
    "            print('Превышено количество неудачных попыток!')\n",
    "            break\n",
    "        else:\n",
    "            N += 1\n",
    "    except ZeroDivisionError:\n",
    "        print('На ноль делить нельзя!')\n",
    "        if N>5:\n",
    "            print('Превышено количество неудачных попыток!')\n",
    "            break\n",
    "        else:\n",
    "            N += 1\n",
    "    else:\n",
    "        state = input('Повторим (да / нет)? ').lower()"
   ]
  },
  {
   "cell_type": "code",
   "execution_count": null,
   "id": "5aed2e53-d8a4-409e-817b-54cf28003aa2",
   "metadata": {},
   "outputs": [],
   "source": []
  },
  {
   "cell_type": "code",
   "execution_count": null,
   "id": "7349317f-c20d-4f80-bd16-5f44fcce6715",
   "metadata": {},
   "outputs": [],
   "source": []
  }
 ],
 "metadata": {
  "kernelspec": {
   "display_name": "Python 3 (ipykernel)",
   "language": "python",
   "name": "python3"
  },
  "language_info": {
   "codemirror_mode": {
    "name": "ipython",
    "version": 3
   },
   "file_extension": ".py",
   "mimetype": "text/x-python",
   "name": "python",
   "nbconvert_exporter": "python",
   "pygments_lexer": "ipython3",
   "version": "3.12.4"
  }
 },
 "nbformat": 4,
 "nbformat_minor": 5
}
