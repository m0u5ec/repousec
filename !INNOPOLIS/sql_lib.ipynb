{
 "cells": [
  {
   "cell_type": "code",
   "execution_count": 1,
   "id": "cb6f7fdc",
   "metadata": {},
   "outputs": [],
   "source": [
    "import os\n",
    "import sqlite3"
   ]
  },
  {
   "cell_type": "code",
   "execution_count": 2,
   "id": "44198fd4",
   "metadata": {},
   "outputs": [
    {
     "name": "stdout",
     "output_type": "stream",
     "text": [
      "База данных существует\n"
     ]
    }
   ],
   "source": [
    "db_filename = 'test.db'\n",
    "db_is_new = not os.path.exists(db_filename)\n",
    "conn = sqlite3.connect(db_filename)\n",
    "if db_is_new:\n",
    "    print('Требуется создать схему')\n",
    "else:\n",
    "    print('База данных существует')\n",
    "conn.close()"
   ]
  },
  {
   "cell_type": "code",
   "execution_count": 3,
   "id": "6d85ddfe",
   "metadata": {},
   "outputs": [
    {
     "name": "stdout",
     "output_type": "stream",
     "text": [
      "База данных существует\n",
      "<sqlite3.Cursor object at 0x000001FE4B714040>\n"
     ]
    }
   ],
   "source": [
    "db_filename = 'test.db'\n",
    "db_is_new = not os.path.exists(db_filename)\n",
    "conn = sqlite3.connect(db_filename)\n",
    "if db_is_new:\n",
    "    print('Требуется создать схему')\n",
    "else:\n",
    "    print('База данных существует')\n",
    "cur = conn.cursor()\n",
    "print(cur)\n",
    "conn.close()"
   ]
  },
  {
   "cell_type": "code",
   "execution_count": 4,
   "id": "1e24a858",
   "metadata": {},
   "outputs": [
    {
     "name": "stdout",
     "output_type": "stream",
     "text": [
      "База данных существует\n"
     ]
    }
   ],
   "source": [
    "db_filename = 'test.db'\n",
    "db_is_new = not os.path.exists(db_filename)\n",
    "conn = sqlite3.connect(db_filename)\n",
    "if db_is_new:\n",
    "    print('Требуется создать схему')\n",
    "else:\n",
    "    print('База данных существует')\n",
    "cur = conn.cursor()\n",
    "cur.execute(\"\"\"CREATE TABLE IF NOT EXISTS project(\n",
    "            name text primary key,\n",
    "            description text,\n",
    "            deadline date);\"\"\")\n",
    "cur.execute(\"\"\"CREATE TABLE IF NOT EXISTS task(\n",
    "            id integer primary key autoincrement not null,\n",
    "            priority integer default 1,\n",
    "            details text,\n",
    "            status text,\n",
    "            deadline date,\n",
    "            completed_on date,\n",
    "            project text not null references project(name));\"\"\")\n",
    "conn.commit()\n",
    "conn.close()"
   ]
  },
  {
   "cell_type": "code",
   "execution_count": 5,
   "id": "b001f407",
   "metadata": {},
   "outputs": [
    {
     "name": "stdout",
     "output_type": "stream",
     "text": [
      "База данных существует\n"
     ]
    }
   ],
   "source": [
    "db_filename = 'test.db'\n",
    "db_is_new = not os.path.exists(db_filename)\n",
    "conn = sqlite3.connect(db_filename)\n",
    "if db_is_new:\n",
    "    print('Требуется создать схему')\n",
    "else:\n",
    "    print('База данных существует')\n",
    "cur = conn.cursor()\n",
    "cur.execute(\"\"\"CREATE TABLE IF NOT EXISTS project(\n",
    "            name text primary key,\n",
    "            description text,\n",
    "            deadline date);\"\"\")\n",
    "cur.execute(\"\"\"CREATE TABLE IF NOT EXISTS task(\n",
    "            id integer primary key autoincrement not null,\n",
    "            priority integer default 1,\n",
    "            details text,\n",
    "            status text,\n",
    "            deadline date,\n",
    "            completed_on date,\n",
    "            project text not null references project(name));\"\"\")\n",
    "\n",
    "cur.execute(\"\"\"INSERT INTO project(name, description, deadline)\n",
    "            values ('MyProject', 'Мой тестовый проект', '2024-01-09');\"\"\")\n",
    "conn.commit()\n",
    "conn.close()"
   ]
  },
  {
   "cell_type": "code",
   "execution_count": 6,
   "id": "f389365a",
   "metadata": {},
   "outputs": [],
   "source": [
    "db_filename = 'test.db'\n",
    "db_is_new = not os.path.exists(db_filename)\n",
    "conn = sqlite3.connect(db_filename)\n",
    "cur = conn.cursor()\n",
    "task = ('Написать о чем то', 'Завершено',  '2024-01-09', 'MyProject')\n",
    "cur.execute(\"\"\"INSERT INTO task(details, status, deadline, project)\n",
    "            VALUES(?, ?, ?, ?);\"\"\", task)\n",
    "conn.commit()\n",
    "conn.close()"
   ]
  },
  {
   "cell_type": "code",
   "execution_count": 7,
   "id": "df642ac7",
   "metadata": {},
   "outputs": [],
   "source": [
    "db_filename = 'test.db'\n",
    "db_is_new = not os.path.exists(db_filename)\n",
    "conn = sqlite3.connect(db_filename)\n",
    "cur = conn.cursor()\n",
    "tasks = [('Написать о чем то', 'Завершено',  '2024-01-09', 'MyProject'),\n",
    "         ('Написать о программировании', 'Ожидает',  '2024-01-10', 'MyProject'),\n",
    "         ('Написать о базе данных', 'Активно',  '2024-01-08', 'MyProject')]\n",
    "cur.executemany(\"\"\"INSERT INTO task(details, status, deadline, project)\n",
    "            VALUES(?, ?, ?, ?);\"\"\", tasks)\n",
    "conn.commit()\n",
    "conn.close()"
   ]
  },
  {
   "cell_type": "code",
   "execution_count": 8,
   "id": "9564fe67",
   "metadata": {},
   "outputs": [
    {
     "name": "stdout",
     "output_type": "stream",
     "text": [
      "(1, 1, 'Написать о чем то', 'Завершено', '2024-01-09', None, 'MyProject')\n",
      "(2, 1, 'Написать о чем то', 'Завершено', '2024-01-09', None, 'MyProject')\n",
      "(3, 1, 'Написать о программировании', 'Ожидает', '2024-01-10', None, 'MyProject')\n",
      "(4, 1, 'Написать о базе данных', 'Активно', '2024-01-08', None, 'MyProject')\n",
      "(5, 1, 'Написать о чем то', 'Завершено', '2024-01-09', None, 'MyProject')\n",
      "(6, 1, 'Написать о чем то', 'Завершено', '2024-01-09', None, 'MyProject')\n",
      "(7, 1, 'Написать о программировании', 'Ожидает', '2024-01-10', None, 'MyProject')\n",
      "(8, 1, 'Написать о базе данных', 'Активно', '2024-01-08', None, 'MyProject')\n"
     ]
    }
   ],
   "source": [
    "db_filename = 'test.db'\n",
    "db_is_new = not os.path.exists(db_filename)\n",
    "conn = sqlite3.connect(db_filename)\n",
    "cur = conn.cursor()\n",
    "cur.execute(\"SELECT * FROM task\")\n",
    "for row in cur.fetchall():\n",
    "    print(row)\n",
    "conn.close()"
   ]
  },
  {
   "cell_type": "code",
   "execution_count": 9,
   "id": "547b445d",
   "metadata": {},
   "outputs": [
    {
     "name": "stdout",
     "output_type": "stream",
     "text": [
      "(1, 'Написать о чем то', 'Завершено', '2024-01-09')\n",
      "(2, 'Написать о чем то', 'Завершено', '2024-01-09')\n",
      "(3, 'Написать о программировании', 'Ожидает', '2024-01-10')\n",
      "(4, 'Написать о базе данных', 'Активно', '2024-01-08')\n",
      "(5, 'Написать о чем то', 'Завершено', '2024-01-09')\n",
      "(6, 'Написать о чем то', 'Завершено', '2024-01-09')\n",
      "(7, 'Написать о программировании', 'Ожидает', '2024-01-10')\n",
      "(8, 'Написать о базе данных', 'Активно', '2024-01-08')\n"
     ]
    }
   ],
   "source": [
    "db_filename = 'test.db'\n",
    "db_is_new = not os.path.exists(db_filename)\n",
    "conn = sqlite3.connect(db_filename)\n",
    "cur = conn.cursor()\n",
    "cur.execute(\"SELECT id, details, status, deadline FROM task where project = 'MyProject'\")\n",
    "for row in cur.fetchall():\n",
    "    print(row)\n",
    "conn.close()"
   ]
  },
  {
   "cell_type": "code",
   "execution_count": 10,
   "id": "c567d8da",
   "metadata": {},
   "outputs": [
    {
     "name": "stdout",
     "output_type": "stream",
     "text": [
      "(1, 'Написать о чем то', 'Завершено', '2024-01-09')\n",
      "(2, 'Написать о чем то', 'Завершено', '2024-01-09')\n",
      "(3, 'Написать о программировании', 'Ожидает', '2024-01-10')\n",
      "(4, 'Написать о базе данных', 'Активно', '2024-01-08')\n",
      "(5, 'Написать о чем то', 'Завершено', '2024-01-09')\n",
      "(6, 'Написать о чем то', 'Завершено', '2024-01-09')\n"
     ]
    }
   ],
   "source": [
    "db_filename = 'test.db'\n",
    "db_is_new = not os.path.exists(db_filename)\n",
    "conn = sqlite3.connect(db_filename)\n",
    "cur = conn.cursor()\n",
    "cur.execute(\"SELECT id, details, status, deadline FROM task where project = 'MyProject'\")\n",
    "print(cur.fetchone())\n",
    "for row in cur.fetchmany(5):\n",
    "    print(row)\n",
    "conn.close()"
   ]
  },
  {
   "cell_type": "code",
   "execution_count": 11,
   "id": "fcf2224b",
   "metadata": {},
   "outputs": [
    {
     "name": "stdout",
     "output_type": "stream",
     "text": [
      "('id', None, None, None, None, None, None)\n",
      "('priority', None, None, None, None, None, None)\n",
      "('details', None, None, None, None, None, None)\n",
      "('status', None, None, None, None, None, None)\n",
      "('deadline', None, None, None, None, None, None)\n",
      "('completed_on', None, None, None, None, None, None)\n",
      "('project', None, None, None, None, None, None)\n"
     ]
    }
   ],
   "source": [
    "db_filename = 'test.db'\n",
    "db_is_new = not os.path.exists(db_filename)\n",
    "conn = sqlite3.connect(db_filename)\n",
    "cur = conn.cursor()\n",
    "cur.execute(\"SELECT * FROM task where project = 'MyProject'\")\n",
    "for colinfo  in cur.description:\n",
    "    print(colinfo)\n",
    "conn.close()"
   ]
  },
  {
   "cell_type": "code",
   "execution_count": 12,
   "id": "e3637afe",
   "metadata": {},
   "outputs": [
    {
     "name": "stdout",
     "output_type": "stream",
     "text": [
      "MyProject Мой тестовый проект 2024-01-09\n",
      "---------------\n",
      "4 Написать о базе данных Активно 2024-01-08\n",
      "8 Написать о базе данных Активно 2024-01-08\n",
      "1 Написать о чем то Завершено 2024-01-09\n",
      "2 Написать о чем то Завершено 2024-01-09\n",
      "5 Написать о чем то Завершено 2024-01-09\n"
     ]
    }
   ],
   "source": [
    "import os\n",
    "import sqlite3\n",
    "db_filename = 'test.db'\n",
    "db_is_new = not os.path.exists(db_filename)\n",
    "with sqlite3.connect(db_filename) as conn:\n",
    "    conn.row_factory = sqlite3.Row\n",
    "    cur = conn.cursor()\n",
    "    cur.execute(\"SELECT name, description, deadline FROM project where name = 'MyProject'\")\n",
    "    name, description, deadline = cur.fetchone()\n",
    "    print(name, description, deadline)\n",
    "    print('---------------')\n",
    "    cur.execute(\"\"\"SELECT id, priority, status, deadline, details FROM task\n",
    "                where project = 'MyProject' order by deadline\"\"\")\n",
    "    for row in cur.fetchmany(5):\n",
    "        print(row['id'], row['details'], row['status'], row['deadline'])"
   ]
  },
  {
   "cell_type": "code",
   "execution_count": 13,
   "id": "9ea8774f",
   "metadata": {},
   "outputs": [
    {
     "name": "stdout",
     "output_type": "stream",
     "text": [
      "До изменений\n",
      "MyProject\n",
      "После изменений в conn1\n",
      "MyProject\n",
      "Project2\n",
      "До коммита\n",
      "MyProject\n",
      "Unexpected exception formatting exception. Falling back to standard exception\n"
     ]
    },
    {
     "name": "stderr",
     "output_type": "stream",
     "text": [
      "Traceback (most recent call last):\n",
      "  File \"C:\\ProgramData\\anaconda3\\Lib\\site-packages\\IPython\\core\\interactiveshell.py\", line 3577, in run_code\n",
      "    exec(code_obj, self.user_global_ns, self.user_ns)\n",
      "  File \"C:\\Users\\marina.mysh\\AppData\\Local\\Temp\\ipykernel_355284\\2358210699.py\", line 22, in <module>\n",
      "    conn1.commit()\n",
      "sqlite3.OperationalError: database is locked\n",
      "\n",
      "During handling of the above exception, another exception occurred:\n",
      "\n",
      "Traceback (most recent call last):\n",
      "  File \"C:\\ProgramData\\anaconda3\\Lib\\site-packages\\IPython\\core\\interactiveshell.py\", line 2168, in showtraceback\n",
      "    stb = self.InteractiveTB.structured_traceback(\n",
      "          ^^^^^^^^^^^^^^^^^^^^^^^^^^^^^^^^^^^^^^^^\n",
      "  File \"C:\\ProgramData\\anaconda3\\Lib\\site-packages\\IPython\\core\\ultratb.py\", line 1454, in structured_traceback\n",
      "    return FormattedTB.structured_traceback(\n",
      "           ^^^^^^^^^^^^^^^^^^^^^^^^^^^^^^^^^\n",
      "  File \"C:\\ProgramData\\anaconda3\\Lib\\site-packages\\IPython\\core\\ultratb.py\", line 1345, in structured_traceback\n",
      "    return VerboseTB.structured_traceback(\n",
      "           ^^^^^^^^^^^^^^^^^^^^^^^^^^^^^^^\n",
      "  File \"C:\\ProgramData\\anaconda3\\Lib\\site-packages\\IPython\\core\\ultratb.py\", line 1192, in structured_traceback\n",
      "    formatted_exception = self.format_exception_as_a_whole(etype, evalue, etb, number_of_lines_of_context,\n",
      "                          ^^^^^^^^^^^^^^^^^^^^^^^^^^^^^^^^^^^^^^^^^^^^^^^^^^^^^^^^^^^^^^^^^^^^^^^^^^^^^^^^\n",
      "  File \"C:\\ProgramData\\anaconda3\\Lib\\site-packages\\IPython\\core\\ultratb.py\", line 1107, in format_exception_as_a_whole\n",
      "    frames.append(self.format_record(record))\n",
      "                  ^^^^^^^^^^^^^^^^^^^^^^^^^^\n",
      "  File \"C:\\ProgramData\\anaconda3\\Lib\\site-packages\\IPython\\core\\ultratb.py\", line 989, in format_record\n",
      "    frame_info.lines, Colors, self.has_colors, lvals\n",
      "    ^^^^^^^^^^^^^^^^\n",
      "  File \"C:\\ProgramData\\anaconda3\\Lib\\site-packages\\IPython\\core\\ultratb.py\", line 801, in lines\n",
      "    return self._sd.lines\n",
      "           ^^^^^^^^^^^^^^\n",
      "  File \"C:\\ProgramData\\anaconda3\\Lib\\site-packages\\stack_data\\utils.py\", line 145, in cached_property_wrapper\n",
      "    value = obj.__dict__[self.func.__name__] = self.func(obj)\n",
      "                                               ^^^^^^^^^^^^^^\n",
      "  File \"C:\\ProgramData\\anaconda3\\Lib\\site-packages\\stack_data\\core.py\", line 698, in lines\n",
      "    pieces = self.included_pieces\n",
      "             ^^^^^^^^^^^^^^^^^^^^\n",
      "  File \"C:\\ProgramData\\anaconda3\\Lib\\site-packages\\stack_data\\utils.py\", line 145, in cached_property_wrapper\n",
      "    value = obj.__dict__[self.func.__name__] = self.func(obj)\n",
      "                                               ^^^^^^^^^^^^^^\n",
      "  File \"C:\\ProgramData\\anaconda3\\Lib\\site-packages\\stack_data\\core.py\", line 645, in included_pieces\n",
      "    scope_pieces = self.scope_pieces\n",
      "                   ^^^^^^^^^^^^^^^^^\n",
      "  File \"C:\\ProgramData\\anaconda3\\Lib\\site-packages\\stack_data\\utils.py\", line 145, in cached_property_wrapper\n",
      "    value = obj.__dict__[self.func.__name__] = self.func(obj)\n",
      "                                               ^^^^^^^^^^^^^^\n",
      "  File \"C:\\ProgramData\\anaconda3\\Lib\\site-packages\\stack_data\\core.py\", line 585, in scope_pieces\n",
      "    for piece in self.source.pieces\n",
      "                 ^^^^^^^^^^^^^^^^^^\n",
      "  File \"C:\\ProgramData\\anaconda3\\Lib\\site-packages\\stack_data\\utils.py\", line 145, in cached_property_wrapper\n",
      "    value = obj.__dict__[self.func.__name__] = self.func(obj)\n",
      "                                               ^^^^^^^^^^^^^^\n",
      "  File \"C:\\ProgramData\\anaconda3\\Lib\\site-packages\\stack_data\\core.py\", line 90, in pieces\n",
      "    return list(self._clean_pieces())\n",
      "           ^^^^^^^^^^^^^^^^^^^^^^^^^^\n",
      "  File \"C:\\ProgramData\\anaconda3\\Lib\\site-packages\\stack_data\\core.py\", line 114, in _clean_pieces\n",
      "    raise AssertionError(\"Pieces mismatches: %s\" % mismatches)\n",
      "AssertionError: Pieces mismatches: [{17, 15}]\n"
     ]
    }
   ],
   "source": [
    "db_filename = 'test.db'\n",
    "db_is_new = not os.path.exists(db_filename)\n",
    "\n",
    "def show_projects(conn):\n",
    "    cur = conn.cursor()\n",
    "    cur.execute('SELECT name, description from project')\n",
    "    for name, desc in cur.fetchall():\n",
    "        print(name)\n",
    "        \n",
    "with sqlite3.connect(db_filename) as conn1:\n",
    "    print('До изменений')\n",
    "    show_projects(conn1)\n",
    "    \n",
    "    cur1 = conn1.cursor()\n",
    "    cur1.execute(\"\"\"INSERT INTO project(name, description, deadline)\n",
    "                VALUES ('Project2', 'Мой 2 проект', '2024-02-01');\"\"\")\n",
    "    print('После изменений в conn1')\n",
    "    show_projects(conn1)\n",
    "    print('До коммита')\n",
    "    with sqlite3.connect(db_filename) as conn2:\n",
    "        show_projects(conn2)\n",
    "        conn1.commit()\n",
    "        print('После коммита')\n",
    "        with sqlite3.connect(db_filename) as conn3:\n",
    "            show_projects(conn3)"
   ]
  },
  {
   "cell_type": "code",
   "execution_count": null,
   "id": "878ccc2a",
   "metadata": {},
   "outputs": [],
   "source": [
    "db_filename = 'test.db'\n",
    "db_is_new = not os.path.exists(db_filename)\n",
    "\n",
    "def show_projects(conn):\n",
    "    cur = conn.cursor()\n",
    "    cur.execute('SELECT name, description from project')\n",
    "    for name, desc in cur.fetchall():\n",
    "        print(name)\n",
    "        \n",
    "with sqlite3.connect(db_filename) as conn:\n",
    "    print('До изменений')\n",
    "    show_projects(conn)\n",
    "    \n",
    "    try:\n",
    "        cur1 = conn.cursor()\n",
    "        cur1.execute(\"\"\"DELETE FROM project where name='Project2';\"\"\")\n",
    "        print('После удаления')\n",
    "        show_projects(conn)\n",
    "        \n",
    "        raise RuntimeError('Возбудили исключение')\n",
    "\n",
    "    except Exception as err:\n",
    "        print(f'Ошибка: {err}')\n",
    "        conn.rollback()\n",
    "    else:\n",
    "        print(conn.commit())\n",
    "    print('После отмены')\n",
    "    show_projects(conn)"
   ]
  },
  {
   "cell_type": "code",
   "execution_count": null,
   "id": "51d90166",
   "metadata": {},
   "outputs": [],
   "source": [
    "db_filename = 'test.db'\n",
    "db_is_new = not os.path.exists(db_filename)\n",
    "conn = sqlite3.connect(db_filename)\n",
    "cur = conn.cursor()\n",
    "cur.execute(\"DROP TABLE project\")\n",
    "conn.close()"
   ]
  },
  {
   "cell_type": "code",
   "execution_count": 33,
   "id": "7e74ce86",
   "metadata": {},
   "outputs": [],
   "source": [
    "db_filename = 'test.db'\n",
    "db_is_new = not os.path.exists(db_filename)\n",
    "conn = sqlite3.connect(db_filename)\n",
    "cur = conn.cursor()\n",
    "cur.execute(\"DROP TABLE IF EXISTS project\")\n",
    "conn.close()"
   ]
  },
  {
   "cell_type": "code",
   "execution_count": null,
   "id": "49154b45",
   "metadata": {},
   "outputs": [],
   "source": []
  }
 ],
 "metadata": {
  "kernelspec": {
   "display_name": "Python 3 (ipykernel)",
   "language": "python",
   "name": "python3"
  },
  "language_info": {
   "codemirror_mode": {
    "name": "ipython",
    "version": 3
   },
   "file_extension": ".py",
   "mimetype": "text/x-python",
   "name": "python",
   "nbconvert_exporter": "python",
   "pygments_lexer": "ipython3",
   "version": "3.12.4"
  }
 },
 "nbformat": 4,
 "nbformat_minor": 5
}
