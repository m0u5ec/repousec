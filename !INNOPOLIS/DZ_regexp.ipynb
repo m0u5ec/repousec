{
 "cells": [
  {
   "cell_type": "code",
   "execution_count": 42,
   "id": "86abe275-585e-4b51-9ead-a76ab1dd3dfa",
   "metadata": {},
   "outputs": [
    {
     "name": "stdin",
     "output_type": "stream",
     "text": [
      "Введите сетевой адрес: 1.2.3.6.8\n"
     ]
    },
    {
     "name": "stdout",
     "output_type": "stream",
     "text": [
      "Это не сетевой адрес!\n"
     ]
    },
    {
     "name": "stdin",
     "output_type": "stream",
     "text": [
      "Повторим (y / n)?  y\n",
      "Введите сетевой адрес: 8.0.9\n"
     ]
    },
    {
     "name": "stdout",
     "output_type": "stream",
     "text": [
      "Это не сетевой адрес!\n"
     ]
    },
    {
     "name": "stdin",
     "output_type": "stream",
     "text": [
      "Повторим (y / n)?  y\n",
      "Введите сетевой адрес: 192.168.0.1\n"
     ]
    },
    {
     "name": "stdout",
     "output_type": "stream",
     "text": [
      "OK!\n"
     ]
    },
    {
     "name": "stdin",
     "output_type": "stream",
     "text": [
      "Повторим (y / n)?  y\n",
      "Введите сетевой адрес: 192.168.0.333\n"
     ]
    },
    {
     "name": "stdout",
     "output_type": "stream",
     "text": [
      "Адрес вне допустимого диапазона!\n"
     ]
    },
    {
     "name": "stdin",
     "output_type": "stream",
     "text": [
      "Повторим (y / n)?  y\n",
      "Введите сетевой адрес: 255.255.255.255\n"
     ]
    },
    {
     "name": "stdout",
     "output_type": "stream",
     "text": [
      "OK!\n"
     ]
    },
    {
     "name": "stdin",
     "output_type": "stream",
     "text": [
      "Повторим (y / n)?  y\n",
      "Введите сетевой адрес: 259.255.255.255\n"
     ]
    },
    {
     "name": "stdout",
     "output_type": "stream",
     "text": [
      "Адрес вне допустимого диапазона!\n"
     ]
    },
    {
     "name": "stdin",
     "output_type": "stream",
     "text": [
      "Повторим (y / n)?  y\n",
      "Введите сетевой адрес: 5.6.9.8.7.4.5\n"
     ]
    },
    {
     "name": "stdout",
     "output_type": "stream",
     "text": [
      "Это не сетевой адрес!\n"
     ]
    },
    {
     "name": "stdin",
     "output_type": "stream",
     "text": [
      "Повторим (y / n)?  y\n",
      "Введите сетевой адрес: 65645646\n"
     ]
    },
    {
     "name": "stdout",
     "output_type": "stream",
     "text": [
      "Это не сетевой адрес!\n"
     ]
    },
    {
     "name": "stdin",
     "output_type": "stream",
     "text": [
      "Повторим (y / n)?  5. 8. 9. 8\n",
      "Введите сетевой адрес: 5. 0. 2. 8\n"
     ]
    },
    {
     "name": "stdout",
     "output_type": "stream",
     "text": [
      "Это не сетевой адрес!\n"
     ]
    },
    {
     "name": "stdin",
     "output_type": "stream",
     "text": [
      "Повторим (y / n)?  y\n",
      "Введите сетевой адрес: a.b.c.d\n"
     ]
    },
    {
     "name": "stdout",
     "output_type": "stream",
     "text": [
      "Это не сетевой адрес!\n"
     ]
    },
    {
     "name": "stdin",
     "output_type": "stream",
     "text": [
      "Повторим (y / n)?  y\n",
      "Введите сетевой адрес: 0.0.0.127\n"
     ]
    },
    {
     "name": "stdout",
     "output_type": "stream",
     "text": [
      "OK!\n"
     ]
    },
    {
     "name": "stdin",
     "output_type": "stream",
     "text": [
      "Повторим (y / n)?  n\n"
     ]
    }
   ],
   "source": [
    "import re\n",
    "state='' \n",
    "N=1\n",
    "while state !='нет' and state !='no' and state !='n':\n",
    "    try:\n",
    "        IPaddr=str(input('Введите сетевой адрес:'))\n",
    "        pattern = re.compile(r'^([0-9]{1,3})\\.([0-9]{1,3})\\.([0-9]{1,3})\\.([0-9]{1,3})$')\n",
    "        match_res=pattern.match(IPaddr)\n",
    "        if match_res:\n",
    "            if any([int(x)>255 for x in match_res.groups()]):\n",
    "                print('Адрес вне допустимого диапазона!')\n",
    "            else:\n",
    "                print('OK!')\n",
    "        else:\n",
    "            print('Это не сетевой адрес!')\n",
    "    except Exception:\n",
    "        if N<3:\n",
    "            print('Что-то пошло не так! Попробуйте еще раз.')\n",
    "            N += 1\n",
    "        else:\n",
    "            print('Превышено количество неудачных попыток!')\n",
    "            break  \n",
    "    else:\n",
    "        state = input('Повторим (y / n)? ').lower()"
   ]
  },
  {
   "cell_type": "code",
   "execution_count": null,
   "id": "f6486e72-d2aa-44f6-9441-880c3f75a3cd",
   "metadata": {},
   "outputs": [],
   "source": []
  }
 ],
 "metadata": {
  "kernelspec": {
   "display_name": "Python 3 (ipykernel)",
   "language": "python",
   "name": "python3"
  },
  "language_info": {
   "codemirror_mode": {
    "name": "ipython",
    "version": 3
   },
   "file_extension": ".py",
   "mimetype": "text/x-python",
   "name": "python",
   "nbconvert_exporter": "python",
   "pygments_lexer": "ipython3",
   "version": "3.12.4"
  }
 },
 "nbformat": 4,
 "nbformat_minor": 5
}
