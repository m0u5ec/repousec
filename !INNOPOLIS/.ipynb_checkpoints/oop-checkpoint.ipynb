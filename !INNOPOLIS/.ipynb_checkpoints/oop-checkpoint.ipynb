{
 "cells": [
  {
   "cell_type": "code",
   "execution_count": 1,
   "id": "dd4610c8",
   "metadata": {},
   "outputs": [],
   "source": [
    "class Car:\n",
    "    pass"
   ]
  },
  {
   "cell_type": "code",
   "execution_count": 2,
   "id": "83b90d4f",
   "metadata": {},
   "outputs": [
    {
     "name": "stdout",
     "output_type": "stream",
     "text": [
      "blue\n",
      "1000\n"
     ]
    }
   ],
   "source": [
    "car = Car()\n",
    "car.color = 'blue'\n",
    "car.km = 1000\n",
    "print(car.color)\n",
    "print(car.km)"
   ]
  },
  {
   "cell_type": "code",
   "execution_count": 1,
   "id": "f872800b",
   "metadata": {},
   "outputs": [
    {
     "name": "stdout",
     "output_type": "stream",
     "text": [
      "blue\n",
      "200\n",
      "Km\n",
      "Km\n"
     ]
    }
   ],
   "source": [
    "class Car:\n",
    "    m_units = 'Km'\n",
    "    def __init__(self, color, km):\n",
    "        self.color = color\n",
    "        self.km = km\n",
    "        \n",
    "car = Car('blue', 200)\n",
    "print(car.color)\n",
    "print(car.km)\n",
    "print(car.m_units)\n",
    "print(Car.m_units)"
   ]
  },
  {
   "cell_type": "code",
   "execution_count": 2,
   "id": "c99db5c2",
   "metadata": {},
   "outputs": [
    {
     "name": "stdout",
     "output_type": "stream",
     "text": [
      "Km\n",
      "Km\n",
      "Mi\n",
      "Km\n",
      "Km\n",
      "Mi\n",
      "M\n",
      "M\n"
     ]
    }
   ],
   "source": [
    "car1 = Car('blue', 200)\n",
    "car2 = Car('yellow', 250)\n",
    "print(car1.m_units)\n",
    "print(car2.m_units)\n",
    "car1.m_units = 'Mi'\n",
    "print(car1.m_units)\n",
    "print(car2.m_units)\n",
    "print(Car.m_units)\n",
    "Car.m_units = 'M'\n",
    "print(car1.m_units)\n",
    "print(car2.m_units)\n",
    "print(Car.m_units)"
   ]
  },
  {
   "cell_type": "code",
   "execution_count": 3,
   "id": "061de050",
   "metadata": {},
   "outputs": [
    {
     "name": "stdout",
     "output_type": "stream",
     "text": [
      "__del__\n"
     ]
    }
   ],
   "source": [
    "class Test:\n",
    "    def __del__(self):\n",
    "        print('__del__')\n",
    "\n",
    "x = Test()\n",
    "del x"
   ]
  },
  {
   "cell_type": "code",
   "execution_count": 4,
   "id": "ba0c8d25",
   "metadata": {},
   "outputs": [
    {
     "name": "stdout",
     "output_type": "stream",
     "text": [
      "blue\n",
      "Km\n",
      "Car\n",
      "Hello\n",
      "blue\n",
      "Km\n",
      "Car\n",
      "Hello\n"
     ]
    }
   ],
   "source": [
    "class Car:\n",
    "    m_units = 'Km'\n",
    "    def __init__(self, color, km):\n",
    "        self.color = color\n",
    "        self.km = km\n",
    "    def print_color(self):\n",
    "        print(self.color)\n",
    "    @classmethod\n",
    "    def print_units(cls):\n",
    "        print(cls.m_units)\n",
    "        print(cls.__name__)\n",
    "    @staticmethod\n",
    "    def print_hello():\n",
    "        print('Hello')\n",
    "        \n",
    "car = Car('blue', 200)\n",
    "car.print_color()\n",
    "car.print_units()\n",
    "car.print_hello()\n",
    "Car.print_color(car)\n",
    "Car.print_units()\n",
    "Car.print_hello()"
   ]
  },
  {
   "cell_type": "code",
   "execution_count": 6,
   "id": "64189319",
   "metadata": {},
   "outputs": [
    {
     "name": "stdout",
     "output_type": "stream",
     "text": [
      "Это машина. Цвет blue\n"
     ]
    }
   ],
   "source": [
    "class Car:\n",
    "    def __init__(self, color, km):\n",
    "        self.color = color\n",
    "        self.km = km\n",
    "        \n",
    "    def __str__(self):\n",
    "        return f'Это машина. Цвет {self.color}'\n",
    "car = Car('blue', 200)\n",
    "print(car)"
   ]
  },
  {
   "cell_type": "code",
   "execution_count": 7,
   "id": "ca2b219f",
   "metadata": {},
   "outputs": [],
   "source": [
    "class Car:\n",
    "    m_units = 'Km'\n",
    "    def __init__(self, color, km, enq_size):\n",
    "        self.color = color\n",
    "        self.km = km\n",
    "        self.enqine = self.Enqine(enq_size)\n",
    "    def __str__ (self):\n",
    "        return f'Это машина. Цвет {self.color}'\n",
    "    class Enqine:\n",
    "        def __init__ (self, size):\n",
    "            self.size = size\n",
    "        def __str__ (self) :\n",
    "            return self.size "
   ]
  },
  {
   "cell_type": "code",
   "execution_count": 8,
   "id": "b2db5669",
   "metadata": {},
   "outputs": [
    {
     "name": "stdout",
     "output_type": "stream",
     "text": [
      "Это машина. Цвет blue\n",
      "2.51\n"
     ]
    }
   ],
   "source": [
    "car = Car (\"blue\", 200, \"2.51\")\n",
    "print (car)\n",
    "print(car.enqine.size)"
   ]
  },
  {
   "cell_type": "code",
   "execution_count": 10,
   "id": "3b0d2dc9",
   "metadata": {},
   "outputs": [
    {
     "name": "stdout",
     "output_type": "stream",
     "text": [
      "Это машина. Цвет blue\n"
     ]
    }
   ],
   "source": [
    "class Car:\n",
    "    m_units = 'Km'\n",
    "    __max_speed = 250\n",
    "    def __init__(self, color, km, model):\n",
    "        self.color = color\n",
    "        self.km = km\n",
    "        self.__no_doors = 4\n",
    "        self._model = model\n",
    "    \n",
    "    def __doors(self):\n",
    "        return self.__no_doors\n",
    "    \n",
    "    def __str__(self):\n",
    "        return f'Это машина. Цвет {self.color}'\n",
    "car = Car('blue', 200, 'Bmw')\n",
    "print(car)"
   ]
  },
  {
   "cell_type": "code",
   "execution_count": 11,
   "id": "ed57a971",
   "metadata": {},
   "outputs": [
    {
     "name": "stdout",
     "output_type": "stream",
     "text": [
      "250\n",
      "Bmw\n"
     ]
    }
   ],
   "source": [
    "print(Car._Car__max_speed)\n",
    "print(car._model)"
   ]
  },
  {
   "cell_type": "code",
   "execution_count": 13,
   "id": "8b2fd8ba",
   "metadata": {},
   "outputs": [
    {
     "name": "stdout",
     "output_type": "stream",
     "text": [
      "Это машина. Цвет blue\n",
      "200\n",
      "blue\n",
      "2000\n"
     ]
    }
   ],
   "source": [
    "class Car:\n",
    "    m_units = 'Km'\n",
    "    def __init__(self, color, km):\n",
    "        self.__color = color\n",
    "        self.__km = km\n",
    "\n",
    "    def __str__(self):\n",
    "        return f'Это машина. Цвет {self.__color}'\n",
    "    \n",
    "    def get_color(self):\n",
    "        return self.__color\n",
    "    \n",
    "    def get_km(self):\n",
    "        return self.__km\n",
    "    \n",
    "    def set_km(self, new_km):\n",
    "        self.__km = new_km\n",
    "\n",
    "car = Car('blue', 200)\n",
    "print(car)\n",
    "print(car.get_km())\n",
    "car.set_km(2000)\n",
    "print (car.get_color())\n",
    "print(car.get_km()) "
   ]
  },
  {
   "cell_type": "code",
   "execution_count": 15,
   "id": "85d36977",
   "metadata": {},
   "outputs": [
    {
     "name": "stdout",
     "output_type": "stream",
     "text": [
      "Это машина. Цвет blue\n",
      "200\n",
      "blue\n",
      "2000\n"
     ]
    }
   ],
   "source": [
    "class Car:\n",
    "    m_units = 'Km'\n",
    "    def __init__(self, color, km):\n",
    "        self.__color = color\n",
    "        self.__km = km\n",
    "\n",
    "    def __str__(self):\n",
    "        return f'Это машина. Цвет {self.__color}'\n",
    "    \n",
    "    @property\n",
    "    def color(self):\n",
    "        return self.__color\n",
    "    \n",
    "    @property\n",
    "    def km(self):\n",
    "        return self.__km\n",
    "    \n",
    "    @km.setter\n",
    "    def km(self, new_km):\n",
    "        self.__km = new_km\n",
    "\n",
    "car = Car('blue', 200)\n",
    "print(car)\n",
    "print(car.km)\n",
    "car.km = 2000\n",
    "print(car.color)\n",
    "print(car.km) "
   ]
  },
  {
   "cell_type": "code",
   "execution_count": 16,
   "id": "84d3ab0c",
   "metadata": {},
   "outputs": [],
   "source": [
    "class Person:\n",
    "    pass\n",
    "class Student(Person):\n",
    "    pass"
   ]
  },
  {
   "cell_type": "code",
   "execution_count": 17,
   "id": "3b8fdd4d",
   "metadata": {},
   "outputs": [
    {
     "name": "stdout",
     "output_type": "stream",
     "text": [
      "blue\n"
     ]
    }
   ],
   "source": [
    "class Vehicle:\n",
    "    def __init__(self, color):\n",
    "        self.color = color\n",
    "        \n",
    "    def print_info(self):\n",
    "        print(self.color)\n",
    "        \n",
    "class Car(Vehicle):\n",
    "    def __init__(self, color, seats):\n",
    "        self.color = color\n",
    "        self.seats = seats \n",
    "\n",
    "car = Car('blue', 4)\n",
    "car.print_info()"
   ]
  },
  {
   "cell_type": "code",
   "execution_count": 20,
   "id": "781b082f",
   "metadata": {},
   "outputs": [
    {
     "name": "stdout",
     "output_type": "stream",
     "text": [
      "blue\n",
      "blue 2.5L 5\n",
      "2.5L\n"
     ]
    }
   ],
   "source": [
    "class Vehicle:\n",
    "    def __init__(self, color):\n",
    "        self.color = color\n",
    "    def print_info(self):\n",
    "        print(self.color)\n",
    "class Engine:\n",
    "    def __init__(self, size):\n",
    "        self.size = size\n",
    "    def print_enqine_info(self):\n",
    "        print(self.size)\n",
    "class Car(Vehicle, Engine):\n",
    "    def __init__(self, color, size, seat):\n",
    "        self.color = color\n",
    "        self.size = size\n",
    "        self.seat = seat \n",
    "    def print_car_info(self):\n",
    "        print(self.color, self.size, self.seat)\n",
    "        \n",
    "car = Car('blue', '2.5L', 5)\n",
    "car.print_info()\n",
    "car.print_car_info()\n",
    "car.print_enqine_info()"
   ]
  },
  {
   "cell_type": "code",
   "execution_count": 21,
   "id": "8b7644b6",
   "metadata": {},
   "outputs": [
    {
     "name": "stdout",
     "output_type": "stream",
     "text": [
      "blue из дочернего класса\n"
     ]
    }
   ],
   "source": [
    "class Vehicle:\n",
    "    def __init__(self, color):\n",
    "        self.color = color\n",
    "        \n",
    "    def print_info(self):\n",
    "        print(f'{self.color} из родительского класса')\n",
    "        \n",
    "class Car(Vehicle):\n",
    "    def __init__(self, color, seats):\n",
    "        self.color = color\n",
    "        self.seats = seats \n",
    "    def print_info(self):\n",
    "        print(f'{self.color} из дочернего класса')\n",
    "\n",
    "car = Car('blue', 4)\n",
    "car.print_info()"
   ]
  },
  {
   "cell_type": "code",
   "execution_count": 23,
   "id": "4357dc08",
   "metadata": {},
   "outputs": [
    {
     "name": "stdout",
     "output_type": "stream",
     "text": [
      "blue\n",
      "Это абстрактный класс\n"
     ]
    }
   ],
   "source": [
    "from abc import ABC, abstractmethod\n",
    "\n",
    "class Vehicle(ABC):\n",
    "    def print_hello(self):\n",
    "        print('Это абстрактный класс')\n",
    "    \n",
    "    @abstractmethod\n",
    "    def print_info(self):\n",
    "        pass\n",
    "    \n",
    "class Car(Vehicle):\n",
    "    def __init__(self, color, seats):\n",
    "        self.color = color\n",
    "        self.seats = seats \n",
    "    def print_info(self):\n",
    "        print(self.color)\n",
    "        \n",
    "# vehicle = Vehicle() вызовет ошибку\n",
    "car = Car('blue', 5)\n",
    "car.print_info()\n",
    "car.print_hello()"
   ]
  },
  {
   "cell_type": "code",
   "execution_count": null,
   "id": "ca9b340a",
   "metadata": {},
   "outputs": [],
   "source": []
  }
 ],
 "metadata": {
  "kernelspec": {
   "display_name": "Python 3 (ipykernel)",
   "language": "python",
   "name": "python3"
  },
  "language_info": {
   "codemirror_mode": {
    "name": "ipython",
    "version": 3
   },
   "file_extension": ".py",
   "mimetype": "text/x-python",
   "name": "python",
   "nbconvert_exporter": "python",
   "pygments_lexer": "ipython3",
   "version": "3.11.5"
  }
 },
 "nbformat": 4,
 "nbformat_minor": 5
}
