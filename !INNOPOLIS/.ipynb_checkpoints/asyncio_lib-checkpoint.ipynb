{
 "cells": [
  {
   "cell_type": "code",
   "execution_count": null,
   "id": "00270dc1",
   "metadata": {},
   "outputs": [],
   "source": [
    "async def func()  -> None:\n",
    "    print('Hello')"
   ]
  },
  {
   "cell_type": "code",
   "execution_count": null,
   "id": "4ee74fbc",
   "metadata": {},
   "outputs": [],
   "source": [
    "async def coroutine_add_one(number: int) -> int:\n",
    "    return number + 1\n",
    "def add_one(number: int) -> int:\n",
    "    return number + 1\n",
    "\n",
    "function_result = add_one(1)\n",
    "coroutine_result = coroutine_add_one(1)\n",
    "\n",
    "print(f'Результат функции равен {function_result}, а его тип равен {type(function_result)}')\n",
    "print(f'Результат сопрограммы равен {coroutine_result}, а его тип равен {type(coroutine_result)}')"
   ]
  },
  {
   "cell_type": "code",
   "execution_count": 2,
   "id": "364f790a",
   "metadata": {},
   "outputs": [
    {
     "name": "stdout",
     "output_type": "stream",
     "text": [
      "2\n"
     ]
    }
   ],
   "source": [
    "import asyncio\n",
    "\n",
    "async def coroutine_add_one(number: int) -> int:\n",
    "    return number + 1\n",
    "\n",
    "result = await coroutine_add_one(1)\n",
    "# В IDE\n",
    "# result = asyncio.run(coroutine_add_one(1))\n",
    "print(result)"
   ]
  },
  {
   "cell_type": "code",
   "execution_count": 5,
   "id": "5a99caa7",
   "metadata": {},
   "outputs": [
    {
     "name": "stdout",
     "output_type": "stream",
     "text": [
      "2\n",
      "3\n"
     ]
    }
   ],
   "source": [
    "import asyncio\n",
    "\n",
    "async def add_one(number: int) -> int:\n",
    "    return number + 1\n",
    "\n",
    "async def main() -> None:\n",
    "    one_plus_one = await add_one(1)\n",
    "    two_plus_one = await add_one(2)\n",
    "    print(one_plus_one)\n",
    "    print(two_plus_one)\n",
    "    \n",
    "# В IDE asyncio.run(main())\n",
    "await main()"
   ]
  },
  {
   "cell_type": "code",
   "execution_count": 6,
   "id": "cb789bb4",
   "metadata": {},
   "outputs": [
    {
     "name": "stdout",
     "output_type": "stream",
     "text": [
      "Hello!\n"
     ]
    }
   ],
   "source": [
    "import asyncio\n",
    "\n",
    "async def hello_world_message() -> str:\n",
    "    await asyncio.sleep(1)\n",
    "    return 'Hello!'\n",
    "\n",
    "async def main() -> None:\n",
    "    message = await hello_world_message()\n",
    "    print(message)\n",
    "    \n",
    "# В IDE asyncio.run(main())\n",
    "await main()"
   ]
  },
  {
   "cell_type": "code",
   "execution_count": 7,
   "id": "336e6ddc",
   "metadata": {},
   "outputs": [
    {
     "name": "stdout",
     "output_type": "stream",
     "text": [
      "<class '_asyncio.Task'>\n",
      "засыпаю на 3 с\n",
      "сон в течение 3 с закончился\n",
      "3\n"
     ]
    }
   ],
   "source": [
    "import asyncio\n",
    "\n",
    "async def delay(delay_seconds: int) -> int:\n",
    "    print(f'засыпаю на {delay_seconds} с')\n",
    "    await asyncio.sleep(delay_seconds)\n",
    "    print(f'сон в течение {delay_seconds} с закончился')\n",
    "    return delay_seconds\n",
    "\n",
    "async def main():\n",
    "    sleep_for_three = asyncio.create_task(delay(3))\n",
    "    print(type(sleep_for_three))\n",
    "    result = await sleep_for_three\n",
    "    print(result)\n",
    "    \n",
    "    \n",
    "# В IDE asyncio.run(main())\n",
    "await main()"
   ]
  },
  {
   "cell_type": "code",
   "execution_count": 8,
   "id": "c58c8a13",
   "metadata": {},
   "outputs": [
    {
     "name": "stdout",
     "output_type": "stream",
     "text": [
      "засыпаю на 3 с\n",
      "засыпаю на 3 с\n",
      "засыпаю на 3 с\n",
      "сон в течение 3 с закончился\n",
      "сон в течение 3 с закончился\n",
      "сон в течение 3 с закончился\n"
     ]
    }
   ],
   "source": [
    "import asyncio\n",
    "\n",
    "async def delay(delay_seconds: int) -> int:\n",
    "    print(f'засыпаю на {delay_seconds} с')\n",
    "    await asyncio.sleep(delay_seconds)\n",
    "    print(f'сон в течение {delay_seconds} с закончился')\n",
    "    return delay_seconds\n",
    "\n",
    "async def main():\n",
    "    sleep_for_three = asyncio.create_task(delay(3))\n",
    "    sleep_again = asyncio.create_task(delay(3))\n",
    "    sleep_once_more = asyncio.create_task(delay(3))\n",
    "    await sleep_for_three\n",
    "    await sleep_again\n",
    "    await sleep_once_more\n",
    "\n",
    "    \n",
    "# asyncio.run(main())\n",
    "await main()"
   ]
  },
  {
   "cell_type": "code",
   "execution_count": 11,
   "id": "fb99b9e2",
   "metadata": {},
   "outputs": [
    {
     "name": "stdout",
     "output_type": "stream",
     "text": [
      "засыпаю на 3 с\n",
      "засыпаю на 3 с\n",
      "пока я жду, исполняется другой код!\n",
      "пока я жду, исполняется другой код!\n",
      "сон в течение 3 с закончился\n",
      "сон в течение 3 с закончился\n"
     ]
    }
   ],
   "source": [
    "import asyncio\n",
    "\n",
    "async def delay(delay_seconds: int) -> int:\n",
    "    print(f'засыпаю на {delay_seconds} с')\n",
    "    await asyncio.sleep(delay_seconds)\n",
    "    print(f'сон в течение {delay_seconds} с закончился')\n",
    "    return delay_seconds\n",
    "\n",
    "async def hello_every_second():\n",
    "    for i in range(2):\n",
    "        await asyncio.sleep(1)\n",
    "        print(\"пока я жду, исполняется другой код!\")\n",
    "    \n",
    "async def main():\n",
    "    first_delay = asyncio.create_task(delay(3))\n",
    "    second_delay = asyncio.create_task(delay(3))\n",
    "    await hello_every_second()\n",
    "    await first_delay\n",
    "    await second_delay\n",
    "    \n",
    "    \n",
    "# asyncio.run(main())\n",
    "await main()"
   ]
  },
  {
   "cell_type": "code",
   "execution_count": 12,
   "id": "d972de92",
   "metadata": {},
   "outputs": [
    {
     "name": "stdout",
     "output_type": "stream",
     "text": [
      "Задача не закончилась, следующая проверка через секунду.\n",
      "засыпаю на 10 с\n",
      "Задача не закончилась, следующая проверка через секунду.\n",
      "Задача не закончилась, следующая проверка через секунду.\n",
      "Задача не закончилась, следующая проверка через секунду.\n",
      "Задача не закончилась, следующая проверка через секунду.\n",
      "Задача не закончилась, следующая проверка через секунду.\n",
      "Наша задача была снята\n"
     ]
    }
   ],
   "source": [
    "import asyncio\n",
    "from asyncio import CancelledError\n",
    "\n",
    "async def delay(delay_seconds: int) -> int:\n",
    "    print(f'засыпаю на {delay_seconds} с')\n",
    "    await asyncio.sleep(delay_seconds)\n",
    "    print(f'сон в течение {delay_seconds} с закончился')\n",
    "    return delay_seconds\n",
    "\n",
    "async def main():\n",
    "    long_task = asyncio.create_task(delay(10))\n",
    "    seconds_elapsed = 0\n",
    "    while not long_task.done():\n",
    "        print('Задача не закончилась, следующая проверка через секунду.')\n",
    "        await asyncio.sleep(1)\n",
    "        seconds_elapsed = seconds_elapsed + 1\n",
    "        if seconds_elapsed == 5:\n",
    "            long_task.cancel()\n",
    "    try:\n",
    "        await long_task\n",
    "    except CancelledError:\n",
    "        print('Наша задача была снята')\n",
    "        \n",
    "# В IDE asyncio.run(main())\n",
    "await main()"
   ]
  },
  {
   "cell_type": "code",
   "execution_count": 14,
   "id": "95a074ff",
   "metadata": {},
   "outputs": [
    {
     "name": "stdout",
     "output_type": "stream",
     "text": [
      "засыпаю на 2 с\n",
      "Тайм-аут!\n",
      "Задача была снята? True\n"
     ]
    }
   ],
   "source": [
    "import asyncio\n",
    "\n",
    "async def delay(delay_seconds: int) -> int:\n",
    "    print(f'засыпаю на {delay_seconds} с')\n",
    "    await asyncio.sleep(delay_seconds)\n",
    "    print(f'сон в течение {delay_seconds} с закончился')\n",
    "    return delay_seconds\n",
    "\n",
    "async def main():\n",
    "    delay_task = asyncio.create_task(delay(2))\n",
    "    try:\n",
    "        result = await asyncio.wait_for(delay_task, timeout=1)\n",
    "        print(result)\n",
    "    except asyncio.exceptions.TimeoutError:\n",
    "        print('Тайм-аут!')\n",
    "        print(f'Задача была снята? {delay_task.cancelled()}')\n",
    "# asyncio.run(main())\n",
    "await main()"
   ]
  },
  {
   "cell_type": "code",
   "execution_count": 15,
   "id": "4e3b1f2a",
   "metadata": {},
   "outputs": [
    {
     "name": "stdout",
     "output_type": "stream",
     "text": [
      "засыпаю на 10 с\n",
      "Задача заняла более 5 с, скоро она закончится!\n",
      "сон в течение 10 с закончился\n",
      "10\n"
     ]
    }
   ],
   "source": [
    "import asyncio\n",
    "\n",
    "async def delay(delay_seconds: int) -> int:\n",
    "    print(f'засыпаю на {delay_seconds} с')\n",
    "    await asyncio.sleep(delay_seconds)\n",
    "    print(f'сон в течение {delay_seconds} с закончился')\n",
    "    return delay_seconds\n",
    "\n",
    "async def main():\n",
    "    task = asyncio.create_task(delay(10))\n",
    "    try:\n",
    "        result = await asyncio.wait_for(asyncio.shield(task), 5)\n",
    "        print(result)\n",
    "    except TimeoutError:\n",
    "        print(\"Задача заняла более 5 с, скоро она закончится!\")\n",
    "        result = await task\n",
    "        print(result)\n",
    "        \n",
    "# asyncio.run(main())\n",
    "await main()"
   ]
  },
  {
   "cell_type": "code",
   "execution_count": null,
   "id": "01f1f460",
   "metadata": {},
   "outputs": [],
   "source": []
  }
 ],
 "metadata": {
  "kernelspec": {
   "display_name": "Python 3 (ipykernel)",
   "language": "python",
   "name": "python3"
  },
  "language_info": {
   "codemirror_mode": {
    "name": "ipython",
    "version": 3
   },
   "file_extension": ".py",
   "mimetype": "text/x-python",
   "name": "python",
   "nbconvert_exporter": "python",
   "pygments_lexer": "ipython3",
   "version": "3.11.5"
  }
 },
 "nbformat": 4,
 "nbformat_minor": 5
}
