{
 "cells": [
  {
   "cell_type": "markdown",
   "id": "efb35acc",
   "metadata": {},
   "source": [
    "#### Функции"
   ]
  },
  {
   "cell_type": "code",
   "execution_count": 2,
   "id": "ca83c4ff",
   "metadata": {},
   "outputs": [
    {
     "data": {
      "text/plain": [
       "10"
      ]
     },
     "execution_count": 2,
     "metadata": {},
     "output_type": "execute_result"
    }
   ],
   "source": [
    "def my_func(num):\n",
    "    return num + 5\n",
    "\n",
    "result = my_func\n",
    "result(5)"
   ]
  },
  {
   "cell_type": "code",
   "execution_count": 17,
   "id": "a3635e1e",
   "metadata": {},
   "outputs": [
    {
     "name": "stdout",
     "output_type": "stream",
     "text": [
      "[2, 4, 6]\n"
     ]
    }
   ],
   "source": [
    "def my_func(numbers, func):\n",
    "    results = []\n",
    "    for num in numbers:\n",
    "        res = func(num)\n",
    "        if res:\n",
    "            results.append(res)\n",
    "    return results\n",
    "\n",
    "def my_func2(num):\n",
    "    if num % 2 == 0:\n",
    "        return num\n",
    "\n",
    "numbers = [1, 2, 3, 4, 5, 6]\n",
    "result = my_func(numbers, my_func2)\n",
    "print(result)"
   ]
  },
  {
   "cell_type": "code",
   "execution_count": 22,
   "id": "4d311185",
   "metadata": {},
   "outputs": [
    {
     "data": {
      "text/plain": [
       "-3"
      ]
     },
     "execution_count": 22,
     "metadata": {},
     "output_type": "execute_result"
    }
   ],
   "source": [
    "def add(a, b):\n",
    "    return a + b\n",
    "\n",
    "def sub(a, b):\n",
    "    return a - b\n",
    "\n",
    "a, b = 3, 6\n",
    "(sub if a < b else add)(a, b)"
   ]
  },
  {
   "cell_type": "code",
   "execution_count": 24,
   "id": "d7367dbd",
   "metadata": {},
   "outputs": [
    {
     "name": "stdout",
     "output_type": "stream",
     "text": [
      "6\n",
      "12\n"
     ]
    }
   ],
   "source": [
    "def my_func(n):\n",
    "    def mul(x):\n",
    "        return x * n\n",
    "    return mul\n",
    "\n",
    "func1 = my_func(2)\n",
    "func2 = my_func(3)\n",
    "print(func1(3))\n",
    "print(func2(4))"
   ]
  },
  {
   "cell_type": "code",
   "execution_count": 25,
   "id": "ecd2bc56",
   "metadata": {},
   "outputs": [
    {
     "data": {
      "text/plain": [
       "[6, 8]"
      ]
     },
     "execution_count": 25,
     "metadata": {},
     "output_type": "execute_result"
    }
   ],
   "source": [
    "def func(a, b):\n",
    "    return a + b\n",
    "\n",
    "result = map(func, [2, 3], [4, 5])\n",
    "list(result)"
   ]
  },
  {
   "cell_type": "code",
   "execution_count": 27,
   "id": "0f899258",
   "metadata": {},
   "outputs": [
    {
     "data": {
      "text/plain": [
       "[2, 4, 8, 10]"
      ]
     },
     "execution_count": 27,
     "metadata": {},
     "output_type": "execute_result"
    }
   ],
   "source": [
    "numbers = [1, 2, 4, 5, 7, 8, 10, 11]\n",
    "def filter_func(num):\n",
    "    if(num % 2) == 0:\n",
    "        return True\n",
    "    else:\n",
    "        return False\n",
    "result = filter(filter_func, numbers)\n",
    "list(result)"
   ]
  },
  {
   "cell_type": "code",
   "execution_count": 28,
   "id": "173e0872",
   "metadata": {},
   "outputs": [
    {
     "name": "stdout",
     "output_type": "stream",
     "text": [
      "Привет!\n",
      "Привет!\n",
      "Привет!\n"
     ]
    }
   ],
   "source": [
    "def func(func1, n):\n",
    "    for i in range(n):\n",
    "        func1()\n",
    "def my_func():\n",
    "    print('Привет!')\n",
    "\n",
    "func(my_func, 3)"
   ]
  },
  {
   "cell_type": "code",
   "execution_count": 31,
   "id": "f7457701",
   "metadata": {},
   "outputs": [
    {
     "data": {
      "text/plain": [
       "75"
      ]
     },
     "execution_count": 31,
     "metadata": {},
     "output_type": "execute_result"
    }
   ],
   "source": [
    "def my_func(func):\n",
    "    def inner(arg):\n",
    "        return func(func(arg))\n",
    "    return inner\n",
    "\n",
    "def func1(n):\n",
    "    return n * 5\n",
    "my_func(func1)(3)"
   ]
  },
  {
   "cell_type": "code",
   "execution_count": 32,
   "id": "d6dfb5df",
   "metadata": {},
   "outputs": [
    {
     "name": "stdout",
     "output_type": "stream",
     "text": [
      "<function my_func.<locals>.inner at 0x0000019A27A35DA0>\n",
      "75\n"
     ]
    }
   ],
   "source": [
    "result = my_func(func1)\n",
    "print(result)\n",
    "print(result(3))"
   ]
  },
  {
   "cell_type": "code",
   "execution_count": 33,
   "id": "d6a46393",
   "metadata": {},
   "outputs": [
    {
     "name": "stdout",
     "output_type": "stream",
     "text": [
      "<function <lambda> at 0x0000019A240BCFE0>\n",
      "7\n"
     ]
    }
   ],
   "source": [
    "result = lambda x, y: x + y\n",
    "print(result)\n",
    "print(result(5, 2))"
   ]
  },
  {
   "cell_type": "code",
   "execution_count": 34,
   "id": "1338c58f",
   "metadata": {},
   "outputs": [
    {
     "data": {
      "text/plain": [
       "[1, 4, 9, 16, 25]"
      ]
     },
     "execution_count": 34,
     "metadata": {},
     "output_type": "execute_result"
    }
   ],
   "source": [
    "numbers = [1, 2, 3, 4, 5]\n",
    "result = map(lambda n: n ** 2, numbers)\n",
    "list(result)"
   ]
  },
  {
   "cell_type": "code",
   "execution_count": 36,
   "id": "8578384d",
   "metadata": {},
   "outputs": [
    {
     "name": "stdout",
     "output_type": "stream",
     "text": [
      "8\n",
      "8\n"
     ]
    }
   ],
   "source": [
    "def func1(x):\n",
    "    return x ** 3\n",
    "\n",
    "res = lambda x: x ** 3\n",
    "print(func1(2))\n",
    "print(res(2))"
   ]
  },
  {
   "cell_type": "code",
   "execution_count": 37,
   "id": "b611d19a",
   "metadata": {},
   "outputs": [
    {
     "data": {
      "text/plain": [
       "5"
      ]
     },
     "execution_count": 37,
     "metadata": {},
     "output_type": "execute_result"
    }
   ],
   "source": [
    "res = lambda a, b: a if a > b else b\n",
    "res(3, 5)"
   ]
  },
  {
   "cell_type": "code",
   "execution_count": 38,
   "id": "9c5f664b",
   "metadata": {},
   "outputs": [
    {
     "data": {
      "text/plain": [
       "[9, 16, 30]"
      ]
     },
     "execution_count": 38,
     "metadata": {},
     "output_type": "execute_result"
    }
   ],
   "source": [
    "cur_list = [[10,6,9],[0, 14, 16, 80],[8, 12, 30, 44]]\n",
    "sort_list = lambda x: (sorted(i) for i in x)\n",
    "sec_largest = lambda x, func: [y[len(y)-2] for y in func(x)]\n",
    "result = sec_largest(cur_list, sort_list)\n",
    "result"
   ]
  },
  {
   "cell_type": "code",
   "execution_count": null,
   "id": "c8c335d8",
   "metadata": {},
   "outputs": [],
   "source": []
  }
 ],
 "metadata": {
  "kernelspec": {
   "display_name": "Python 3 (ipykernel)",
   "language": "python",
   "name": "python3"
  },
  "language_info": {
   "codemirror_mode": {
    "name": "ipython",
    "version": 3
   },
   "file_extension": ".py",
   "mimetype": "text/x-python",
   "name": "python",
   "nbconvert_exporter": "python",
   "pygments_lexer": "ipython3",
   "version": "3.11.5"
  }
 },
 "nbformat": 4,
 "nbformat_minor": 5
}
