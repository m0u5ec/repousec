{
 "cells": [
  {
   "cell_type": "code",
   "execution_count": 17,
   "id": "dac1183a-bf48-4f5c-bde8-1e352bce52d6",
   "metadata": {},
   "outputs": [
    {
     "name": "stdin",
     "output_type": "stream",
     "text": [
      "Введите целое число:  fvdfv\n"
     ]
    },
    {
     "name": "stdout",
     "output_type": "stream",
     "text": [
      "Это не целое число!\n",
      "Попробуйте еще раз.\n"
     ]
    },
    {
     "name": "stdin",
     "output_type": "stream",
     "text": [
      "Введите целое число:  rfvrdv\n"
     ]
    },
    {
     "name": "stdout",
     "output_type": "stream",
     "text": [
      "Это не целое число!\n",
      "Попробуйте еще раз.\n"
     ]
    },
    {
     "name": "stdin",
     "output_type": "stream",
     "text": [
      "Введите целое число:  sfver\n"
     ]
    },
    {
     "name": "stdout",
     "output_type": "stream",
     "text": [
      "Это не целое число!\n",
      "Превышено количество неудачных попыток!\n"
     ]
    }
   ],
   "source": [
    "state='' \n",
    "N=1\n",
    "while state !='нет':\n",
    "    try:\n",
    "        N_in = input('Введите целое число: ')\n",
    "        if  N_in.isnumeric():\n",
    "            N=int(N_in)\n",
    "            Fibonachi = [0,1]\n",
    "            for i in range(2,N):\n",
    "                Fibonachi.append(Fibonachi[i-1] + Fibonachi[i-2])\n",
    "            print(f'Изначальный ряд: {Fibonachi}')\n",
    "            Fibonachi_2 = Fibonachi.copy()\n",
    "            Sum = 0\n",
    "            for X in Fibonachi:\n",
    "                print(f'берем {X}')\n",
    "                if X%2 == 0:\n",
    "                    Sum += X\n",
    "                    print(f'{X} чётное, в сумму его')\n",
    "                else:\n",
    "                    Fibonachi_2.remove(X)\n",
    "                    print(f'{X} НЕ чётное, удалить его')\n",
    "\n",
    "            print(f'Только чётные: {Fibonachi_2}')\n",
    "            print(f'Сумма чётных: {Sum}')\n",
    "        else:\n",
    "            print('Это не целое число!')\n",
    "            raise ValueError\n",
    "    except ValueError:\n",
    "        if N<3:\n",
    "            print('Попробуйте еще раз.')\n",
    "            N += 1\n",
    "        else:\n",
    "            print('Превышено количество неудачных попыток!')\n",
    "            break  \n",
    "    else:\n",
    "        state = input('Повторим (да / нет)? ').lower()"
   ]
  },
  {
   "cell_type": "code",
   "execution_count": null,
   "id": "5aed2e53-d8a4-409e-817b-54cf28003aa2",
   "metadata": {},
   "outputs": [],
   "source": []
  },
  {
   "cell_type": "code",
   "execution_count": null,
   "id": "7349317f-c20d-4f80-bd16-5f44fcce6715",
   "metadata": {},
   "outputs": [],
   "source": []
  }
 ],
 "metadata": {
  "kernelspec": {
   "display_name": "Python 3 (ipykernel)",
   "language": "python",
   "name": "python3"
  },
  "language_info": {
   "codemirror_mode": {
    "name": "ipython",
    "version": 3
   },
   "file_extension": ".py",
   "mimetype": "text/x-python",
   "name": "python",
   "nbconvert_exporter": "python",
   "pygments_lexer": "ipython3",
   "version": "3.12.4"
  }
 },
 "nbformat": 4,
 "nbformat_minor": 5
}
