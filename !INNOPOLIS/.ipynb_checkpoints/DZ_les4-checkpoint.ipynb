{
 "cells": [
  {
   "cell_type": "code",
   "execution_count": null,
   "id": "37f7f67b-1105-4144-a43d-bd1e6aba25dc",
   "metadata": {},
   "outputs": [],
   "source": [
    "print('Добро пожаловать в калькулятор для глупеньких, но не ленивеньких!')\n",
    "login = input('Введите логин:')\n",
    "if login == 'admin':\n",
    "    print('Привет, admin')\n",
    "    i=1\n",
    "    while i<=3:\n",
    "        pwd = input('Введите пароль:')\n",
    "        if pwd == 'admin':\n",
    "            i=4\n",
    "            print('Начнем-c!')\n",
    "            ### Сам калькулятор собственно, в который бы еще try except воткнуть, но мы его еще типа не проходили...\n",
    "            state='' \n",
    "            while state !='нет':\n",
    "                x = int(input('Введите x:'))\n",
    "                oper = input('Введите операцию:')\n",
    "                y = int(input('Введите y:'))\n",
    "                if oper == '-':\n",
    "                    print(x,oper,y,' = ',x-y)\n",
    "                elif oper == '+':\n",
    "                    print(x,oper,y,' = ',x+y)\n",
    "                elif oper == '*':\n",
    "                    print(x,oper,y,' = ',x*y)\n",
    "                elif oper == '/':\n",
    "                    print(x,oper,y,' = ',x/y)\n",
    "                elif oper == '//':\n",
    "                    print(x,oper,y,' = ',x//y)\n",
    "                elif oper == '**':\n",
    "                    print(x,oper,y,' = ',x**y)\n",
    "                else:\n",
    "                    print('Давайте без неведомой ерунды!')\n",
    "                state = input('Ещё(да/нет)?').lower()\n",
    "                print(state)\n",
    "            ### Сам калькулятор закончился\n",
    "        else:\n",
    "            if i==3:\n",
    "                print('Попытки закончились(')\n",
    "            else:\n",
    "                print('Промахнулся! попробуй ещё раз, у тебя осталось ',3-i,' попытки(а)!')\n",
    "            i=i+1\n",
    "else:\n",
    "    print('''Сорян, я вас не знаю >=/ \n",
    "    Досвидания!''')    "
   ]
  },
  {
   "cell_type": "code",
   "execution_count": null,
   "id": "eadb783a-7957-42ba-8d87-0f12d6f0f6ca",
   "metadata": {},
   "outputs": [],
   "source": []
  }
 ],
 "metadata": {
  "kernelspec": {
   "display_name": "Python 3 (ipykernel)",
   "language": "python",
   "name": "python3"
  },
  "language_info": {
   "codemirror_mode": {
    "name": "ipython",
    "version": 3
   },
   "file_extension": ".py",
   "mimetype": "text/x-python",
   "name": "python",
   "nbconvert_exporter": "python",
   "pygments_lexer": "ipython3",
   "version": "3.12.4"
  }
 },
 "nbformat": 4,
 "nbformat_minor": 5
}
