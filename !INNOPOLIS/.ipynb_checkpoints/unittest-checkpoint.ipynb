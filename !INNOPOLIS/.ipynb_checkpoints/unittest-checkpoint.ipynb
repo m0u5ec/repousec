{
 "cells": [
  {
   "cell_type": "code",
   "execution_count": null,
   "id": "cecabb9b",
   "metadata": {},
   "outputs": [],
   "source": [
    "import unittest"
   ]
  },
  {
   "cell_type": "code",
   "execution_count": null,
   "id": "c5d7dda0",
   "metadata": {},
   "outputs": [],
   "source": [
    "class SimpleisticTest(unittest.TestCase):\n",
    "    def test(self):\n",
    "        a = 'a'\n",
    "        b = 'a'\n",
    "        self.assertEqual(a, b)"
   ]
  },
  {
   "cell_type": "code",
   "execution_count": null,
   "id": "5e4fb44b",
   "metadata": {},
   "outputs": [],
   "source": [
    "unittest.main(argv=[''], verbosity=2, exit=False)"
   ]
  },
  {
   "cell_type": "code",
   "execution_count": null,
   "id": "d3411e0b",
   "metadata": {},
   "outputs": [],
   "source": [
    "class OutcomesTest(unittest.TestCase):\n",
    "    def testPass(self):\n",
    "        return\n",
    "    def testFail(self):\n",
    "        self.assertFalse(True)\n",
    "    def testError(self):\n",
    "        raise RuntimeError('Test error!')"
   ]
  },
  {
   "cell_type": "code",
   "execution_count": null,
   "id": "6ba16c25",
   "metadata": {},
   "outputs": [],
   "source": [
    "unittest.main(argv=[''], verbosity=2, exit=False)"
   ]
  },
  {
   "cell_type": "code",
   "execution_count": null,
   "id": "083e3bb2",
   "metadata": {},
   "outputs": [],
   "source": [
    "class FailureMessageTest(unittest.TestCase):\n",
    "    def testFail(self):\n",
    "        self.assertFalse(True, 'Сообщение о ошибке')"
   ]
  },
  {
   "cell_type": "code",
   "execution_count": null,
   "id": "db569a89",
   "metadata": {},
   "outputs": [],
   "source": [
    "unittest.main(argv=[''], verbosity=2, exit=False)"
   ]
  },
  {
   "cell_type": "code",
   "execution_count": null,
   "id": "5a53f0a1",
   "metadata": {},
   "outputs": [],
   "source": [
    "import unittest\n",
    "\n",
    "class TruthTest(unittest.TestCase):\n",
    "    def testAssertTrue(self):\n",
    "        self.assertTrue(True)\n",
    "    def testAssertFalse(self):\n",
    "        self.assertFalse(False)\n"
   ]
  },
  {
   "cell_type": "code",
   "execution_count": null,
   "id": "90fcd2f3",
   "metadata": {},
   "outputs": [],
   "source": [
    "unittest.main(argv=[''], verbosity=2, exit=False)"
   ]
  },
  {
   "cell_type": "code",
   "execution_count": null,
   "id": "6b49f2d6",
   "metadata": {},
   "outputs": [],
   "source": [
    "import unittest\n",
    "\n",
    "class EqualityTest(unittest.TestCase):\n",
    "    def testExpectEqual(self):\n",
    "        self.assertEqual(1, 3 - 2)\n",
    "    def testExpectEqualFails(self):\n",
    "        self.assertEqual(2, 3 - 2)\n",
    "    def testExpectNotEqual(self):\n",
    "        self.assertNotEqual(2, 3 - 2)\n",
    "    def testExpectNotEqualFails(self):\n",
    "        self.assertNotEqual(1, 3 - 2)\n"
   ]
  },
  {
   "cell_type": "code",
   "execution_count": null,
   "id": "336cb6c4",
   "metadata": {},
   "outputs": [],
   "source": [
    "unittest.main(argv=[''], verbosity=2, exit=False)"
   ]
  },
  {
   "cell_type": "code",
   "execution_count": null,
   "id": "e3a62b76",
   "metadata": {},
   "outputs": [],
   "source": [
    "import unittest\n",
    "\n",
    "class AlmostEqualTest(unittest.TestCase):\n",
    "    def testEqual(self):\n",
    "        self.assertEqual(1.1, 3.3 - 2.2)\n",
    "    def testAlmostEqual(self):\n",
    "        self.assertAlmostEqual(1.1, 3.3 - 2.2, places=1)\n",
    "    def testNotAlmostEqual(self):\n",
    "        self.assertNotAlmostEqual(1.1, 3.3 - 2.0, places=1)\n"
   ]
  },
  {
   "cell_type": "code",
   "execution_count": null,
   "id": "677ed808",
   "metadata": {},
   "outputs": [],
   "source": [
    "unittest.main(argv=[''], verbosity=2, exit=False)"
   ]
  },
  {
   "cell_type": "code",
   "execution_count": null,
   "id": "74b6dec8",
   "metadata": {},
   "outputs": [],
   "source": [
    "import textwrap\n",
    "import unittest\n",
    "\n",
    "class ContainerEqualityTest(unittest.TestCase):\n",
    "    def testCount(self):\n",
    "        self.assertCountEqual(\n",
    "        [1, 2, 3, 2],\n",
    "        [1, 3, 2, 3],\n",
    "        )\n",
    "    def testDict(self):\n",
    "        self.assertDictEqual(\n",
    "        {'a': 1, 'b': 2},\n",
    "        {'a': 1, 'b': 3},\n",
    "        )\n",
    "    def testList(self):\n",
    "        self.assertListEqual(\n",
    "        [1, 2, 3],\n",
    "        [1, 3, 2],\n",
    "        )\n",
    "    def testMultiLineString(self):\n",
    "        self.assertMultiLineEqual(\n",
    "        textwrap.dedent(\"\"\"\n",
    "        Это\n",
    "        первая\n",
    "        строка\n",
    "        \"\"\"),\n",
    "        textwrap.dedent(\"\"\"\n",
    "        Это\n",
    "        вторая\n",
    "        строка\n",
    "        \"\"\")\n",
    "        )\n",
    "    def testSequence(self):\n",
    "        self.assertSequenceEqual(\n",
    "        [1, 2, 3],\n",
    "        [1, 3, 2],\n",
    "        )\n",
    "    def testSet(self) :\n",
    "        self.assertSetEqual(\n",
    "        set([1, 2, 3]),\n",
    "        set([1, 3, 2, 4]),\n",
    "        )\n",
    "    def testTuple(self):\n",
    "        self.assertTupleEqual(\n",
    "        (1, 'a'),\n",
    "        (1, 'b'),\n",
    "        )"
   ]
  },
  {
   "cell_type": "code",
   "execution_count": null,
   "id": "79966f2c",
   "metadata": {},
   "outputs": [],
   "source": [
    "unittest.main(argv=[''], verbosity=1, exit=False)"
   ]
  },
  {
   "cell_type": "code",
   "execution_count": null,
   "id": "a16e693f",
   "metadata": {},
   "outputs": [],
   "source": [
    "import unittest\n",
    "\n",
    "class ContainerMembershipTest(unittest.TestCase):\n",
    "    def testDict(self):\n",
    "        self.assertIn(4, {1: 'a', 2: 'b', 3: 'c'})\n",
    "    def testList(self):\n",
    "        self.assertIn(4, [1, 2, 3])\n",
    "    def testSet(self):\n",
    "        self.assertIn(4, set([1, 2, 3]))\n"
   ]
  },
  {
   "cell_type": "code",
   "execution_count": null,
   "id": "334572ff",
   "metadata": {},
   "outputs": [],
   "source": [
    "unittest.main(argv=[''], verbosity=1, exit=False)"
   ]
  },
  {
   "cell_type": "code",
   "execution_count": null,
   "id": "6dbac664",
   "metadata": {},
   "outputs": [],
   "source": [
    "import unittest\n",
    "\n",
    "def raises_error(*args, **kwds):\n",
    "    raise ValueError('Invalid value: ' + str(args) + str(kwds))\n",
    "    \n",
    "    \n",
    "class ExceptionTest(unittest.TestCase):\n",
    "    def testTrapLocally(self):\n",
    "        try:\n",
    "            raises_error('a', b='с')\n",
    "        except ValueError:\n",
    "            pass\n",
    "        else:\n",
    "            self.fail('Нет ValueError')\n",
    "    def testAssertRaises(self):\n",
    "        self.assertRaises(ValueError, raises_error, 'a', b='c')"
   ]
  },
  {
   "cell_type": "code",
   "execution_count": null,
   "id": "5fb05f27",
   "metadata": {},
   "outputs": [],
   "source": [
    "unittest.main(argv=[''], verbosity=1, exit=False)"
   ]
  },
  {
   "cell_type": "code",
   "execution_count": null,
   "id": "4731a7b7",
   "metadata": {},
   "outputs": [],
   "source": [
    "import random\n",
    "import unittest\n",
    "\n",
    "def setUpModule():\n",
    "    print('В setUpModule()')\n",
    "def tearDownModule():\n",
    "    print('В tearDownModule()')\n",
    "    \n",
    "class FixturesTest(unittest.TestCase):\n",
    "    @classmethod\n",
    "    def setUpClass(cls):\n",
    "        print('В setUpClass()')\n",
    "        cls.good_range = range(1, 10)\n",
    "    @classmethod\n",
    "    def tearDownClass(cls):\n",
    "        print('В tearDownClass()' )\n",
    "        del cls.good_range\n",
    "    def setUp(self):\n",
    "        super().setUp()\n",
    "        print('\\nВ setUp()')\n",
    "        self.value = random.randint(\n",
    "        self.good_range.start,\n",
    "        self.good_range.stop - 1,\n",
    "        )\n",
    "    def tearDown(self):\n",
    "        print('В tearDown()')\n",
    "        del self.value\n",
    "        super().tearDown()\n",
    "    def test1(self):\n",
    "        print('В test1()')\n",
    "        self.assertIn(self.value, self.good_range)\n",
    "    def test2(self):\n",
    "        print('В test2()')\n",
    "        self.assertIn(self.value, self.good_range)"
   ]
  },
  {
   "cell_type": "code",
   "execution_count": null,
   "id": "eb87535e",
   "metadata": {},
   "outputs": [],
   "source": [
    "unittest.main(argv=[''], verbosity=1, exit=False)"
   ]
  },
  {
   "cell_type": "code",
   "execution_count": null,
   "id": "dcbad798",
   "metadata": {},
   "outputs": [],
   "source": [
    "import sys\n",
    "import unittest\n",
    "\n",
    "class SkippingTest(unittest.TestCase):\n",
    "    @unittest.skip('Всегда пропущено')\n",
    "    def test(self):\n",
    "        self.assertTrue(False)\n",
    "    @unittest.skipIf(sys.version_info[0] > 2, 'Только для python 2')\n",
    "    def test_python2_only(self):\n",
    "        self.assertTrue(False)\n",
    "    @unittest.skipUnless(sys.platform == 'Darwin', 'Только для macOS')\n",
    "    def test_macos_only(self):\n",
    "        self.assertTrue(True)\n",
    "    def test__raise_skiptest(self):\n",
    "        raise unittest.SkipTest('пропуск через исключение')"
   ]
  },
  {
   "cell_type": "code",
   "execution_count": null,
   "id": "3a542421",
   "metadata": {},
   "outputs": [],
   "source": [
    "unittest.main(argv=[''], verbosity=2, exit=False)"
   ]
  },
  {
   "cell_type": "code",
   "execution_count": 1,
   "id": "7840bc18",
   "metadata": {},
   "outputs": [],
   "source": [
    "import unittest\n",
    "\n",
    "class Test(unittest.TestCase):\n",
    "    @unittest.expectedFailure\n",
    "    def test_never_passes(self):\n",
    "        self.assertTrue(False)\n",
    "    @unittest.expectedFailure\n",
    "    def test_always_passes(self):\n",
    "        self.assertTrue(True)\n"
   ]
  },
  {
   "cell_type": "code",
   "execution_count": 2,
   "id": "1621dfe5",
   "metadata": {},
   "outputs": [
    {
     "name": "stderr",
     "output_type": "stream",
     "text": [
      "test_always_passes (__main__.Test.test_always_passes) ... unexpected success\n",
      "test_never_passes (__main__.Test.test_never_passes) ... expected failure\n",
      "\n",
      "======================================================================\n",
      "UNEXPECTED SUCCESS: test_always_passes (__main__.Test.test_always_passes)\n",
      "----------------------------------------------------------------------\n",
      "Ran 2 tests in 0.004s\n",
      "\n",
      "FAILED (expected failures=1, unexpected successes=1)\n"
     ]
    },
    {
     "data": {
      "text/plain": [
       "<unittest.main.TestProgram at 0x150bd103c10>"
      ]
     },
     "execution_count": 2,
     "metadata": {},
     "output_type": "execute_result"
    }
   ],
   "source": [
    "unittest.main(argv=[''], verbosity=2, exit=False)"
   ]
  },
  {
   "cell_type": "code",
   "execution_count": null,
   "id": "e867499d",
   "metadata": {},
   "outputs": [],
   "source": []
  }
 ],
 "metadata": {
  "kernelspec": {
   "display_name": "Python 3 (ipykernel)",
   "language": "python",
   "name": "python3"
  },
  "language_info": {
   "codemirror_mode": {
    "name": "ipython",
    "version": 3
   },
   "file_extension": ".py",
   "mimetype": "text/x-python",
   "name": "python",
   "nbconvert_exporter": "python",
   "pygments_lexer": "ipython3",
   "version": "3.11.5"
  }
 },
 "nbformat": 4,
 "nbformat_minor": 5
}
