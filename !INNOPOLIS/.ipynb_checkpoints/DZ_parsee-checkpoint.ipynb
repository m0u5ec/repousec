{
 "cells": [
  {
   "cell_type": "code",
   "execution_count": 18,
   "id": "4423e7f2-1ca4-422f-b127-d1e6ebc7e53e",
   "metadata": {},
   "outputs": [
    {
     "name": "stdout",
     "output_type": "stream",
     "text": [
      "200\n"
     ]
    }
   ],
   "source": [
    "import csv\n",
    "import requests \n",
    "from bs4 import BeautifulSoup\n",
    "res = requests.get('https://ru.wikipedia.org/wiki/Python')\n",
    "print(res.status_code)"
   ]
  },
  {
   "cell_type": "code",
   "execution_count": 26,
   "id": "7de9f4c3-9e62-4dbf-ae5a-0a6fa222435e",
   "metadata": {},
   "outputs": [
    {
     "data": {
      "text/plain": [
       "<function TextIOWrapper.close()>"
      ]
     },
     "execution_count": 26,
     "metadata": {},
     "output_type": "execute_result"
    }
   ],
   "source": [
    "bs = BeautifulSoup(res.text, 'lxml')\n",
    "#print(bs.body.prettify())\n",
    "h3_headers=bs.find_all('h3')\n",
    "with open(\"parsee.txt\", \"a+\") as file:\n",
    "    for header in h3_headers:\n",
    "        file.write(f'{header.text}\\n')\n",
    "file.close"
   ]
  },
  {
   "cell_type": "code",
   "execution_count": 27,
   "id": "f02294f0-c55f-4b84-9e1f-2d529d6ff10d",
   "metadata": {},
   "outputs": [
    {
     "name": "stdout",
     "output_type": "stream",
     "text": [
      "Операторы\n",
      "Система отступов\n",
      "Выражения\n",
      "Имена\n",
      "Строки документации\n",
      "Объектно-ориентированное программирование\n",
      "Обобщённое программирование\n",
      "Функциональное программирование\n",
      "Метапрограммирование\n",
      "Асинхронное программирование\n",
      "Модули и пакеты\n",
      "Интроспекция\n",
      "Обработка исключений\n",
      "Итераторы\n",
      "Генераторы\n",
      "Управление контекстом выполнения\n",
      "Декораторы\n",
      "Регулярные выражения\n",
      "C++ и Java\n",
      "Go\n",
      "Perl\n",
      "MATLAB и R\n",
      "Языки, на которые повлиял Python\n",
      "Низкое быстродействие\n",
      "Глобальная блокировка интерпретатора (GIL)\n",
      "Синтаксис и семантика\n",
      "Невозможность модификации встроенных классов\n",
      "CPython\n",
      "PyPy\n",
      "Jython\n",
      "Другие реализации\n",
      "Интерактивный режим\n",
      "IDE\n",
      "Комментарии\n",
      "Источники\n",
      "\n",
      "Персональные инструменты\n",
      "\n",
      "\n",
      "Пространства имён\n",
      "\n",
      "\n",
      "Просмотры\n",
      "\n",
      "Поиск\n",
      "\n",
      "Навигация\n",
      "\n",
      "\n",
      "Участие\n",
      "\n",
      "\n",
      "Инструменты\n",
      "\n",
      "\n",
      "Печать/экспорт\n",
      "\n",
      "\n",
      "В других проектах\n",
      "\n",
      "\n",
      "На других языках\n",
      "\n",
      "\n"
     ]
    }
   ],
   "source": [
    "with open('parsee.txt') as f:\n",
    "    print(f.read())"
   ]
  },
  {
   "cell_type": "code",
   "execution_count": null,
   "id": "1bbc9174-069d-4749-ad46-c8f18c652dcf",
   "metadata": {},
   "outputs": [],
   "source": []
  }
 ],
 "metadata": {
  "kernelspec": {
   "display_name": "Python 3 (ipykernel)",
   "language": "python",
   "name": "python3"
  },
  "language_info": {
   "codemirror_mode": {
    "name": "ipython",
    "version": 3
   },
   "file_extension": ".py",
   "mimetype": "text/x-python",
   "name": "python",
   "nbconvert_exporter": "python",
   "pygments_lexer": "ipython3",
   "version": "3.12.4"
  }
 },
 "nbformat": 4,
 "nbformat_minor": 5
}
