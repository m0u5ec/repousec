{
 "cells": [
  {
   "cell_type": "code",
   "execution_count": 4,
   "id": "02a274a0-4c02-4f7b-aa66-44039e0a49a6",
   "metadata": {},
   "outputs": [
    {
     "data": {
      "text/plain": [
       "True"
      ]
     },
     "execution_count": 4,
     "metadata": {},
     "output_type": "execute_result"
    }
   ],
   "source": [
    "import os\n",
    "import sqlite3\n",
    "\n",
    "def init_data(): #Инициализация данных - создание БД, очистка таблицы и заполнение стартовым набором данных\n",
    "    try:\n",
    "        db_filename = 'people.db'\n",
    "        conn = sqlite3.connect(db_filename)\n",
    "        cur = conn.cursor()\n",
    "        cur.execute(\"DROP TABLE IF EXISTS people\")\n",
    "        cur.execute(\"\"\"CREATE TABLE people(\n",
    "                    id integer primary key autoincrement not null,\n",
    "                    fname text,\n",
    "                    lname text,\n",
    "                    age integer);\"\"\")\n",
    "        people_init = [('Иван', 'Иванов',  '19'),\n",
    "                        ('Пётр', 'Сидоров',  '27'),\n",
    "                        ('Николай', 'Зайцев',  '77'),\n",
    "                        ('Ирина', 'Сивко',  '50'),\n",
    "                        ('Злата', 'Егорова',  '31'),\n",
    "                        ('Илья', 'Голубцов',  '17'),\n",
    "                        ('Сергей', 'Слепов',  '37'),\n",
    "                        ('Степан', 'Семёнов',  '45'),\n",
    "                        ('Ангелина', 'Кравцова',  '29'),\n",
    "                        ('Павел', 'Иванов',  '33'),\n",
    "                        ('Сергей', 'Есенин',  '49'),\n",
    "                        ('Анна', 'Петрова',  '47'),\n",
    "                        ('Наталья', 'Станкова',  '39'),\n",
    "                        ('Диниил', 'Копин',  '35'),\n",
    "                        ('Алексей', 'Пролетарский',  '27')]\n",
    "        cur.executemany(\"INSERT INTO people(fname, lname, age) VALUES( ?, ?, ?);\", people_init)\n",
    "        conn.commit()\n",
    "        #cur.execute(\"SELECT * FROM people\")\n",
    "        #for row in cur.fetchall():\n",
    "        #    print(row)\n",
    "        conn.close()\n",
    "        return True\n",
    "    except Exception:\n",
    "        return False\n",
    "\n",
    "\n",
    "\n",
    "\n",
    "####################################\n",
    "init_data()"
   ]
  },
  {
   "cell_type": "code",
   "execution_count": null,
   "id": "ae92c4b9-7c3d-40e0-a86f-0fc166d746dd",
   "metadata": {},
   "outputs": [],
   "source": []
  }
 ],
 "metadata": {
  "kernelspec": {
   "display_name": "Python 3 (ipykernel)",
   "language": "python",
   "name": "python3"
  },
  "language_info": {
   "codemirror_mode": {
    "name": "ipython",
    "version": 3
   },
   "file_extension": ".py",
   "mimetype": "text/x-python",
   "name": "python",
   "nbconvert_exporter": "python",
   "pygments_lexer": "ipython3",
   "version": "3.12.4"
  }
 },
 "nbformat": 4,
 "nbformat_minor": 5
}
