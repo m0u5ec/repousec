{
 "cells": [
  {
   "cell_type": "markdown",
   "id": "f4418bdd",
   "metadata": {},
   "source": [
    "### Основные типы данных"
   ]
  },
  {
   "cell_type": "markdown",
   "id": "f098e33a",
   "metadata": {},
   "source": [
    "#### Числа"
   ]
  },
  {
   "cell_type": "code",
   "execution_count": null,
   "id": "7a810a5a",
   "metadata": {},
   "outputs": [],
   "source": [
    "import decimal, fractions"
   ]
  },
  {
   "cell_type": "markdown",
   "id": "a6c399c1",
   "metadata": {},
   "source": [
    "*Целое число(integer)*"
   ]
  },
  {
   "cell_type": "code",
   "execution_count": null,
   "id": "e6b9e004",
   "metadata": {},
   "outputs": [],
   "source": [
    "type(100)"
   ]
  },
  {
   "cell_type": "markdown",
   "id": "045eb378",
   "metadata": {},
   "source": [
    "*Вещественное число(float)*"
   ]
  },
  {
   "cell_type": "code",
   "execution_count": null,
   "id": "ed8b3d81",
   "metadata": {},
   "outputs": [],
   "source": [
    "type(2.5)"
   ]
  },
  {
   "cell_type": "markdown",
   "id": "cf71a801",
   "metadata": {},
   "source": [
    "*Комплексное число(complex)*"
   ]
  },
  {
   "cell_type": "code",
   "execution_count": null,
   "id": "88628677",
   "metadata": {},
   "outputs": [],
   "source": [
    "type(2+5j)"
   ]
  },
  {
   "cell_type": "markdown",
   "id": "202fe501",
   "metadata": {},
   "source": [
    "*Двоичное число(binary)*"
   ]
  },
  {
   "cell_type": "code",
   "execution_count": null,
   "id": "e44a77a3",
   "metadata": {},
   "outputs": [],
   "source": [
    "type(0b111)"
   ]
  },
  {
   "cell_type": "markdown",
   "id": "9bbf22de",
   "metadata": {},
   "source": [
    "*Точные вычисления с плаващей точкой(decimal)*"
   ]
  },
  {
   "cell_type": "code",
   "execution_count": null,
   "id": "4bea6894",
   "metadata": {},
   "outputs": [],
   "source": [
    "type(decimal.Decimal(1))"
   ]
  },
  {
   "cell_type": "markdown",
   "id": "63322a11",
   "metadata": {},
   "source": [
    "*Рациональное число(fraction)*"
   ]
  },
  {
   "cell_type": "code",
   "execution_count": null,
   "id": "5dbdd561",
   "metadata": {},
   "outputs": [],
   "source": [
    "type(fractions.Fraction(1, 2))"
   ]
  },
  {
   "cell_type": "markdown",
   "id": "bcf34bb8",
   "metadata": {},
   "source": [
    "#### Строки"
   ]
  },
  {
   "cell_type": "markdown",
   "id": "332c39d5",
   "metadata": {},
   "source": [
    "*Строка*"
   ]
  },
  {
   "cell_type": "code",
   "execution_count": null,
   "id": "f4cd3090",
   "metadata": {},
   "outputs": [],
   "source": [
    "type('hello')"
   ]
  },
  {
   "cell_type": "markdown",
   "id": "c51a72db",
   "metadata": {},
   "source": [
    "*Байтовые строки*"
   ]
  },
  {
   "cell_type": "code",
   "execution_count": null,
   "id": "29a7ad8c",
   "metadata": {},
   "outputs": [],
   "source": [
    "type(b'a\\x01c')"
   ]
  },
  {
   "cell_type": "markdown",
   "id": "c495872e",
   "metadata": {},
   "source": [
    "*Unicode строки*"
   ]
  },
  {
   "cell_type": "code",
   "execution_count": null,
   "id": "14f569c8",
   "metadata": {},
   "outputs": [],
   "source": [
    "type(u'sp\\xc4m')"
   ]
  },
  {
   "cell_type": "markdown",
   "id": "907b7fcb",
   "metadata": {},
   "source": [
    "#### Списки"
   ]
  },
  {
   "cell_type": "code",
   "execution_count": null,
   "id": "a5abf951",
   "metadata": {},
   "outputs": [],
   "source": [
    "type([1, 2])"
   ]
  },
  {
   "cell_type": "code",
   "execution_count": null,
   "id": "1dce6c63",
   "metadata": {},
   "outputs": [],
   "source": [
    "type(list(range(1, 5)))"
   ]
  },
  {
   "cell_type": "markdown",
   "id": "06d40035",
   "metadata": {},
   "source": [
    "#### Словари"
   ]
  },
  {
   "cell_type": "code",
   "execution_count": null,
   "id": "6f265e93",
   "metadata": {},
   "outputs": [],
   "source": [
    "type({'name': 'Ivan'})"
   ]
  },
  {
   "cell_type": "code",
   "execution_count": null,
   "id": "9bec232b",
   "metadata": {},
   "outputs": [],
   "source": [
    "type(dict(name='Ivan'))"
   ]
  },
  {
   "cell_type": "markdown",
   "id": "349e767e",
   "metadata": {},
   "source": [
    "#### Кортежи"
   ]
  },
  {
   "cell_type": "code",
   "execution_count": null,
   "id": "39614ca7",
   "metadata": {},
   "outputs": [],
   "source": [
    "type((1, 2))"
   ]
  },
  {
   "cell_type": "code",
   "execution_count": null,
   "id": "d6102730",
   "metadata": {},
   "outputs": [],
   "source": [
    "type(tuple('hello'))"
   ]
  },
  {
   "cell_type": "markdown",
   "id": "90bb1160",
   "metadata": {},
   "source": [
    "#### Файлы"
   ]
  },
  {
   "cell_type": "code",
   "execution_count": null,
   "id": "efd21f4d",
   "metadata": {},
   "outputs": [],
   "source": [
    "type(open('file.txt'))"
   ]
  },
  {
   "cell_type": "markdown",
   "id": "d243a116",
   "metadata": {},
   "source": [
    "#### Множества"
   ]
  },
  {
   "cell_type": "code",
   "execution_count": null,
   "id": "001f30fb",
   "metadata": {},
   "outputs": [],
   "source": [
    "type({1, 2, 3})"
   ]
  },
  {
   "cell_type": "code",
   "execution_count": null,
   "id": "35c8f3f2",
   "metadata": {},
   "outputs": [],
   "source": [
    "type(set([1, 2, 3]))"
   ]
  },
  {
   "cell_type": "markdown",
   "id": "7da481d2",
   "metadata": {},
   "source": [
    "#### Булев тип"
   ]
  },
  {
   "cell_type": "code",
   "execution_count": null,
   "id": "7adb1616",
   "metadata": {},
   "outputs": [],
   "source": [
    "type(True)"
   ]
  },
  {
   "cell_type": "markdown",
   "id": "cd8f739e",
   "metadata": {},
   "source": [
    "#### NoneType"
   ]
  },
  {
   "cell_type": "code",
   "execution_count": null,
   "id": "3ee3702d",
   "metadata": {},
   "outputs": [],
   "source": [
    "type(None)"
   ]
  },
  {
   "cell_type": "markdown",
   "id": "bd1fbbd9",
   "metadata": {},
   "source": [
    "### Основные операции с числами"
   ]
  },
  {
   "cell_type": "markdown",
   "id": "17d7658b",
   "metadata": {},
   "source": [
    "*Сложение*"
   ]
  },
  {
   "cell_type": "code",
   "execution_count": null,
   "id": "168e8711",
   "metadata": {},
   "outputs": [],
   "source": [
    "5 + 5"
   ]
  },
  {
   "cell_type": "markdown",
   "id": "7b1ea5ad",
   "metadata": {},
   "source": [
    "*Вычитание*"
   ]
  },
  {
   "cell_type": "code",
   "execution_count": null,
   "id": "905ca639",
   "metadata": {},
   "outputs": [],
   "source": [
    "5 - 5"
   ]
  },
  {
   "cell_type": "markdown",
   "id": "3f8e0139",
   "metadata": {},
   "source": [
    "*Умножение*"
   ]
  },
  {
   "cell_type": "code",
   "execution_count": null,
   "id": "baacee79",
   "metadata": {},
   "outputs": [],
   "source": [
    "5 * 2"
   ]
  },
  {
   "cell_type": "markdown",
   "id": "5606a091",
   "metadata": {},
   "source": [
    "*Деление*"
   ]
  },
  {
   "cell_type": "code",
   "execution_count": null,
   "id": "917b1767",
   "metadata": {},
   "outputs": [],
   "source": [
    "5 / 2"
   ]
  },
  {
   "cell_type": "markdown",
   "id": "1aa6a889",
   "metadata": {},
   "source": [
    "*Целочисленное деление*"
   ]
  },
  {
   "cell_type": "code",
   "execution_count": null,
   "id": "fcdaee5a",
   "metadata": {},
   "outputs": [],
   "source": [
    "5 // 2"
   ]
  },
  {
   "cell_type": "markdown",
   "id": "c1ba54a7",
   "metadata": {},
   "source": [
    "*Остаток от деления*"
   ]
  },
  {
   "cell_type": "code",
   "execution_count": null,
   "id": "f63b9dbd",
   "metadata": {},
   "outputs": [],
   "source": [
    "5 % 2"
   ]
  },
  {
   "cell_type": "markdown",
   "id": "6dbb57a7",
   "metadata": {},
   "source": [
    "*Возведение в степень*"
   ]
  },
  {
   "cell_type": "code",
   "execution_count": null,
   "id": "c68d8854",
   "metadata": {},
   "outputs": [],
   "source": [
    "5 ** 2"
   ]
  },
  {
   "cell_type": "markdown",
   "id": "51a3e93f",
   "metadata": {},
   "source": [
    "*При попытки изменить значение числа, создается новый объект*"
   ]
  },
  {
   "cell_type": "code",
   "execution_count": null,
   "id": "6e94a199",
   "metadata": {},
   "outputs": [],
   "source": [
    "number = 5\n",
    "id(number)"
   ]
  },
  {
   "cell_type": "code",
   "execution_count": null,
   "id": "ca689c59",
   "metadata": {},
   "outputs": [],
   "source": [
    "number = 6\n",
    "id(number)"
   ]
  },
  {
   "cell_type": "markdown",
   "id": "6c4b0c16",
   "metadata": {},
   "source": [
    "#### Условия"
   ]
  },
  {
   "cell_type": "code",
   "execution_count": null,
   "id": "a4fbe653",
   "metadata": {},
   "outputs": [],
   "source": [
    "number = int(input('Введите число: '))\n",
    "if number == 5:\n",
    "    print('YES')"
   ]
  },
  {
   "cell_type": "markdown",
   "id": "b9525932",
   "metadata": {},
   "source": [
    "*Основные операции сравнения*"
   ]
  },
  {
   "cell_type": "raw",
   "id": "15e3cc1e",
   "metadata": {},
   "source": [
    "== - равенство\n",
    "<  - меньше\n",
    ">  - больше\n",
    "<= - меньше или равно\n",
    ">= - больше или равно\n",
    "!= - не равно"
   ]
  },
  {
   "cell_type": "code",
   "execution_count": null,
   "id": "c31d2a10",
   "metadata": {},
   "outputs": [],
   "source": [
    "number = 5\n",
    "if number == 5:\n",
    "    print('Равно 5')\n",
    "if number >= 5:\n",
    "    print('Больше или равно 5')\n",
    "if number <= 5:\n",
    "    print('Меньше или равно 5')\n",
    "if number > 5:\n",
    "    print('Больше 5')\n",
    "if number < 5:\n",
    "    print('Меньше 5')\n",
    "if number != 5:\n",
    "    print('Не равно 5')"
   ]
  },
  {
   "cell_type": "markdown",
   "id": "3ac65e16",
   "metadata": {},
   "source": [
    "*Условие выполняется только если сравнение истинно*"
   ]
  },
  {
   "cell_type": "code",
   "execution_count": null,
   "id": "b772cb6f",
   "metadata": {},
   "outputs": [],
   "source": [
    "number = 5\n",
    "print(number == 5)\n",
    "print(number > 5)"
   ]
  },
  {
   "cell_type": "markdown",
   "id": "4a3570b8",
   "metadata": {},
   "source": [
    "*Использование elif*"
   ]
  },
  {
   "cell_type": "code",
   "execution_count": null,
   "id": "639b7a36",
   "metadata": {},
   "outputs": [],
   "source": [
    "number = 5\n",
    "if number == 5:\n",
    "    print('Больше 5')\n",
    "elif number >= 5:\n",
    "    print('Больше равно 5')"
   ]
  },
  {
   "cell_type": "markdown",
   "id": "b7db5eea",
   "metadata": {},
   "source": [
    "*Использование else*"
   ]
  },
  {
   "cell_type": "code",
   "execution_count": null,
   "id": "857fa28d",
   "metadata": {},
   "outputs": [],
   "source": [
    "user_name = input('Введите логин: ')\n",
    "if user_name == 'admin':\n",
    "    print('Вы администратор')\n",
    "elif user_name == 'user':\n",
    "    print('Вы пользователь')\n",
    "else:\n",
    "    print('Неверный логин!')"
   ]
  },
  {
   "cell_type": "markdown",
   "id": "5b9d2422",
   "metadata": {},
   "source": [
    "*Вложенные условия*"
   ]
  },
  {
   "cell_type": "code",
   "execution_count": null,
   "id": "b0b463af",
   "metadata": {},
   "outputs": [],
   "source": [
    "user_name = input('Введите логин: ')\n",
    "password = input('Введите пароль: ')\n",
    "if user_name == 'admin':\n",
    "    if password == '1111':\n",
    "        print('Вы вошли')\n",
    "    else:\n",
    "        print('Неверный пароль')\n",
    "else:\n",
    "    print('Неверный логин')"
   ]
  },
  {
   "cell_type": "markdown",
   "id": "ea2896ac",
   "metadata": {},
   "source": [
    "*Использование and, not, or*"
   ]
  },
  {
   "cell_type": "code",
   "execution_count": null,
   "id": "443af74a",
   "metadata": {},
   "outputs": [],
   "source": [
    "number = 5\n",
    "if number > 3 and number < 10:\n",
    "    print('Число больше 3, но меньше 10')"
   ]
  },
  {
   "cell_type": "code",
   "execution_count": null,
   "id": "17b02b79",
   "metadata": {},
   "outputs": [],
   "source": [
    "number = 5\n",
    "if number > 10 or number == 5:\n",
    "    print('Условие верно')"
   ]
  },
  {
   "cell_type": "code",
   "execution_count": null,
   "id": "ee97ab99",
   "metadata": {},
   "outputs": [],
   "source": [
    "name = 'Ivan'\n",
    "if not name != 'Ivan':\n",
    "    print('Вас зовут не Иван')"
   ]
  },
  {
   "cell_type": "code",
   "execution_count": null,
   "id": "a131b4a5",
   "metadata": {},
   "outputs": [],
   "source": [
    "number = 5\n",
    "if 3 < number < 10:\n",
    "    print('Число больше 3, но меньше 10')"
   ]
  },
  {
   "cell_type": "markdown",
   "id": "edd1b5f8",
   "metadata": {},
   "source": [
    "#### Модули и пакеты"
   ]
  },
  {
   "cell_type": "code",
   "execution_count": null,
   "id": "7160b938",
   "metadata": {},
   "outputs": [],
   "source": [
    "import random\n",
    "print(random.randint(1, 10))"
   ]
  },
  {
   "cell_type": "code",
   "execution_count": null,
   "id": "2c021572",
   "metadata": {},
   "outputs": [],
   "source": [
    "from random import randint\n",
    "print(randint(1, 10))"
   ]
  },
  {
   "cell_type": "code",
   "execution_count": null,
   "id": "9f8600d5",
   "metadata": {},
   "outputs": [],
   "source": [
    "from random import *\n",
    "print(randint(1, 10))"
   ]
  },
  {
   "cell_type": "code",
   "execution_count": null,
   "id": "0fe7a701",
   "metadata": {},
   "outputs": [],
   "source": [
    "from random import randint as rnd\n",
    "print(rnd(1, 10))"
   ]
  },
  {
   "cell_type": "code",
   "execution_count": null,
   "id": "5497594c",
   "metadata": {},
   "outputs": [],
   "source": []
  }
 ],
 "metadata": {
  "kernelspec": {
   "display_name": "Python 3 (ipykernel)",
   "language": "python",
   "name": "python3"
  },
  "language_info": {
   "codemirror_mode": {
    "name": "ipython",
    "version": 3
   },
   "file_extension": ".py",
   "mimetype": "text/x-python",
   "name": "python",
   "nbconvert_exporter": "python",
   "pygments_lexer": "ipython3",
   "version": "3.11.5"
  }
 },
 "nbformat": 4,
 "nbformat_minor": 5
}
