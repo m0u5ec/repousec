{
 "cells": [
  {
   "cell_type": "code",
   "execution_count": null,
   "id": "7247ef0d",
   "metadata": {},
   "outputs": [],
   "source": [
    "pip install opencv-python"
   ]
  },
  {
   "cell_type": "code",
   "execution_count": 5,
   "id": "dafb010f",
   "metadata": {},
   "outputs": [
    {
     "data": {
      "text/plain": [
       "'4.8.1'"
      ]
     },
     "execution_count": 5,
     "metadata": {},
     "output_type": "execute_result"
    }
   ],
   "source": [
    "import cv2\n",
    "\n",
    "cv2.__version__"
   ]
  },
  {
   "cell_type": "code",
   "execution_count": 6,
   "id": "b3211a6b",
   "metadata": {},
   "outputs": [],
   "source": [
    "image = cv2.imread('msk.jpg')"
   ]
  },
  {
   "cell_type": "code",
   "execution_count": 8,
   "id": "b749d18a",
   "metadata": {},
   "outputs": [
    {
     "data": {
      "text/plain": [
       "-1"
      ]
     },
     "execution_count": 8,
     "metadata": {},
     "output_type": "execute_result"
    }
   ],
   "source": [
    "# выведем изображение на экран\n",
    "cv2.imshow('Image', image)\n",
    "# ожидание нажатия любой клавиши\n",
    "cv2.waitKey(0)"
   ]
  },
  {
   "cell_type": "code",
   "execution_count": 9,
   "id": "028a09b9",
   "metadata": {},
   "outputs": [],
   "source": [
    "# загружаем изображение\n",
    "image = cv2.imread('msk.jpg')"
   ]
  },
  {
   "cell_type": "code",
   "execution_count": 10,
   "id": "2d654f48",
   "metadata": {},
   "outputs": [],
   "source": [
    "# зададим ширину изображения в пикселях\n",
    "wide = 250\n",
    "# вычисляем коэфициент, чтобы сохранить соотношение сторон\n",
    "f = float(wide) / image.shape[1]\n",
    "# формируем кортеж с размерами изображения\n",
    "new_size = (wide, int(image.shape[0] * f))"
   ]
  },
  {
   "cell_type": "code",
   "execution_count": 11,
   "id": "362efef6",
   "metadata": {},
   "outputs": [],
   "source": [
    "# изменяем изображение\n",
    "res = cv2.resize(image, new_size, interpolation=cv2.INTER_AREA)"
   ]
  },
  {
   "cell_type": "code",
   "execution_count": 12,
   "id": "149e381a",
   "metadata": {},
   "outputs": [
    {
     "data": {
      "text/plain": [
       "-1"
      ]
     },
     "execution_count": 12,
     "metadata": {},
     "output_type": "execute_result"
    }
   ],
   "source": [
    "# выводим изображение\n",
    "cv2.imshow('Resize', res)\n",
    "cv2.imshow('Original', image)\n",
    "cv2.waitKey(0)"
   ]
  },
  {
   "cell_type": "code",
   "execution_count": 13,
   "id": "757c07e7",
   "metadata": {},
   "outputs": [],
   "source": [
    "# загружаем изображение\n",
    "image = cv2.imread('msk.jpg')"
   ]
  },
  {
   "cell_type": "code",
   "execution_count": 24,
   "id": "f54236d8",
   "metadata": {},
   "outputs": [],
   "source": [
    "# вырежем фрагмент\n",
    "crop = image[120:350, 10:130]"
   ]
  },
  {
   "cell_type": "code",
   "execution_count": 25,
   "id": "f718b60b",
   "metadata": {},
   "outputs": [
    {
     "data": {
      "text/plain": [
       "-1"
      ]
     },
     "execution_count": 25,
     "metadata": {},
     "output_type": "execute_result"
    }
   ],
   "source": [
    "cv2.imshow('Crop', crop)\n",
    "cv2.waitKey(0)"
   ]
  },
  {
   "cell_type": "code",
   "execution_count": 27,
   "id": "1b2ee9c2",
   "metadata": {},
   "outputs": [
    {
     "data": {
      "text/plain": [
       "-1"
      ]
     },
     "execution_count": 27,
     "metadata": {},
     "output_type": "execute_result"
    }
   ],
   "source": [
    "# загружаем изображение\n",
    "image = cv2.imread('msk.jpg')\n",
    "# получаем размеры исходного изображения для поворота\n",
    "(h, w) = image.shape[:2]\n",
    "# вычислим центр изображения, относительно которого\n",
    "# выполним поворот\n",
    "center = (w / 2, h / 2)\n",
    "# подготовим объект для поворота изображения на 180º\n",
    "# относительно центра и запишем его в переменную\n",
    "# prepObj\n",
    "prepObj = cv2.getRotationMatrix2D(center, 180, 1.0)\n",
    "# повернем исходное изображение на 180°,\n",
    "# результат запишем в переменную rotated\n",
    "rotated = cv2.warpAffine(image, prepObj, (w, h))\n",
    "# выводим повернутое изображение на экран\n",
    "cv2.imshow(\"RotateImage\", rotated)\n",
    "cv2.waitKey(0)"
   ]
  },
  {
   "cell_type": "code",
   "execution_count": 29,
   "id": "53354421",
   "metadata": {},
   "outputs": [
    {
     "data": {
      "text/plain": [
       "-1"
      ]
     },
     "execution_count": 29,
     "metadata": {},
     "output_type": "execute_result"
    }
   ],
   "source": [
    "# загружаем изображение\n",
    "image = cv2.imread('msk.jpg')\n",
    "# отражаем изображение по вертикальной оси\n",
    "flipped = cv2.flip(image,1)\n",
    "cv2.imshow(\"Flip image\", flipped)\n",
    "cv2.waitKey(0)"
   ]
  },
  {
   "cell_type": "code",
   "execution_count": 30,
   "id": "9bf0bf15",
   "metadata": {},
   "outputs": [
    {
     "data": {
      "text/plain": [
       "True"
      ]
     },
     "execution_count": 30,
     "metadata": {},
     "output_type": "execute_result"
    }
   ],
   "source": [
    "# загружаем изображение\n",
    "image = cv2.imread('msk.jpg')\n",
    "# отражаем изображение по вертикальной оси\n",
    "flipped = cv2.flip(image,1)\n",
    "# запишем изображение на диск в формате .jpg\n",
    "cv2.imwrite(\"flip.jpg\", flipped)"
   ]
  },
  {
   "cell_type": "code",
   "execution_count": 31,
   "id": "da80fd0e",
   "metadata": {},
   "outputs": [
    {
     "data": {
      "text/plain": [
       "-1"
      ]
     },
     "execution_count": 31,
     "metadata": {},
     "output_type": "execute_result"
    }
   ],
   "source": [
    "# загружаем изображение\n",
    "image = cv2.imread('msk.jpg')\n",
    "# преобразуем в черно-белое\n",
    "new_image = cv2.cvtColor(image, cv2.COLOR_BGR2GRAY)\n",
    "cv2.imshow('Image', new_image)\n",
    "cv2.waitKey(0)"
   ]
  },
  {
   "cell_type": "code",
   "execution_count": 34,
   "id": "77ec579a",
   "metadata": {},
   "outputs": [
    {
     "data": {
      "text/plain": [
       "-1"
      ]
     },
     "execution_count": 34,
     "metadata": {},
     "output_type": "execute_result"
    }
   ],
   "source": [
    "# загружаем изображение\n",
    "image = cv2.imread('msk.jpg')\n",
    "# параметром ksize=(11, 11) зададим размер ядра фильтра размытия 11х11 пикселей:\n",
    "# параметры sigmaX/Y 0, 0 отвечают за сдвиг ядра при проходе по осям X, Y\n",
    "blurred_img = cv2.GaussianBlur(image, ksize=(11, 11), sigmaX =0, sigmaY=0)\n",
    "cv2.imshow('Image', blurred_img)\n",
    "cv2.imwrite(\"blur.jpg\", blurred_img)\n",
    "cv2.waitKey(0)"
   ]
  },
  {
   "cell_type": "code",
   "execution_count": 35,
   "id": "e7dc50ea",
   "metadata": {},
   "outputs": [],
   "source": [
    "matrix = [\n",
    "    [-1, -1, -1],\n",
    "    [-1, 9, -1],\n",
    "    [-1, -1, -1]\n",
    "]"
   ]
  },
  {
   "cell_type": "code",
   "execution_count": 39,
   "id": "ac8805bc",
   "metadata": {},
   "outputs": [
    {
     "data": {
      "text/plain": [
       "-1"
      ]
     },
     "execution_count": 39,
     "metadata": {},
     "output_type": "execute_result"
    }
   ],
   "source": [
    "import numpy as np\n",
    "\n",
    "# загружаем изображение\n",
    "image = cv2.imread('blur.jpg')\n",
    "# создаем фильтр\n",
    "sharp_filter = np.array(matrix)\n",
    "# параметр ddepth отвечает за «глубину» картинки\n",
    "sharpen_img = cv2.filter2D(image, ddepth=-1, kernel=sharp_filter)\n",
    "cv2.imshow('Sharpen', sharpen_img)\n",
    "cv2.waitKey(0)"
   ]
  },
  {
   "cell_type": "code",
   "execution_count": 48,
   "id": "3c17adea",
   "metadata": {},
   "outputs": [
    {
     "data": {
      "text/plain": [
       "-1"
      ]
     },
     "execution_count": 48,
     "metadata": {},
     "output_type": "execute_result"
    }
   ],
   "source": [
    "# загружаем изображение\n",
    "image = cv2.imread('cat.jpg')\n",
    "# для использования оператора собеля сразу по 2 осям зададим параметры dx=1, dy=1 \n",
    "# используя параметр ddepth=cv2.CV_64F, зададим глубину изображения в 64 бита\n",
    "sobelxy = cv2.Sobel(image, ddepth=cv2.CV_64F, dx=1, dy=1, ksize=5)\n",
    "cv2.imshow('Sobel', sobelxy)\n",
    "cv2.waitKey(0)"
   ]
  },
  {
   "cell_type": "code",
   "execution_count": null,
   "id": "5fb7ba53",
   "metadata": {},
   "outputs": [],
   "source": []
  }
 ],
 "metadata": {
  "kernelspec": {
   "display_name": "Python 3 (ipykernel)",
   "language": "python",
   "name": "python3"
  },
  "language_info": {
   "codemirror_mode": {
    "name": "ipython",
    "version": 3
   },
   "file_extension": ".py",
   "mimetype": "text/x-python",
   "name": "python",
   "nbconvert_exporter": "python",
   "pygments_lexer": "ipython3",
   "version": "3.11.5"
  }
 },
 "nbformat": 4,
 "nbformat_minor": 5
}
