{
 "cells": [
  {
   "cell_type": "code",
   "execution_count": 4,
   "id": "6bd4963c-a247-4004-9a2d-fe95596c57e4",
   "metadata": {},
   "outputs": [
    {
     "name": "stdin",
     "output_type": "stream",
     "text": [
      "Введите список элементов: [1, [2, [3, 4], 5], 6, [7, 8]]\n"
     ]
    },
    {
     "name": "stdout",
     "output_type": "stream",
     "text": [
      "Входной список: [['1', ['2', ['3', '4'], '5'], '6', ['7', '8']]]\n",
      "Его сумма = 36.0\n"
     ]
    },
    {
     "name": "stdin",
     "output_type": "stream",
     "text": [
      "Повторим (да / нет)?  y\n",
      "Введите список элементов: : [1, 2, 3, 4, 5]\n"
     ]
    },
    {
     "name": "stdout",
     "output_type": "stream",
     "text": [
      "Входной список: [['1', '2', '3', '4', '5']]\n",
      "Его сумма = 15.0\n"
     ]
    },
    {
     "name": "stdin",
     "output_type": "stream",
     "text": [
      "Повторим (да / нет)?  54d5tyhty5ty5.5juy6k56k\n",
      "Введите список элементов: .65.+6.5+6.5.6+5.+65.6+\n"
     ]
    },
    {
     "name": "stdout",
     "output_type": "stream",
     "text": [
      "Входной список: ['.65.', '6.5', '6.5.6', '5.', '65.6']\n",
      "Какое-то неправильное число, оно не лезет в сумму!\n",
      "Его сумма = -1\n"
     ]
    },
    {
     "name": "stdin",
     "output_type": "stream",
     "text": [
      "Повторим (да / нет)?  no\n"
     ]
    }
   ],
   "source": [
    "####################################################\n",
    "\n",
    "##в принципе должна рекрсивно разбирать любые строки в многоуровневые списки чисел/списков чисел с плавающей точкой. \n",
    "##числовой разделитель - точка, разделитель элементов - любой, кроме цифр и точки\n",
    "##границы подсписков - квадратные скобки. если закрывающих будет больше, чем открывающих - отбросит \"лишнюю\" часть строки\n",
    "##буквы и прочие символы просто игнорирует, считая разделителями\n",
    "def parse_to_list(str) -> tuple[list, int]: \n",
    "    i=0\n",
    "    cur=\"\"\n",
    "    res=[]\n",
    "    ##print(f'на вход пришла строка {str} длины {len(str)}')\n",
    "    while i<len(str):\n",
    "        s=str[i]\n",
    "        ##print(f'Индекс - {i}, Символ - {s}')\n",
    "        match s:\n",
    "            case '[':\n",
    "                if len(cur) and cur!='.': \n",
    "                    res.append(cur)\n",
    "                    cur=''\n",
    "                elst, j = parse_to_list(str[i+1:])\n",
    "                res.append(elst)\n",
    "                i+=j+1\n",
    "            case ']':\n",
    "                if len(cur) and cur!='.': \n",
    "                    res.append(cur)\n",
    "                ##print(f'Возвращаем: {res}, {i+1}')\n",
    "                return res, i+1\n",
    "            case _:\n",
    "                if s.isdigit() or s=='.':\n",
    "                    cur=cur+s\n",
    "                elif len(cur): \n",
    "                    if cur!='.':\n",
    "                        res.append(cur)\n",
    "                    cur=''\n",
    "                i+=1\n",
    "                ##print(f'Элемент номер {i}, значение ={cur} длины {len(cur)}, итоговый массив: {res}')\n",
    "    if len(cur) and cur!='.':\n",
    "        res.append(cur)\n",
    "    ##print(f'Возвращаем: {res}, {i}')\n",
    "    return res, i\n",
    "####################################################\n",
    "##считает сумму всех элементов списка любой вложенности, пытаясь конвертнуть их в float, если падает на конвертации - возвращает -1\n",
    "def sum_list(lst) -> float: \n",
    "    sum=0\n",
    "    for cur in lst:\n",
    "        try:\n",
    "            if isinstance(cur,list):\n",
    "                sum+=sum_list(cur)\n",
    "            else:\n",
    "                sum+=float(cur)\n",
    "        except ValueError:\n",
    "            print('Какое-то неправильное число, оно не лезет в сумму!')\n",
    "            return(-1)\n",
    "    return sum\n",
    "#####################################################\n",
    "state='' \n",
    "N=1\n",
    "while state !='нет' and state !='no':\n",
    "    try:\n",
    "        spysok=str(input('Введите список элементов:'))\n",
    "        lst, n = parse_to_list(spysok)\n",
    "        print(f'Входной список: {lst}')\n",
    "        print(f'Его сумма = {sum_list(lst)}')\n",
    "    except Exception:\n",
    "        if N<3:\n",
    "            print('Что-то пошло не так! Попробуйте еще раз.')\n",
    "            N += 1\n",
    "        else:\n",
    "            print('Превышено количество неудачных попыток!')\n",
    "            break  \n",
    "    else:\n",
    "        state = input('Повторим (да / нет)? ').lower()"
   ]
  },
  {
   "cell_type": "code",
   "execution_count": null,
   "id": "f5434bf6-e8ac-4adc-86a4-b08a452cad1b",
   "metadata": {},
   "outputs": [],
   "source": []
  }
 ],
 "metadata": {
  "kernelspec": {
   "display_name": "Python 3 (ipykernel)",
   "language": "python",
   "name": "python3"
  },
  "language_info": {
   "codemirror_mode": {
    "name": "ipython",
    "version": 3
   },
   "file_extension": ".py",
   "mimetype": "text/x-python",
   "name": "python",
   "nbconvert_exporter": "python",
   "pygments_lexer": "ipython3",
   "version": "3.12.4"
  }
 },
 "nbformat": 4,
 "nbformat_minor": 5
}
