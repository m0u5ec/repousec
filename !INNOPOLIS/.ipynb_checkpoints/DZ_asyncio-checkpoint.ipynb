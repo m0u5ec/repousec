{
 "cells": [
  {
   "cell_type": "code",
   "execution_count": 1,
   "id": "a2d05bbf-3b4d-4374-8e7f-fa5bea9618e2",
   "metadata": {},
   "outputs": [
    {
     "name": "stdout",
     "output_type": "stream",
     "text": [
      "засыпаю на 10 с\n",
      "засыпаю на 13 с\n",
      "засыпаю на 7 с\n",
      "засыпаю на 19 с\n",
      "засыпаю на 8 с\n",
      "сон в течение 7 с закончился\n",
      "сон в течение 8 с закончился\n",
      "сон в течение 10 с закончился\n",
      "сон в течение 13 с закончился\n",
      "сон в течение 19 с закончился\n",
      "['Задача task1 завершилась через 10 секунд!', 'Задача task2 завершилась через 13 секунд!', 'Задача task3 завершилась через 7 секунд!', 'Задача task4 завершилась через 19 секунд!', 'Задача task5 завершилась через 8 секунд!']\n"
     ]
    }
   ],
   "source": [
    "import asyncio\n",
    "\n",
    "async def delay(task_name: str, delay_seconds: int) -> int:\n",
    "    print(f'засыпаю на {delay_seconds} с')\n",
    "    await asyncio.sleep(delay_seconds)\n",
    "    print(f'сон в течение {delay_seconds} с закончился')\n",
    "    return f'Задача {task_name} завершилась через {delay_seconds} секунд!'\n",
    "\n",
    "async def main():\n",
    "    task1 = asyncio.create_task(delay(\"task1\",10))\n",
    "    task2 = asyncio.create_task(delay(\"task2\",13))\n",
    "    task3 = asyncio.create_task(delay(\"task3\",7))\n",
    "    task4 = asyncio.create_task(delay(\"task4\",19))\n",
    "    task5 = asyncio.create_task(delay(\"task5\",8))\n",
    "    try:\n",
    "        result = await asyncio.gather(task1,task2,task3,task4,task5, return_exceptions=False)\n",
    "        print(result)\n",
    "    except asyncio.exceptions.TimeoutError: #ну на всякий случай)))\n",
    "        print('Тайм-аут!')\n",
    "        print(f'Задача была снята? {delay_task.cancelled()}')\n",
    "\n",
    "# asyncio.run(main())\n",
    "await main()"
   ]
  },
  {
   "cell_type": "code",
   "execution_count": null,
   "id": "a5b218f5-d2d6-4c23-9c35-a41c93973987",
   "metadata": {},
   "outputs": [],
   "source": []
  }
 ],
 "metadata": {
  "kernelspec": {
   "display_name": "Python 3 (ipykernel)",
   "language": "python",
   "name": "python3"
  },
  "language_info": {
   "codemirror_mode": {
    "name": "ipython",
    "version": 3
   },
   "file_extension": ".py",
   "mimetype": "text/x-python",
   "name": "python",
   "nbconvert_exporter": "python",
   "pygments_lexer": "ipython3",
   "version": "3.12.4"
  }
 },
 "nbformat": 4,
 "nbformat_minor": 5
}
