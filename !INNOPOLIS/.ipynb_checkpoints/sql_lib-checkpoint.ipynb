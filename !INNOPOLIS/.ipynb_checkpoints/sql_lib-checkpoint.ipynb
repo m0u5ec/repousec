{
 "cells": [
  {
   "cell_type": "code",
   "execution_count": 1,
   "id": "cb6f7fdc",
   "metadata": {},
   "outputs": [],
   "source": [
    "import os\n",
    "import sqlite3"
   ]
  },
  {
   "cell_type": "code",
   "execution_count": null,
   "id": "44198fd4",
   "metadata": {},
   "outputs": [],
   "source": [
    "db_filename = 'test.db'\n",
    "db_is_new = not os.path.exists(db_filename)\n",
    "conn = sqlite3.connect(db_filename)\n",
    "if db_is_new:\n",
    "    print('Требуется создать схему')\n",
    "else:\n",
    "    print('База данных существует')\n",
    "conn.close()"
   ]
  },
  {
   "cell_type": "code",
   "execution_count": null,
   "id": "6d85ddfe",
   "metadata": {},
   "outputs": [],
   "source": [
    "db_filename = 'test.db'\n",
    "db_is_new = not os.path.exists(db_filename)\n",
    "conn = sqlite3.connect(db_filename)\n",
    "if db_is_new:\n",
    "    print('Требуется создать схему')\n",
    "else:\n",
    "    print('База данных существует')\n",
    "cur = conn.cursor()\n",
    "print(cur)\n",
    "conn.close()"
   ]
  },
  {
   "cell_type": "code",
   "execution_count": null,
   "id": "1e24a858",
   "metadata": {},
   "outputs": [],
   "source": [
    "db_filename = 'test.db'\n",
    "db_is_new = not os.path.exists(db_filename)\n",
    "conn = sqlite3.connect(db_filename)\n",
    "if db_is_new:\n",
    "    print('Требуется создать схему')\n",
    "else:\n",
    "    print('База данных существует')\n",
    "cur = conn.cursor()\n",
    "cur.execute(\"\"\"CREATE TABLE IF NOT EXISTS project(\n",
    "            name text primary key,\n",
    "            description text,\n",
    "            deadline date);\"\"\")\n",
    "cur.execute(\"\"\"CREATE TABLE IF NOT EXISTS task(\n",
    "            id integer primary key autoincrement not null,\n",
    "            priority integer default 1,\n",
    "            details text,\n",
    "            status text,\n",
    "            deadline date,\n",
    "            completed_on date,\n",
    "            project text not null references project(name));\"\"\")\n",
    "conn.commit()\n",
    "conn.close()"
   ]
  },
  {
   "cell_type": "code",
   "execution_count": null,
   "id": "b001f407",
   "metadata": {},
   "outputs": [],
   "source": [
    "db_filename = 'test.db'\n",
    "db_is_new = not os.path.exists(db_filename)\n",
    "conn = sqlite3.connect(db_filename)\n",
    "if db_is_new:\n",
    "    print('Требуется создать схему')\n",
    "else:\n",
    "    print('База данных существует')\n",
    "cur = conn.cursor()\n",
    "cur.execute(\"\"\"CREATE TABLE IF NOT EXISTS project(\n",
    "            name text primary key,\n",
    "            description text,\n",
    "            deadline date);\"\"\")\n",
    "cur.execute(\"\"\"CREATE TABLE IF NOT EXISTS task(\n",
    "            id integer primary key autoincrement not null,\n",
    "            priority integer default 1,\n",
    "            details text,\n",
    "            status text,\n",
    "            deadline date,\n",
    "            completed_on date,\n",
    "            project text not null references project(name));\"\"\")\n",
    "\n",
    "cur.execute(\"\"\"INSERT INTO project(name, description, deadline)\n",
    "            values ('MyProject', 'Мой тестовый проект', '2024-01-09');\"\"\")\n",
    "conn.commit()\n",
    "conn.close()"
   ]
  },
  {
   "cell_type": "code",
   "execution_count": 2,
   "id": "f389365a",
   "metadata": {},
   "outputs": [],
   "source": [
    "db_filename = 'test.db'\n",
    "db_is_new = not os.path.exists(db_filename)\n",
    "conn = sqlite3.connect(db_filename)\n",
    "cur = conn.cursor()\n",
    "task = ('Написать о чем то', 'Завершено',  '2024-01-09', 'MyProject')\n",
    "cur.execute(\"\"\"INSERT INTO task(details, status, deadline, project)\n",
    "            VALUES(?, ?, ?, ?);\"\"\", task)\n",
    "conn.commit()\n",
    "conn.close()"
   ]
  },
  {
   "cell_type": "code",
   "execution_count": 3,
   "id": "df642ac7",
   "metadata": {},
   "outputs": [],
   "source": [
    "db_filename = 'test.db'\n",
    "db_is_new = not os.path.exists(db_filename)\n",
    "conn = sqlite3.connect(db_filename)\n",
    "cur = conn.cursor()\n",
    "tasks = [('Написать о чем то', 'Завершено',  '2024-01-09', 'MyProject'),\n",
    "         ('Написать о программировании', 'Ожидает',  '2024-01-10', 'MyProject'),\n",
    "         ('Написать о базе данных', 'Активно',  '2024-01-08', 'MyProject')]\n",
    "cur.executemany(\"\"\"INSERT INTO task(details, status, deadline, project)\n",
    "            VALUES(?, ?, ?, ?);\"\"\", tasks)\n",
    "conn.commit()\n",
    "conn.close()"
   ]
  },
  {
   "cell_type": "code",
   "execution_count": 5,
   "id": "9564fe67",
   "metadata": {},
   "outputs": [
    {
     "name": "stdout",
     "output_type": "stream",
     "text": [
      "(1, 1, 'Написать о чем то', 'Завершено', '2024-01-09', None, 'MyProject')\n",
      "(2, 1, 'Написать о чем то', 'Завершено', '2024-01-09', None, 'MyProject')\n",
      "(3, 1, 'Написать о программировании', 'Ожидает', '2024-01-10', None, 'MyProject')\n",
      "(4, 1, 'Написать о базе данных', 'Активно', '2024-01-08', None, 'MyProject')\n"
     ]
    }
   ],
   "source": [
    "db_filename = 'test.db'\n",
    "db_is_new = not os.path.exists(db_filename)\n",
    "conn = sqlite3.connect(db_filename)\n",
    "cur = conn.cursor()\n",
    "cur.execute(\"SELECT * FROM task\")\n",
    "for row in cur.fetchall():\n",
    "    print(row)\n",
    "conn.close()"
   ]
  },
  {
   "cell_type": "code",
   "execution_count": 6,
   "id": "547b445d",
   "metadata": {},
   "outputs": [
    {
     "name": "stdout",
     "output_type": "stream",
     "text": [
      "(1, 'Написать о чем то', 'Завершено', '2024-01-09')\n",
      "(2, 'Написать о чем то', 'Завершено', '2024-01-09')\n",
      "(3, 'Написать о программировании', 'Ожидает', '2024-01-10')\n",
      "(4, 'Написать о базе данных', 'Активно', '2024-01-08')\n"
     ]
    }
   ],
   "source": [
    "db_filename = 'test.db'\n",
    "db_is_new = not os.path.exists(db_filename)\n",
    "conn = sqlite3.connect(db_filename)\n",
    "cur = conn.cursor()\n",
    "cur.execute(\"SELECT id, details, status, deadline FROM task where project = 'MyProject'\")\n",
    "for row in cur.fetchall():\n",
    "    print(row)\n",
    "conn.close()"
   ]
  },
  {
   "cell_type": "code",
   "execution_count": 13,
   "id": "c567d8da",
   "metadata": {},
   "outputs": [
    {
     "name": "stdout",
     "output_type": "stream",
     "text": [
      "(1, 'Написать о чем то', 'Завершено', '2024-01-09')\n",
      "(2, 'Написать о чем то', 'Завершено', '2024-01-09')\n",
      "(3, 'Написать о программировании', 'Ожидает', '2024-01-10')\n"
     ]
    }
   ],
   "source": [
    "db_filename = 'test.db'\n",
    "db_is_new = not os.path.exists(db_filename)\n",
    "conn = sqlite3.connect(db_filename)\n",
    "cur = conn.cursor()\n",
    "cur.execute(\"SELECT id, details, status, deadline FROM task where project = 'MyProject'\")\n",
    "print(cur.fetchone())\n",
    "for row in cur.fetchmany(2):\n",
    "    print(row)\n",
    "conn.close()"
   ]
  },
  {
   "cell_type": "code",
   "execution_count": 14,
   "id": "fcf2224b",
   "metadata": {},
   "outputs": [
    {
     "name": "stdout",
     "output_type": "stream",
     "text": [
      "('id', None, None, None, None, None, None)\n",
      "('priority', None, None, None, None, None, None)\n",
      "('details', None, None, None, None, None, None)\n",
      "('status', None, None, None, None, None, None)\n",
      "('deadline', None, None, None, None, None, None)\n",
      "('completed_on', None, None, None, None, None, None)\n",
      "('project', None, None, None, None, None, None)\n"
     ]
    }
   ],
   "source": [
    "db_filename = 'test.db'\n",
    "db_is_new = not os.path.exists(db_filename)\n",
    "conn = sqlite3.connect(db_filename)\n",
    "cur = conn.cursor()\n",
    "cur.execute(\"SELECT * FROM task where project = 'MyProject'\")\n",
    "for colinfo  in cur.description:\n",
    "    print(colinfo)\n",
    "conn.close()"
   ]
  },
  {
   "cell_type": "code",
   "execution_count": 22,
   "id": "e3637afe",
   "metadata": {},
   "outputs": [
    {
     "name": "stdout",
     "output_type": "stream",
     "text": [
      "MyProject Мой тестовый проект 2024-01-09\n",
      "---------------\n",
      "4 Написать о базе данных Активно 2024-01-08\n",
      "1 Написать о чем то Завершено 2024-01-09\n",
      "2 Написать о чем то Завершено 2024-01-09\n",
      "3 Написать о программировании Ожидает 2024-01-10\n"
     ]
    }
   ],
   "source": [
    "db_filename = 'test.db'\n",
    "db_is_new = not os.path.exists(db_filename)\n",
    "with sqlite3.connect(db_filename) as conn:\n",
    "    conn.row_factory = sqlite3.Row\n",
    "    cur = conn.cursor()\n",
    "    cur.execute(\"SELECT name, description, deadline FROM project where name = 'MyProject'\")\n",
    "    name, description, deadline = cur.fetchone()\n",
    "    print(name, description, deadline)\n",
    "    print('---------------')\n",
    "    cur.execute(\"\"\"SELECT id, priority, status, deadline, details FROM task\n",
    "                where project = 'MyProject' order by deadline\"\"\")\n",
    "    for row in cur.fetchmany(5):\n",
    "        print(row['id'], row['details'], row['status'], row['deadline'])"
   ]
  },
  {
   "cell_type": "code",
   "execution_count": 23,
   "id": "9ea8774f",
   "metadata": {},
   "outputs": [
    {
     "name": "stdout",
     "output_type": "stream",
     "text": [
      "До изменений\n",
      "MyProject\n",
      "После изменений в conn1\n",
      "MyProject\n",
      "Project2\n",
      "До коммита\n",
      "MyProject\n",
      "После коммита\n",
      "MyProject\n",
      "Project2\n"
     ]
    }
   ],
   "source": [
    "db_filename = 'test.db'\n",
    "db_is_new = not os.path.exists(db_filename)\n",
    "\n",
    "def show_projects(conn):\n",
    "    cur = conn.cursor()\n",
    "    cur.execute('SELECT name, description from project')\n",
    "    for name, desc in cur.fetchall():\n",
    "        print(name)\n",
    "        \n",
    "with sqlite3.connect(db_filename) as conn1:\n",
    "    print('До изменений')\n",
    "    show_projects(conn1)\n",
    "    \n",
    "    cur1 = conn1.cursor()\n",
    "    cur1.execute(\"\"\"INSERT INTO project(name, description, deadline)\n",
    "                VALUES ('Project2', 'Мой 2 проект', '2024-02-01');\"\"\")\n",
    "    print('После изменений в conn1')\n",
    "    show_projects(conn1)\n",
    "    print('До коммита')\n",
    "    with sqlite3.connect(db_filename) as conn2:\n",
    "        show_projects(conn2)\n",
    "        conn1.commit()\n",
    "        print('После коммита')\n",
    "        with sqlite3.connect(db_filename) as conn3:\n",
    "            show_projects(conn3)"
   ]
  },
  {
   "cell_type": "code",
   "execution_count": 4,
   "id": "878ccc2a",
   "metadata": {},
   "outputs": [
    {
     "name": "stdout",
     "output_type": "stream",
     "text": [
      "До изменений\n"
     ]
    },
    {
     "ename": "OperationalError",
     "evalue": "no such table: project",
     "output_type": "error",
     "traceback": [
      "\u001b[1;31m---------------------------------------------------------------------------\u001b[0m",
      "\u001b[1;31mOperationalError\u001b[0m                          Traceback (most recent call last)",
      "Cell \u001b[1;32mIn[4], line 12\u001b[0m\n\u001b[0;32m     10\u001b[0m \u001b[38;5;28;01mwith\u001b[39;00m sqlite3\u001b[38;5;241m.\u001b[39mconnect(db_filename) \u001b[38;5;28;01mas\u001b[39;00m conn:\n\u001b[0;32m     11\u001b[0m     \u001b[38;5;28mprint\u001b[39m(\u001b[38;5;124m'\u001b[39m\u001b[38;5;124mДо изменений\u001b[39m\u001b[38;5;124m'\u001b[39m)\n\u001b[1;32m---> 12\u001b[0m     show_projects(conn)\n\u001b[0;32m     14\u001b[0m     \u001b[38;5;28;01mtry\u001b[39;00m:\n\u001b[0;32m     15\u001b[0m         cur1 \u001b[38;5;241m=\u001b[39m conn\u001b[38;5;241m.\u001b[39mcursor()\n",
      "Cell \u001b[1;32mIn[4], line 6\u001b[0m, in \u001b[0;36mshow_projects\u001b[1;34m(conn)\u001b[0m\n\u001b[0;32m      4\u001b[0m \u001b[38;5;28;01mdef\u001b[39;00m \u001b[38;5;21mshow_projects\u001b[39m(conn):\n\u001b[0;32m      5\u001b[0m     cur \u001b[38;5;241m=\u001b[39m conn\u001b[38;5;241m.\u001b[39mcursor()\n\u001b[1;32m----> 6\u001b[0m     cur\u001b[38;5;241m.\u001b[39mexecute(\u001b[38;5;124m'\u001b[39m\u001b[38;5;124mSELECT name, description from project\u001b[39m\u001b[38;5;124m'\u001b[39m)\n\u001b[0;32m      7\u001b[0m     \u001b[38;5;28;01mfor\u001b[39;00m name, desc \u001b[38;5;129;01min\u001b[39;00m cur\u001b[38;5;241m.\u001b[39mfetchall():\n\u001b[0;32m      8\u001b[0m         \u001b[38;5;28mprint\u001b[39m(name)\n",
      "\u001b[1;31mOperationalError\u001b[0m: no such table: project"
     ]
    }
   ],
   "source": [
    "db_filename = 'test.db'\n",
    "db_is_new = not os.path.exists(db_filename)\n",
    "\n",
    "def show_projects(conn):\n",
    "    cur = conn.cursor()\n",
    "    cur.execute('SELECT name, description from project')\n",
    "    for name, desc in cur.fetchall():\n",
    "        print(name)\n",
    "        \n",
    "with sqlite3.connect(db_filename) as conn:\n",
    "    print('До изменений')\n",
    "    show_projects(conn)\n",
    "    \n",
    "    try:\n",
    "        cur1 = conn.cursor()\n",
    "        cur1.execute(\"\"\"DELETE FROM project where name='Project2';\"\"\")\n",
    "        print('После удаления')\n",
    "        show_projects(conn)\n",
    "        \n",
    "        raise RuntimeError('Возбудили исключение')\n",
    "\n",
    "    except Exception as err:\n",
    "        print(f'Ошибка: {err}')\n",
    "        conn.rollback()\n",
    "    else:\n",
    "        print(conn.commit())\n",
    "    print('После отмены')\n",
    "    show_projects(conn)"
   ]
  },
  {
   "cell_type": "code",
   "execution_count": 29,
   "id": "51d90166",
   "metadata": {},
   "outputs": [
    {
     "ename": "AttributeError",
     "evalue": "module 'sqlite3' has no attribute 'tables'",
     "output_type": "error",
     "traceback": [
      "\u001b[1;31m---------------------------------------------------------------------------\u001b[0m",
      "\u001b[1;31mAttributeError\u001b[0m                            Traceback (most recent call last)",
      "Cell \u001b[1;32mIn[29], line 6\u001b[0m\n\u001b[0;32m      4\u001b[0m cur \u001b[38;5;241m=\u001b[39m conn\u001b[38;5;241m.\u001b[39mcursor()\n\u001b[0;32m      5\u001b[0m \u001b[38;5;66;03m# cur.execute(\"DROP TABLE project\")\u001b[39;00m\n\u001b[1;32m----> 6\u001b[0m \u001b[38;5;28mprint\u001b[39m(sqlite3\u001b[38;5;241m.\u001b[39mtables)\n\u001b[0;32m      7\u001b[0m conn\u001b[38;5;241m.\u001b[39mclose()\n",
      "File \u001b[1;32m~\\anaconda3\\Lib\\sqlite3\\__init__.py:71\u001b[0m, in \u001b[0;36m__getattr__\u001b[1;34m(name)\u001b[0m\n\u001b[0;32m     69\u001b[0m     warnings\u001b[38;5;241m.\u001b[39mwarn(msg, \u001b[38;5;167;01mDeprecationWarning\u001b[39;00m, stacklevel\u001b[38;5;241m=\u001b[39m\u001b[38;5;241m2\u001b[39m)\n\u001b[0;32m     70\u001b[0m     \u001b[38;5;28;01mreturn\u001b[39;00m \u001b[38;5;28mstr\u001b[39m\n\u001b[1;32m---> 71\u001b[0m \u001b[38;5;28;01mraise\u001b[39;00m \u001b[38;5;167;01mAttributeError\u001b[39;00m(\u001b[38;5;124mf\u001b[39m\u001b[38;5;124m\"\u001b[39m\u001b[38;5;124mmodule \u001b[39m\u001b[38;5;124m'\u001b[39m\u001b[38;5;124msqlite3\u001b[39m\u001b[38;5;124m'\u001b[39m\u001b[38;5;124m has no attribute \u001b[39m\u001b[38;5;124m'\u001b[39m\u001b[38;5;132;01m{\u001b[39;00mname\u001b[38;5;132;01m}\u001b[39;00m\u001b[38;5;124m'\u001b[39m\u001b[38;5;124m\"\u001b[39m)\n",
      "\u001b[1;31mAttributeError\u001b[0m: module 'sqlite3' has no attribute 'tables'"
     ]
    }
   ],
   "source": [
    "db_filename = 'test.db'\n",
    "db_is_new = not os.path.exists(db_filename)\n",
    "conn = sqlite3.connect(db_filename)\n",
    "cur = conn.cursor()\n",
    "cur.execute(\"DROP TABLE project\")\n",
    "conn.close()"
   ]
  },
  {
   "cell_type": "code",
   "execution_count": 30,
   "id": "7e74ce86",
   "metadata": {},
   "outputs": [],
   "source": [
    "db_filename = 'test.db'\n",
    "db_is_new = not os.path.exists(db_filename)\n",
    "conn = sqlite3.connect(db_filename)\n",
    "cur = conn.cursor()\n",
    "cur.execute(\"DROP TABLE IF EXISTS project\")\n",
    "conn.close()"
   ]
  },
  {
   "cell_type": "code",
   "execution_count": null,
   "id": "49154b45",
   "metadata": {},
   "outputs": [],
   "source": []
  }
 ],
 "metadata": {
  "kernelspec": {
   "display_name": "Python 3 (ipykernel)",
   "language": "python",
   "name": "python3"
  },
  "language_info": {
   "codemirror_mode": {
    "name": "ipython",
    "version": 3
   },
   "file_extension": ".py",
   "mimetype": "text/x-python",
   "name": "python",
   "nbconvert_exporter": "python",
   "pygments_lexer": "ipython3",
   "version": "3.11.5"
  }
 },
 "nbformat": 4,
 "nbformat_minor": 5
}
