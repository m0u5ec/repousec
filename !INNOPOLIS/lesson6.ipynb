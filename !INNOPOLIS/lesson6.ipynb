{
 "cells": [
  {
   "cell_type": "markdown",
   "id": "dc65183c",
   "metadata": {},
   "source": [
    "### Строки"
   ]
  },
  {
   "cell_type": "raw",
   "id": "33951403",
   "metadata": {},
   "source": [
    "# Основные методы строк:\n",
    "isalpha() -  возвращает True, если строка состоит только из алфавитных символов\n",
    "\n",
    "islower() -  возвращает True, если строка состоит только из символов в нижнем регистре\n",
    "\n",
    "isupper() - возвращает True, если все символы строки в верхнем регистре\n",
    "\n",
    "isdigit() - возвращает True, если все символы строки - цифры\n",
    "\n",
    "isnumeric() - возвращает True, если строка представляет собой число\n",
    "\n",
    "startswith(str) -  возвращает True, если строка начинается с подстроки str\n",
    "\n",
    "endswith(str) -  возвращает True, если строка заканчивается на подстроку str\n",
    "\n",
    "lower() -  переводит строку в нижний регистр\n",
    "\n",
    "upper() -  переводит строку в вехний регистр\n",
    "\n",
    "title() -  начальные символы всех слов в строке переводятся в верхний регистр\n",
    "\n",
    "capitalize() - переводит в верхний регистр первую букву только самого первого слова строки\n",
    "\n",
    "lstrip() - удаляет начальные пробелы из строки\n",
    "\n",
    "rstrip() - удаляет конечные пробелы из строки\n",
    "\n",
    "strip()-  удаляет начальные и конечные пробелы из строки\n",
    "\n",
    "ljust(width) - если длина строки меньше параметра width, то справа от строки добавляются пробелы, чтобы дополнить значение width, а сама строка выравнивается по левому краю\n",
    "\n",
    "rjust(width) -  если длина строки меньше параметра width, то слева от строки добавляются пробелы, чтобы дополнить значение width, а сама строка выравнивается по правому краю\n",
    "\n",
    "center(width) -  если длина строки меньше параметра width, то слева и справа от строки равномерно добавляются пробелы, чтобы дополнить значение width, а сама строка выравнивается по центру\n",
    "\n",
    "find() - возвращает индекс подстроки в строке. Если подстрока не найдена, возвращается число -1\n",
    "\n",
    "replace(old, new[, num]): заменяет в строке одну подстроку на другую\n",
    "\n",
    "split([delimeter[, num]]): разбивает строку на подстроки в зависимости от разделителя\n",
    "\n",
    "join(str): объединяет строки в одну строку, вставляя между ними определенный разделитель    "
   ]
  },
  {
   "cell_type": "markdown",
   "id": "5a41d1c9",
   "metadata": {},
   "source": [
    "##### isalpha()"
   ]
  },
  {
   "cell_type": "code",
   "execution_count": 2,
   "id": "97eb2a75",
   "metadata": {},
   "outputs": [
    {
     "name": "stdout",
     "output_type": "stream",
     "text": [
      "Введите ваше имя: Ruslan\n",
      "Введите вашу фамилию: Bakeev\n",
      "Спасибо!\n"
     ]
    }
   ],
   "source": [
    "while True:\n",
    "    first_name = input('Введите ваше имя: ')\n",
    "    last_name = input('Введите вашу фамилию: ')\n",
    "    if first_name.isalpha() and last_name.isalpha():\n",
    "        print('Спасибо!')\n",
    "        break\n",
    "    else:\n",
    "        print('Вероятно вы ошиблись при вводе. Попробуйте еще раз!')"
   ]
  },
  {
   "cell_type": "markdown",
   "id": "f49a3819",
   "metadata": {},
   "source": [
    "#### islower()"
   ]
  },
  {
   "cell_type": "code",
   "execution_count": 3,
   "id": "22484a47",
   "metadata": {},
   "outputs": [
    {
     "name": "stdout",
     "output_type": "stream",
     "text": [
      "Введите слово: fgfgf\n",
      "True\n"
     ]
    }
   ],
   "source": [
    "word = input('Введите слово: ')\n",
    "print(word.islower())"
   ]
  },
  {
   "cell_type": "markdown",
   "id": "012f8501",
   "metadata": {},
   "source": [
    "#### isupper()"
   ]
  },
  {
   "cell_type": "code",
   "execution_count": 6,
   "id": "3e98c56f",
   "metadata": {},
   "outputs": [
    {
     "name": "stdout",
     "output_type": "stream",
     "text": [
      "Введите слово: DFDFD\n",
      "True\n"
     ]
    }
   ],
   "source": [
    "word = input('Введите слово: ')\n",
    "print(word.isupper())"
   ]
  },
  {
   "cell_type": "markdown",
   "id": "35fb6d0c",
   "metadata": {},
   "source": [
    "#### isdigit()"
   ]
  },
  {
   "cell_type": "code",
   "execution_count": 18,
   "id": "29eba52a",
   "metadata": {},
   "outputs": [
    {
     "name": "stdout",
     "output_type": "stream",
     "text": [
      "Введите пин код: 233.4\n",
      "Ошибка\n"
     ]
    }
   ],
   "source": [
    "pin = input('Введите пин код: ')\n",
    "if pin.isdigit() and len(pin) == 4:\n",
    "    print('Пин код верен')\n",
    "else:\n",
    "    print('Ошибка')"
   ]
  },
  {
   "cell_type": "markdown",
   "id": "2a0be4f5",
   "metadata": {},
   "source": [
    "#### isnumeric()"
   ]
  },
  {
   "cell_type": "code",
   "execution_count": 19,
   "id": "b56fdc5c",
   "metadata": {},
   "outputs": [
    {
     "name": "stdout",
     "output_type": "stream",
     "text": [
      "Введите число: 2.5\n",
      "Ошибка\n"
     ]
    }
   ],
   "source": [
    "num = input('Введите число: ')\n",
    "if num.isnumeric():\n",
    "    print('Верно')\n",
    "else:\n",
    "    print('Ошибка')"
   ]
  },
  {
   "cell_type": "markdown",
   "id": "92a197cd",
   "metadata": {},
   "source": [
    "#### startswith()"
   ]
  },
  {
   "cell_type": "code",
   "execution_count": 21,
   "id": "b8a9d158",
   "metadata": {},
   "outputs": [
    {
     "name": "stdout",
     "output_type": "stream",
     "text": [
      "Введите строку начинающуюся со слова PythonPythondsfds\n",
      "Все верно\n"
     ]
    }
   ],
   "source": [
    "my_string = input('Введите строку начинающуюся со слова Python')\n",
    "if my_string.startswith('Python'):\n",
    "    print('Все верно')\n",
    "else:\n",
    "    print('Ошибка')"
   ]
  },
  {
   "cell_type": "markdown",
   "id": "e49d92d4",
   "metadata": {},
   "source": [
    "#### endswith()"
   ]
  },
  {
   "cell_type": "code",
   "execution_count": 22,
   "id": "fff923a7",
   "metadata": {},
   "outputs": [
    {
     "name": "stdout",
     "output_type": "stream",
     "text": [
      "Введите строку заканчивающуюся на слово PythondfdfPython\n",
      "Все верно\n"
     ]
    }
   ],
   "source": [
    "my_string = input('Введите строку заканчивающуюся на слово Python')\n",
    "if my_string.endswith('Python'):\n",
    "    print('Все верно')\n",
    "else:\n",
    "    print('Ошибка')"
   ]
  },
  {
   "cell_type": "markdown",
   "id": "ffedd730",
   "metadata": {},
   "source": [
    "#### lower()"
   ]
  },
  {
   "cell_type": "code",
   "execution_count": 24,
   "id": "34c60d15",
   "metadata": {},
   "outputs": [
    {
     "name": "stdout",
     "output_type": "stream",
     "text": [
      "Введите слово: SADASD\n"
     ]
    },
    {
     "data": {
      "text/plain": [
       "'sadasd'"
      ]
     },
     "execution_count": 24,
     "metadata": {},
     "output_type": "execute_result"
    }
   ],
   "source": [
    "word = input('Введите слово: ')\n",
    "word.lower()"
   ]
  },
  {
   "cell_type": "markdown",
   "id": "212fef56",
   "metadata": {},
   "source": [
    "#### upper()"
   ]
  },
  {
   "cell_type": "code",
   "execution_count": 25,
   "id": "864f2b49",
   "metadata": {},
   "outputs": [
    {
     "name": "stdout",
     "output_type": "stream",
     "text": [
      "Введите слово: sdsds\n"
     ]
    },
    {
     "data": {
      "text/plain": [
       "'SDSDS'"
      ]
     },
     "execution_count": 25,
     "metadata": {},
     "output_type": "execute_result"
    }
   ],
   "source": [
    "word = input('Введите слово: ')\n",
    "word.upper()"
   ]
  },
  {
   "cell_type": "markdown",
   "id": "9e8a9fc3",
   "metadata": {},
   "source": [
    "#### title() istitle()"
   ]
  },
  {
   "cell_type": "code",
   "execution_count": 26,
   "id": "fedc05af",
   "metadata": {},
   "outputs": [
    {
     "name": "stdout",
     "output_type": "stream",
     "text": [
      "Введите имя:ruslan\n"
     ]
    },
    {
     "data": {
      "text/plain": [
       "'Ruslan'"
      ]
     },
     "execution_count": 26,
     "metadata": {},
     "output_type": "execute_result"
    }
   ],
   "source": [
    "name = input('Введите имя:')\n",
    "if not name.istitle():\n",
    "    name = name.title()\n",
    "name"
   ]
  },
  {
   "cell_type": "markdown",
   "id": "f2351911",
   "metadata": {},
   "source": [
    "#### capitalize()"
   ]
  },
  {
   "cell_type": "code",
   "execution_count": 27,
   "id": "4b7497db",
   "metadata": {},
   "outputs": [
    {
     "name": "stdout",
     "output_type": "stream",
     "text": [
      "Введите предложение: я изучаю пайтон\n"
     ]
    },
    {
     "data": {
      "text/plain": [
       "'Я изучаю пайтон'"
      ]
     },
     "execution_count": 27,
     "metadata": {},
     "output_type": "execute_result"
    }
   ],
   "source": [
    "words = input('Введите предложение: ')\n",
    "words.capitalize()"
   ]
  },
  {
   "cell_type": "markdown",
   "id": "a3980209",
   "metadata": {},
   "source": [
    "#### lstrip(), rstrip(), strip()"
   ]
  },
  {
   "cell_type": "code",
   "execution_count": 29,
   "id": "638cd2d0",
   "metadata": {},
   "outputs": [
    {
     "name": "stdout",
     "output_type": "stream",
     "text": [
      "Введите строку с пробелами:  Hello World \n",
      "Hello World \n",
      " Hello World\n",
      "Hello World\n"
     ]
    }
   ],
   "source": [
    "word = input('Введите строку с пробелами: ')\n",
    "print(word.lstrip())\n",
    "print(word.rstrip())\n",
    "print(word.strip())"
   ]
  },
  {
   "cell_type": "markdown",
   "id": "6f26f416",
   "metadata": {},
   "source": [
    "#### ljust(), rjust(), center()"
   ]
  },
  {
   "cell_type": "code",
   "execution_count": 30,
   "id": "dd1ccf46",
   "metadata": {},
   "outputs": [
    {
     "name": "stdout",
     "output_type": "stream",
     "text": [
      "Введите строку: Hello\n",
      "Hello     \n",
      "     Hello\n",
      "  Hello   \n"
     ]
    }
   ],
   "source": [
    "word = input('Введите строку: ')\n",
    "print(word.ljust(10))\n",
    "print(word.rjust(10))\n",
    "print(word.center(10))\n"
   ]
  },
  {
   "cell_type": "markdown",
   "id": "d6e6097f",
   "metadata": {},
   "source": [
    "#### find()"
   ]
  },
  {
   "cell_type": "code",
   "execution_count": 34,
   "id": "0cce79ac",
   "metadata": {},
   "outputs": [
    {
     "name": "stdout",
     "output_type": "stream",
     "text": [
      "2\n"
     ]
    }
   ],
   "source": [
    "word = 'Hello world!'\n",
    "if word.find('llo'):\n",
    "    print(word.index('llo'))"
   ]
  },
  {
   "cell_type": "markdown",
   "id": "89e49d20",
   "metadata": {},
   "source": [
    "#### split()"
   ]
  },
  {
   "cell_type": "code",
   "execution_count": 43,
   "id": "659c0c44",
   "metadata": {},
   "outputs": [
    {
     "name": "stdout",
     "output_type": "stream",
     "text": [
      "Введите слова через пробел: Hello Worlds\n"
     ]
    },
    {
     "data": {
      "text/plain": [
       "['Hello', 'Worlds']"
      ]
     },
     "execution_count": 43,
     "metadata": {},
     "output_type": "execute_result"
    }
   ],
   "source": [
    "words = input('Введите слова через пробел: ')\n",
    "words = words.split()\n",
    "words"
   ]
  },
  {
   "cell_type": "code",
   "execution_count": 45,
   "id": "3965ecfc",
   "metadata": {},
   "outputs": [
    {
     "name": "stdout",
     "output_type": "stream",
     "text": [
      "Введите слова через запятую: hello,world\n"
     ]
    },
    {
     "data": {
      "text/plain": [
       "['hello', 'world']"
      ]
     },
     "execution_count": 45,
     "metadata": {},
     "output_type": "execute_result"
    }
   ],
   "source": [
    "words = input('Введите слова через запятую: ').split(',')\n",
    "words"
   ]
  },
  {
   "cell_type": "markdown",
   "id": "b5daf2a2",
   "metadata": {},
   "source": [
    "#### join"
   ]
  },
  {
   "cell_type": "code",
   "execution_count": 46,
   "id": "0a5d7318",
   "metadata": {},
   "outputs": [
    {
     "data": {
      "text/plain": [
       "'Hello World'"
      ]
     },
     "execution_count": 46,
     "metadata": {},
     "output_type": "execute_result"
    }
   ],
   "source": [
    "my_list = ['Hello', 'World']\n",
    "' '.join(my_list)"
   ]
  },
  {
   "cell_type": "markdown",
   "id": "c2a98024",
   "metadata": {},
   "source": [
    "#### format()"
   ]
  },
  {
   "cell_type": "code",
   "execution_count": 47,
   "id": "c29c2045",
   "metadata": {},
   "outputs": [
    {
     "name": "stdout",
     "output_type": "stream",
     "text": [
      "Введите имя: Hello\n",
      "Привет Hello\n"
     ]
    }
   ],
   "source": [
    "name = input('Введите имя: ')\n",
    "print('Привет {}'.format(name))"
   ]
  },
  {
   "cell_type": "code",
   "execution_count": 50,
   "id": "08c5e9f0",
   "metadata": {},
   "outputs": [
    {
     "name": "stdout",
     "output_type": "stream",
     "text": [
      "Введите имя: sdsd\n",
      "Привет sdsd\n"
     ]
    }
   ],
   "source": [
    "name = input('Введите имя: ')\n",
    "\n",
    "print('{0} {1}'.format('Привет', name))"
   ]
  },
  {
   "cell_type": "code",
   "execution_count": 56,
   "id": "d223f0ca",
   "metadata": {},
   "outputs": [
    {
     "name": "stdout",
     "output_type": "stream",
     "text": [
      "Введите имя: sdsd\n",
      "Привет sdsd\n"
     ]
    }
   ],
   "source": [
    "name = input('Введите имя: ')\n",
    "print('{word} {user_name}'.format(word='Привет', user_name=name))"
   ]
  },
  {
   "cell_type": "markdown",
   "id": "99b90e3e",
   "metadata": {},
   "source": [
    "#### f-string"
   ]
  },
  {
   "cell_type": "code",
   "execution_count": 51,
   "id": "12e2e129",
   "metadata": {},
   "outputs": [
    {
     "name": "stdout",
     "output_type": "stream",
     "text": [
      "Введите ваш возраст: 35\n"
     ]
    },
    {
     "data": {
      "text/plain": [
       "'Вам 35 лет. Вы родились примерно в 1988 году'"
      ]
     },
     "execution_count": 51,
     "metadata": {},
     "output_type": "execute_result"
    }
   ],
   "source": [
    "age = int(input('Введите ваш возраст: '))\n",
    "f'Вам {age} лет. Вы родились примерно в {2023 - age} году'"
   ]
  },
  {
   "cell_type": "markdown",
   "id": "99d22bb0",
   "metadata": {},
   "source": [
    "### Списки"
   ]
  },
  {
   "cell_type": "raw",
   "id": "fe2758fc",
   "metadata": {},
   "source": [
    "append(item): добавляет элемент item в конец списка\n",
    "\n",
    "insert(index, item): добавляет элемент item в список по индексу index\n",
    "\n",
    "extend(items): добавляет набор элементов items в конец списка\n",
    "\n",
    "remove(item): удаляет элемент item. Удаляется только первое вхождение элемента. Если элемент не найден, генерирует исключение ValueError\n",
    "\n",
    "clear(): удаление всех элементов из списка\n",
    "\n",
    "index(item): возвращает индекс элемента item. Если элемент не найден, генерирует исключение ValueError\n",
    "\n",
    "pop([index]): удаляет и возвращает элемент по индексу index. Если индекс не передан, то просто удаляет последний элемент.\n",
    "\n",
    "count(item): возвращает количество вхождений элемента item в список\n",
    "\n",
    "sort([key]): сортирует элементы. По умолчанию сортирует по возрастанию. Но с помощью параметра key мы можем передать функцию сортировки.\n",
    "\n",
    "reverse(): расставляет все элементы в списке в обратном порядке\n",
    "\n",
    "copy(): копирует список\n",
    "\n",
    "len(list): возвращает длину списка\n",
    "\n",
    "sorted(list, [key]): возвращает отсортированный список\n",
    "\n",
    "min(list): возвращает наименьший элемент списка\n",
    "\n",
    "max(list): возвращает наибольший элемент списка\n",
    "\n",
    "sum(list): возвращает сумму элементов\n"
   ]
  },
  {
   "cell_type": "markdown",
   "id": "67805aaa",
   "metadata": {},
   "source": [
    "#### append()"
   ]
  },
  {
   "cell_type": "code",
   "execution_count": 59,
   "id": "a9c7a18f",
   "metadata": {},
   "outputs": [
    {
     "data": {
      "text/plain": [
       "[1, [2, 3]]"
      ]
     },
     "execution_count": 59,
     "metadata": {},
     "output_type": "execute_result"
    }
   ],
   "source": [
    "my_list = []\n",
    "my_list.append(1)\n",
    "my_list.append([2, 3])\n",
    "my_list"
   ]
  },
  {
   "cell_type": "markdown",
   "id": "94bc3434",
   "metadata": {},
   "source": [
    "#### insert()"
   ]
  },
  {
   "cell_type": "code",
   "execution_count": 60,
   "id": "5dbfcd6d",
   "metadata": {},
   "outputs": [
    {
     "data": {
      "text/plain": [
       "[1, 2, [4, 5], 3]"
      ]
     },
     "execution_count": 60,
     "metadata": {},
     "output_type": "execute_result"
    }
   ],
   "source": [
    "my_list = [1, 2, 3]\n",
    "my_list.insert(2, [4, 5])\n",
    "my_list"
   ]
  },
  {
   "cell_type": "markdown",
   "id": "d0ae7c88",
   "metadata": {},
   "source": [
    "#### extend()"
   ]
  },
  {
   "cell_type": "code",
   "execution_count": 64,
   "id": "9b850533",
   "metadata": {},
   "outputs": [
    {
     "data": {
      "text/plain": [
       "[1, 2, 3, 4]"
      ]
     },
     "execution_count": 64,
     "metadata": {},
     "output_type": "execute_result"
    }
   ],
   "source": [
    "my_list = [1, 2]\n",
    "my_list.extend([3, 4])\n",
    "my_list"
   ]
  },
  {
   "cell_type": "markdown",
   "id": "74f3ba0b",
   "metadata": {},
   "source": [
    "#### remove(), pop()"
   ]
  },
  {
   "cell_type": "code",
   "execution_count": 65,
   "id": "0348e7b4",
   "metadata": {},
   "outputs": [
    {
     "data": {
      "text/plain": [
       "['hello', True, False]"
      ]
     },
     "execution_count": 65,
     "metadata": {},
     "output_type": "execute_result"
    }
   ],
   "source": [
    "my_list = ['hello', 'world', True, False, 5]\n",
    "my_list.remove('world')\n",
    "my_list.pop(3)\n",
    "my_list"
   ]
  },
  {
   "cell_type": "markdown",
   "id": "ca111259",
   "metadata": {},
   "source": [
    "#### clear()"
   ]
  },
  {
   "cell_type": "code",
   "execution_count": 66,
   "id": "5d679cf6",
   "metadata": {},
   "outputs": [
    {
     "data": {
      "text/plain": [
       "[]"
      ]
     },
     "execution_count": 66,
     "metadata": {},
     "output_type": "execute_result"
    }
   ],
   "source": [
    "my_list = [1, 2, 3]\n",
    "my_list.clear()\n",
    "my_list"
   ]
  },
  {
   "cell_type": "markdown",
   "id": "c6cf94d6",
   "metadata": {},
   "source": [
    "#### count"
   ]
  },
  {
   "cell_type": "code",
   "execution_count": 67,
   "id": "3a72e4c5",
   "metadata": {},
   "outputs": [
    {
     "data": {
      "text/plain": [
       "3"
      ]
     },
     "execution_count": 67,
     "metadata": {},
     "output_type": "execute_result"
    }
   ],
   "source": [
    "my_list = [1, 2, 3, 4, 5, 1, 1]\n",
    "my_list.count(1)"
   ]
  },
  {
   "cell_type": "markdown",
   "id": "ef07480e",
   "metadata": {},
   "source": [
    "#### index()"
   ]
  },
  {
   "cell_type": "code",
   "execution_count": 68,
   "id": "51275ac6",
   "metadata": {},
   "outputs": [
    {
     "data": {
      "text/plain": [
       "1"
      ]
     },
     "execution_count": 68,
     "metadata": {},
     "output_type": "execute_result"
    }
   ],
   "source": [
    "my_list = ['hello', 'world', True, False, 5]\n",
    "my_list.index('world')"
   ]
  },
  {
   "cell_type": "markdown",
   "id": "b98a7aba",
   "metadata": {},
   "source": [
    "#### sort()"
   ]
  },
  {
   "cell_type": "code",
   "execution_count": 72,
   "id": "f8de7900",
   "metadata": {},
   "outputs": [
    {
     "data": {
      "text/plain": [
       "[1, 2, 3]"
      ]
     },
     "execution_count": 72,
     "metadata": {},
     "output_type": "execute_result"
    }
   ],
   "source": [
    "my_list = [1, 3, 2]\n",
    "my_list.sort()\n",
    "my_list"
   ]
  },
  {
   "cell_type": "markdown",
   "id": "c122e305",
   "metadata": {},
   "source": [
    "#### reverse()"
   ]
  },
  {
   "cell_type": "code",
   "execution_count": 79,
   "id": "608cfaa9",
   "metadata": {},
   "outputs": [
    {
     "data": {
      "text/plain": [
       "[3, 2, 1]"
      ]
     },
     "execution_count": 79,
     "metadata": {},
     "output_type": "execute_result"
    }
   ],
   "source": [
    "my_list = [1, 2, 3]\n",
    "my_list.reverse()\n",
    "my_list"
   ]
  },
  {
   "cell_type": "markdown",
   "id": "29100c5b",
   "metadata": {},
   "source": [
    "#### copy()"
   ]
  },
  {
   "cell_type": "code",
   "execution_count": 81,
   "id": "e9b90a56",
   "metadata": {},
   "outputs": [
    {
     "name": "stdout",
     "output_type": "stream",
     "text": [
      "2036642681024|2036642681024\n",
      "2036642681024|2036642684864\n"
     ]
    }
   ],
   "source": [
    "my_list1 = [1, 2, 3]\n",
    "my_list2 = my_list1\n",
    "print(id(my_list1), id(my_list2), sep='|')\n",
    "my_list2 = my_list1.copy()\n",
    "print(id(my_list1), id(my_list2), sep='|')"
   ]
  },
  {
   "cell_type": "markdown",
   "id": "b824ea27",
   "metadata": {},
   "source": [
    "#### встроенная функция len()"
   ]
  },
  {
   "cell_type": "code",
   "execution_count": 82,
   "id": "3239dbe4",
   "metadata": {},
   "outputs": [
    {
     "data": {
      "text/plain": [
       "3"
      ]
     },
     "execution_count": 82,
     "metadata": {},
     "output_type": "execute_result"
    }
   ],
   "source": [
    "my_list = [1, 2, 3]\n",
    "len(my_list)"
   ]
  },
  {
   "cell_type": "markdown",
   "id": "b49caa41",
   "metadata": {},
   "source": [
    "#### встроенная функция sorted()"
   ]
  },
  {
   "cell_type": "code",
   "execution_count": 86,
   "id": "94f9f65e",
   "metadata": {},
   "outputs": [
    {
     "name": "stdout",
     "output_type": "stream",
     "text": [
      "['World', 'hello']\n",
      "['hello', 'World']\n"
     ]
    }
   ],
   "source": [
    "my_list = ['hello', 'World']\n",
    "my_list = sorted(my_list)\n",
    "print(my_list)\n",
    "my_list = sorted(my_list, key=str.lower)\n",
    "print(my_list)"
   ]
  },
  {
   "cell_type": "markdown",
   "id": "5ce7d03f",
   "metadata": {},
   "source": [
    "#### встроенные функции min(), max()"
   ]
  },
  {
   "cell_type": "code",
   "execution_count": 87,
   "id": "6b5ba441",
   "metadata": {},
   "outputs": [
    {
     "name": "stdout",
     "output_type": "stream",
     "text": [
      "1\n",
      "3\n"
     ]
    }
   ],
   "source": [
    "my_list = [1, 2, 3]\n",
    "print(min(my_list))\n",
    "print(max(my_list))"
   ]
  },
  {
   "cell_type": "markdown",
   "id": "85d1ad65",
   "metadata": {},
   "source": [
    "#### встроенная функция sum()"
   ]
  },
  {
   "cell_type": "code",
   "execution_count": 88,
   "id": "dd767181",
   "metadata": {},
   "outputs": [
    {
     "data": {
      "text/plain": [
       "6"
      ]
     },
     "execution_count": 88,
     "metadata": {},
     "output_type": "execute_result"
    }
   ],
   "source": [
    "my_list = [1, 2, 3]\n",
    "sum(my_list)"
   ]
  },
  {
   "cell_type": "markdown",
   "id": "d1359a38",
   "metadata": {},
   "source": [
    "#### Списковые включения"
   ]
  },
  {
   "cell_type": "code",
   "execution_count": 90,
   "id": "c0b673ba",
   "metadata": {},
   "outputs": [
    {
     "data": {
      "text/plain": [
       "[1, 2, 3, 4, 5, 6, 7, 8, 9]"
      ]
     },
     "execution_count": 90,
     "metadata": {},
     "output_type": "execute_result"
    }
   ],
   "source": [
    "my_list = [i for i in range(1, 10)]\n",
    "my_list"
   ]
  },
  {
   "cell_type": "code",
   "execution_count": 91,
   "id": "1ab3edb1",
   "metadata": {},
   "outputs": [
    {
     "data": {
      "text/plain": [
       "[2, 4, 6, 8]"
      ]
     },
     "execution_count": 91,
     "metadata": {},
     "output_type": "execute_result"
    }
   ],
   "source": [
    "my_list = [i for i in range(1, 10) if i % 2 == 0]\n",
    "my_list"
   ]
  },
  {
   "cell_type": "code",
   "execution_count": 92,
   "id": "6fc434b6",
   "metadata": {},
   "outputs": [
    {
     "name": "stdout",
     "output_type": "stream",
     "text": [
      "1 2 3 4\n"
     ]
    },
    {
     "data": {
      "text/plain": [
       "[1, 2, 3, 4]"
      ]
     },
     "execution_count": 92,
     "metadata": {},
     "output_type": "execute_result"
    }
   ],
   "source": [
    "my_list = [int(i) for i in input().split()]\n",
    "my_list"
   ]
  },
  {
   "cell_type": "markdown",
   "id": "ae552a80",
   "metadata": {},
   "source": [
    "### Кортежи"
   ]
  },
  {
   "cell_type": "markdown",
   "id": "cb88a998",
   "metadata": {},
   "source": [
    "#### В кортежах используется только методы, которые не изменяют его, такие как нахождение индекса, проверка на вхождение"
   ]
  },
  {
   "cell_type": "markdown",
   "id": "dcfa7dc5",
   "metadata": {},
   "source": [
    "### Словари"
   ]
  },
  {
   "cell_type": "raw",
   "id": "2e74fa29",
   "metadata": {},
   "source": [
    "clear(): Удаляет все элементы из словаря\n",
    "\n",
    "copy(): Возвращает неглубокую копию словаря\n",
    "\n",
    "fromkeys(seq[, v]): Возвращает словарь с ключами из seq и значениями, равными v (по умолчанию None)\n",
    "\n",
    "get(key[,d]): Возвращает значение ключа key. Если key не существует, возвращает d (по умолчанию None)\n",
    "\n",
    "items(): Возвращает новый объект элементов словаря в формате (ключ, значение)\n",
    "\n",
    "keys(): Возвращает новый объект с ключами словаря\n",
    "\n",
    "pop(key[,d]): Удаляет элемент с ключом key и возвращает его значение или d, если key не найден. Если d не было обозначено и key не найден, вызывает ошибку KeyError. \n",
    "\n",
    "popitem(): Удаляет и возвращает произвольную пару (ключ, значение). Вызывае ошибку KeyError, если словарь пустой.\n",
    "\n",
    "setdefault(key[,d]): Если ключ key есть в словаре, возвращает соответствующее ему значение. Если нет, добавляет в словарь элемент с ключом key и значением d и возвращает d (по умолчанию None) \n",
    "\n",
    "update([other]): Обновляет словарь имеющимися парами ключ/значение из other, перезаписывая существующие ключи\n",
    "\n",
    "values(): Возвращает новый объект со значениями словаря"
   ]
  },
  {
   "cell_type": "markdown",
   "id": "8e1455ec",
   "metadata": {},
   "source": [
    "#### clear()"
   ]
  },
  {
   "cell_type": "code",
   "execution_count": 95,
   "id": "58883469",
   "metadata": {},
   "outputs": [
    {
     "data": {
      "text/plain": [
       "{}"
      ]
     },
     "execution_count": 95,
     "metadata": {},
     "output_type": "execute_result"
    }
   ],
   "source": [
    "my_dict = {'a': 1, 'b': 2}\n",
    "my_dict.clear()\n",
    "my_dict"
   ]
  },
  {
   "cell_type": "markdown",
   "id": "f0785551",
   "metadata": {},
   "source": [
    "#### copy()"
   ]
  },
  {
   "cell_type": "code",
   "execution_count": 96,
   "id": "30604624",
   "metadata": {},
   "outputs": [
    {
     "name": "stdout",
     "output_type": "stream",
     "text": [
      "2036641305408|2036641305408\n",
      "2036641305408|2036641289920\n"
     ]
    }
   ],
   "source": [
    "my_dict1 = {'a': 1, 'b': 2}\n",
    "my_dict2 = my_dict1\n",
    "print(id(my_dict1), id(my_dict2), sep='|')\n",
    "my_dict2 = my_dict1.copy()\n",
    "print(id(my_dict1), id(my_dict2), sep='|')"
   ]
  },
  {
   "cell_type": "markdown",
   "id": "1a24b4ea",
   "metadata": {},
   "source": [
    "#### fromkeys()"
   ]
  },
  {
   "cell_type": "code",
   "execution_count": 97,
   "id": "27e50e55",
   "metadata": {},
   "outputs": [
    {
     "data": {
      "text/plain": [
       "{1: 0, 2: 0, 3: 0}"
      ]
     },
     "execution_count": 97,
     "metadata": {},
     "output_type": "execute_result"
    }
   ],
   "source": [
    "my_list = [1, 2, 3]\n",
    "my_dict = dict.fromkeys(my_list, 0)\n",
    "my_dict"
   ]
  },
  {
   "cell_type": "markdown",
   "id": "fb56bda2",
   "metadata": {},
   "source": [
    "#### get()"
   ]
  },
  {
   "cell_type": "code",
   "execution_count": 105,
   "id": "b333a403",
   "metadata": {},
   "outputs": [
    {
     "name": "stdout",
     "output_type": "stream",
     "text": [
      "1\n",
      "No key\n"
     ]
    }
   ],
   "source": [
    "my_dict = {'a': 1, 'b': 2}\n",
    "print(my_dict.get('a'))\n",
    "r = my_dict.get('c', 'No key')\n",
    "print(r)\n"
   ]
  },
  {
   "cell_type": "markdown",
   "id": "020eae26",
   "metadata": {},
   "source": [
    "#### items()"
   ]
  },
  {
   "cell_type": "code",
   "execution_count": 106,
   "id": "e4d43b25",
   "metadata": {},
   "outputs": [
    {
     "data": {
      "text/plain": [
       "dict_items([('a', 1), ('b', 2)])"
      ]
     },
     "execution_count": 106,
     "metadata": {},
     "output_type": "execute_result"
    }
   ],
   "source": [
    "my_dict = {'a': 1, 'b': 2}\n",
    "my_dict.items()"
   ]
  },
  {
   "cell_type": "code",
   "execution_count": 107,
   "id": "7dd9d192",
   "metadata": {},
   "outputs": [
    {
     "name": "stdout",
     "output_type": "stream",
     "text": [
      "('a', 1)\n",
      "('b', 2)\n"
     ]
    }
   ],
   "source": [
    "for item in my_dict.items():\n",
    "    print(item)"
   ]
  },
  {
   "cell_type": "markdown",
   "id": "5011c719",
   "metadata": {},
   "source": [
    "#### keys()"
   ]
  },
  {
   "cell_type": "code",
   "execution_count": 108,
   "id": "fe601f49",
   "metadata": {},
   "outputs": [
    {
     "data": {
      "text/plain": [
       "dict_keys(['a', 'b'])"
      ]
     },
     "execution_count": 108,
     "metadata": {},
     "output_type": "execute_result"
    }
   ],
   "source": [
    "my_dict = {'a': 1, 'b': 2}\n",
    "my_dict.keys()"
   ]
  },
  {
   "cell_type": "code",
   "execution_count": 109,
   "id": "195d2e43",
   "metadata": {},
   "outputs": [
    {
     "name": "stdout",
     "output_type": "stream",
     "text": [
      "a\n",
      "b\n"
     ]
    }
   ],
   "source": [
    "for key in my_dict.keys():\n",
    "    print(key)"
   ]
  },
  {
   "cell_type": "markdown",
   "id": "7724aa97",
   "metadata": {},
   "source": [
    "#### pop()"
   ]
  },
  {
   "cell_type": "code",
   "execution_count": 114,
   "id": "05744cd8",
   "metadata": {},
   "outputs": [
    {
     "name": "stdout",
     "output_type": "stream",
     "text": [
      "1\n",
      "None\n"
     ]
    },
    {
     "ename": "KeyError",
     "evalue": "'a'",
     "output_type": "error",
     "traceback": [
      "\u001b[1;31m---------------------------------------------------------------------------\u001b[0m",
      "\u001b[1;31mKeyError\u001b[0m                                  Traceback (most recent call last)",
      "Cell \u001b[1;32mIn[114], line 4\u001b[0m\n\u001b[0;32m      2\u001b[0m \u001b[38;5;28mprint\u001b[39m(my_dict\u001b[38;5;241m.\u001b[39mpop(\u001b[38;5;124m'\u001b[39m\u001b[38;5;124ma\u001b[39m\u001b[38;5;124m'\u001b[39m))\n\u001b[0;32m      3\u001b[0m \u001b[38;5;28mprint\u001b[39m(my_dict\u001b[38;5;241m.\u001b[39mpop(\u001b[38;5;124m'\u001b[39m\u001b[38;5;124ma\u001b[39m\u001b[38;5;124m'\u001b[39m, \u001b[38;5;28;01mNone\u001b[39;00m))\n\u001b[1;32m----> 4\u001b[0m \u001b[38;5;28mprint\u001b[39m(my_dict\u001b[38;5;241m.\u001b[39mpop(\u001b[38;5;124m'\u001b[39m\u001b[38;5;124ma\u001b[39m\u001b[38;5;124m'\u001b[39m))\n",
      "\u001b[1;31mKeyError\u001b[0m: 'a'"
     ]
    }
   ],
   "source": [
    "my_dict = {'a': 1, 'b': 2}\n",
    "print(my_dict.pop('a'))\n",
    "print(my_dict.pop('a', None))\n",
    "print(my_dict.pop('a'))"
   ]
  },
  {
   "cell_type": "markdown",
   "id": "2eb8f623",
   "metadata": {},
   "source": [
    "#### popitem()"
   ]
  },
  {
   "cell_type": "code",
   "execution_count": 116,
   "id": "7df8d127",
   "metadata": {},
   "outputs": [
    {
     "data": {
      "text/plain": [
       "('b', 2)"
      ]
     },
     "execution_count": 116,
     "metadata": {},
     "output_type": "execute_result"
    }
   ],
   "source": [
    "my_dict = {'a': 1, 'b': 2}\n",
    "my_dict.popitem()"
   ]
  },
  {
   "cell_type": "markdown",
   "id": "65bd6ac1",
   "metadata": {},
   "source": [
    "#### setdefault()"
   ]
  },
  {
   "cell_type": "code",
   "execution_count": 118,
   "id": "e8401337",
   "metadata": {},
   "outputs": [
    {
     "name": "stdout",
     "output_type": "stream",
     "text": [
      "1\n",
      "None\n",
      "{'a': 1, 'b': 2, 'c': None}\n"
     ]
    }
   ],
   "source": [
    "my_dict = {'a': 1, 'b': 2}\n",
    "print(my_dict.setdefault('a'))\n",
    "print(my_dict.setdefault('c', None))\n",
    "print(my_dict)"
   ]
  },
  {
   "cell_type": "markdown",
   "id": "b112ab74",
   "metadata": {},
   "source": [
    "#### update"
   ]
  },
  {
   "cell_type": "code",
   "execution_count": 124,
   "id": "888e93ab",
   "metadata": {},
   "outputs": [
    {
     "data": {
      "text/plain": [
       "{'a': 2, 'b': 2, 'c': 3}"
      ]
     },
     "execution_count": 124,
     "metadata": {},
     "output_type": "execute_result"
    }
   ],
   "source": [
    "my_dict = {'a': 1, 'b': 2}\n",
    "my_dict.update({'a': 2})\n",
    "my_dict.update({'c': 3})\n",
    "my_dict"
   ]
  },
  {
   "cell_type": "markdown",
   "id": "26c3f4fb",
   "metadata": {},
   "source": [
    "#### values()"
   ]
  },
  {
   "cell_type": "code",
   "execution_count": 125,
   "id": "dc650f85",
   "metadata": {},
   "outputs": [
    {
     "data": {
      "text/plain": [
       "dict_values([1, 2])"
      ]
     },
     "execution_count": 125,
     "metadata": {},
     "output_type": "execute_result"
    }
   ],
   "source": [
    "my_dict = {'a': 1, 'b': 2}\n",
    "my_dict.values()"
   ]
  },
  {
   "cell_type": "code",
   "execution_count": 126,
   "id": "0a6e6831",
   "metadata": {},
   "outputs": [
    {
     "name": "stdout",
     "output_type": "stream",
     "text": [
      "1\n",
      "2\n"
     ]
    }
   ],
   "source": [
    "for value in my_dict.values():\n",
    "    print(value)"
   ]
  },
  {
   "cell_type": "markdown",
   "id": "5d721b54",
   "metadata": {},
   "source": [
    "#### словарное включение"
   ]
  },
  {
   "cell_type": "code",
   "execution_count": 128,
   "id": "bffe7631",
   "metadata": {},
   "outputs": [
    {
     "data": {
      "text/plain": [
       "{2: 4, 4: 16, 6: 36, 8: 64}"
      ]
     },
     "execution_count": 128,
     "metadata": {},
     "output_type": "execute_result"
    }
   ],
   "source": [
    "my_dict = {i: i ** 2 for i in range(1, 10) if i % 2 == 0}\n",
    "my_dict"
   ]
  },
  {
   "cell_type": "markdown",
   "id": "77ba8e9b",
   "metadata": {},
   "source": [
    "### Множества"
   ]
  },
  {
   "cell_type": "raw",
   "id": "e7eb4a2c",
   "metadata": {},
   "source": [
    "update(other, ...); set |= other | ... - объединение\n",
    "\n",
    "intersection_update(other, ...); set &= other & ... - пересечение.\n",
    "\n",
    "difference_update(other, ...); set -= other | ... - вычитание.\n",
    "\n",
    "symmetric_difference_update(other); set ^= other - множество из элементов, встречающихся в одном множестве, но не встречающиеся в обоих.\n",
    "\n",
    "add(elem) - добавляет элемент в множество.\n",
    "\n",
    "remove(elem) - удаляет элемент из множества. KeyError, если такого элемента не существует.\n",
    "\n",
    "discard(elem) - удаляет элемент, если он находится в множестве.\n",
    "\n",
    "pop() - удаляет первый элемент из множества. Так как множества не упорядочены, нельзя точно сказать, какой элемент будет первым.\n",
    "\n",
    "clear() - очистка множества."
   ]
  },
  {
   "cell_type": "markdown",
   "id": "3810f9c2",
   "metadata": {},
   "source": [
    "#### update()"
   ]
  },
  {
   "cell_type": "code",
   "execution_count": 130,
   "id": "6757081d",
   "metadata": {},
   "outputs": [
    {
     "data": {
      "text/plain": [
       "{1, 2, 3, 4, 5}"
      ]
     },
     "execution_count": 130,
     "metadata": {},
     "output_type": "execute_result"
    }
   ],
   "source": [
    "my_set = {1, 2, 3}\n",
    "my_set.update({4, 5})\n",
    "my_set"
   ]
  },
  {
   "cell_type": "code",
   "execution_count": 132,
   "id": "abaeb353",
   "metadata": {},
   "outputs": [
    {
     "data": {
      "text/plain": [
       "{1, 2, 3, 4, 5}"
      ]
     },
     "execution_count": 132,
     "metadata": {},
     "output_type": "execute_result"
    }
   ],
   "source": [
    "my_set = {1, 2, 3}\n",
    "my_set |= {4, 5}\n",
    "my_set"
   ]
  },
  {
   "cell_type": "markdown",
   "id": "487e7ce0",
   "metadata": {},
   "source": [
    "#### intersection_update()"
   ]
  },
  {
   "cell_type": "code",
   "execution_count": 135,
   "id": "271b2c36",
   "metadata": {},
   "outputs": [
    {
     "data": {
      "text/plain": [
       "{1}"
      ]
     },
     "execution_count": 135,
     "metadata": {},
     "output_type": "execute_result"
    }
   ],
   "source": [
    "my_set = {1, 2, 3}\n",
    "my_set.intersection_update({1, 4})\n",
    "my_set"
   ]
  },
  {
   "cell_type": "code",
   "execution_count": 136,
   "id": "d1974351",
   "metadata": {},
   "outputs": [
    {
     "data": {
      "text/plain": [
       "{1}"
      ]
     },
     "execution_count": 136,
     "metadata": {},
     "output_type": "execute_result"
    }
   ],
   "source": [
    "my_set = {1, 2, 3}\n",
    "my_set &= {1, 4}\n",
    "my_set"
   ]
  },
  {
   "cell_type": "markdown",
   "id": "f9e4fa71",
   "metadata": {},
   "source": [
    "#### difference_update()"
   ]
  },
  {
   "cell_type": "code",
   "execution_count": 137,
   "id": "1807a303",
   "metadata": {},
   "outputs": [
    {
     "data": {
      "text/plain": [
       "{1, 3}"
      ]
     },
     "execution_count": 137,
     "metadata": {},
     "output_type": "execute_result"
    }
   ],
   "source": [
    "my_set = {1, 2, 3}\n",
    "my_set.difference_update({2, 5})\n",
    "my_set"
   ]
  },
  {
   "cell_type": "code",
   "execution_count": 138,
   "id": "48182fc0",
   "metadata": {},
   "outputs": [
    {
     "data": {
      "text/plain": [
       "{1, 3}"
      ]
     },
     "execution_count": 138,
     "metadata": {},
     "output_type": "execute_result"
    }
   ],
   "source": [
    "my_set = {1, 2, 3}\n",
    "my_set -= {2, 5}\n",
    "my_set"
   ]
  },
  {
   "cell_type": "markdown",
   "id": "4e2f80f8",
   "metadata": {},
   "source": [
    "#### symmetric_difference_update()"
   ]
  },
  {
   "cell_type": "code",
   "execution_count": 139,
   "id": "83d37ca5",
   "metadata": {},
   "outputs": [
    {
     "data": {
      "text/plain": [
       "{3}"
      ]
     },
     "execution_count": 139,
     "metadata": {},
     "output_type": "execute_result"
    }
   ],
   "source": [
    "my_set = {1, 2, 3}\n",
    "my_set.symmetric_difference_update({1, 2})\n",
    "my_set"
   ]
  },
  {
   "cell_type": "markdown",
   "id": "991d358c",
   "metadata": {},
   "source": [
    "#### add()"
   ]
  },
  {
   "cell_type": "code",
   "execution_count": 140,
   "id": "3b167fe5",
   "metadata": {},
   "outputs": [
    {
     "data": {
      "text/plain": [
       "{1, 2, 3, 5}"
      ]
     },
     "execution_count": 140,
     "metadata": {},
     "output_type": "execute_result"
    }
   ],
   "source": [
    "my_set = {1, 2, 3}\n",
    "my_set.add(5)\n",
    "my_set"
   ]
  },
  {
   "cell_type": "markdown",
   "id": "c7f3a702",
   "metadata": {},
   "source": [
    "#### remove()"
   ]
  },
  {
   "cell_type": "code",
   "execution_count": 142,
   "id": "24032b1e",
   "metadata": {},
   "outputs": [
    {
     "data": {
      "text/plain": [
       "{1, 3}"
      ]
     },
     "execution_count": 142,
     "metadata": {},
     "output_type": "execute_result"
    }
   ],
   "source": [
    "my_set = {1, 2, 3}\n",
    "my_set.remove(2)\n",
    "my_set"
   ]
  },
  {
   "cell_type": "markdown",
   "id": "55b6678f",
   "metadata": {},
   "source": [
    "#### discard()"
   ]
  },
  {
   "cell_type": "code",
   "execution_count": 143,
   "id": "2d99a2a4",
   "metadata": {},
   "outputs": [
    {
     "data": {
      "text/plain": [
       "{1, 3}"
      ]
     },
     "execution_count": 143,
     "metadata": {},
     "output_type": "execute_result"
    }
   ],
   "source": [
    "my_set = {1, 2, 3}\n",
    "my_set.discard(2)\n",
    "my_set"
   ]
  },
  {
   "cell_type": "code",
   "execution_count": 145,
   "id": "b8b8b27b",
   "metadata": {},
   "outputs": [
    {
     "data": {
      "text/plain": [
       "{1, 2, 3}"
      ]
     },
     "execution_count": 145,
     "metadata": {},
     "output_type": "execute_result"
    }
   ],
   "source": [
    "my_set = {1, 2, 3}\n",
    "my_set.discard(5)\n",
    "my_set"
   ]
  },
  {
   "cell_type": "markdown",
   "id": "7a369309",
   "metadata": {},
   "source": [
    "#### pop()"
   ]
  },
  {
   "cell_type": "code",
   "execution_count": 146,
   "id": "3d35f28e",
   "metadata": {},
   "outputs": [
    {
     "data": {
      "text/plain": [
       "{2, 3}"
      ]
     },
     "execution_count": 146,
     "metadata": {},
     "output_type": "execute_result"
    }
   ],
   "source": [
    "my_set = {1, 2, 3}\n",
    "my_set.pop()\n",
    "my_set"
   ]
  },
  {
   "cell_type": "markdown",
   "id": "d4b572c9",
   "metadata": {},
   "source": [
    "#### clear()"
   ]
  },
  {
   "cell_type": "code",
   "execution_count": 147,
   "id": "8b92fcb4",
   "metadata": {},
   "outputs": [
    {
     "data": {
      "text/plain": [
       "set()"
      ]
     },
     "execution_count": 147,
     "metadata": {},
     "output_type": "execute_result"
    }
   ],
   "source": [
    "my_set = {1, 2, 3}\n",
    "my_set.clear()\n",
    "my_set"
   ]
  },
  {
   "cell_type": "code",
   "execution_count": 148,
   "id": "efe70985",
   "metadata": {},
   "outputs": [
    {
     "data": {
      "text/plain": [
       "{1, 2, 3, 4, 5, 6, 7, 8, 9}"
      ]
     },
     "execution_count": 148,
     "metadata": {},
     "output_type": "execute_result"
    }
   ],
   "source": [
    "my_set = {i for i in range(1, 10)}\n",
    "my_set"
   ]
  },
  {
   "cell_type": "code",
   "execution_count": null,
   "id": "b04f3d75",
   "metadata": {},
   "outputs": [],
   "source": []
  }
 ],
 "metadata": {
  "kernelspec": {
   "display_name": "Python 3 (ipykernel)",
   "language": "python",
   "name": "python3"
  },
  "language_info": {
   "codemirror_mode": {
    "name": "ipython",
    "version": 3
   },
   "file_extension": ".py",
   "mimetype": "text/x-python",
   "name": "python",
   "nbconvert_exporter": "python",
   "pygments_lexer": "ipython3",
   "version": "3.12.4"
  }
 },
 "nbformat": 4,
 "nbformat_minor": 5
}
