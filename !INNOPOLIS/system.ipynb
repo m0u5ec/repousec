{
 "cells": [
  {
   "cell_type": "code",
   "execution_count": 1,
   "id": "68be65a1",
   "metadata": {},
   "outputs": [
    {
     "ename": "FileExistsError",
     "evalue": "[WinError 183] Невозможно создать файл, так как он уже существует: 'example_folder'",
     "output_type": "error",
     "traceback": [
      "\u001b[1;31m---------------------------------------------------------------------------\u001b[0m",
      "\u001b[1;31mFileExistsError\u001b[0m                           Traceback (most recent call last)",
      "Cell \u001b[1;32mIn[1], line 4\u001b[0m\n\u001b[0;32m      1\u001b[0m \u001b[38;5;28;01mimport\u001b[39;00m \u001b[38;5;21;01mos\u001b[39;00m\n\u001b[0;32m      3\u001b[0m \u001b[38;5;66;03m# Создаем новую папку\u001b[39;00m\n\u001b[1;32m----> 4\u001b[0m os\u001b[38;5;241m.\u001b[39mmkdir(\u001b[38;5;124m'\u001b[39m\u001b[38;5;124mexample_folder\u001b[39m\u001b[38;5;124m'\u001b[39m)\n\u001b[0;32m      6\u001b[0m \u001b[38;5;66;03m# Создаем новый файл в этой папке\u001b[39;00m\n\u001b[0;32m      7\u001b[0m \u001b[38;5;28;01mwith\u001b[39;00m \u001b[38;5;28mopen\u001b[39m(\u001b[38;5;124m'\u001b[39m\u001b[38;5;124mexample_folder/example_file.txt\u001b[39m\u001b[38;5;124m'\u001b[39m, \u001b[38;5;124m'\u001b[39m\u001b[38;5;124mw\u001b[39m\u001b[38;5;124m'\u001b[39m) \u001b[38;5;28;01mas\u001b[39;00m f:\n",
      "\u001b[1;31mFileExistsError\u001b[0m: [WinError 183] Невозможно создать файл, так как он уже существует: 'example_folder'"
     ]
    }
   ],
   "source": [
    "import os\n",
    "\n",
    "# Создаем новую папку\n",
    "os.mkdir('example_folder')\n",
    "\n",
    "# Создаем новый файл в этой папке\n",
    "with open('example_folder/example_file.txt', 'w') as f:\n",
    "    f.write('Hello, world!')\n",
    "print(\"Папка и файл успешно созданы.\")"
   ]
  },
  {
   "cell_type": "code",
   "execution_count": 2,
   "id": "b15e7e40",
   "metadata": {},
   "outputs": [
    {
     "name": "stdout",
     "output_type": "stream",
     "text": [
      "Текущая директория: C:\\Users\\marina.mysh\\!INNOPOLIS\n"
     ]
    }
   ],
   "source": [
    "import os\n",
    "current_directory = os.getcwd()\n",
    "print(f\"Текущая директория: {current_directory}\")"
   ]
  },
  {
   "cell_type": "code",
   "execution_count": 3,
   "id": "a0119981",
   "metadata": {},
   "outputs": [
    {
     "name": "stdout",
     "output_type": "stream",
     "text": [
      "Файл успешно скопирован.\n"
     ]
    }
   ],
   "source": [
    "import shutil\n",
    "\n",
    "# Копирование файла в новую папку\n",
    "shutil.copy('example_folder/example_file.txt', 'example_folder/copy_file.txt')\n",
    "print(\"Файл успешно скопирован.\")"
   ]
  },
  {
   "cell_type": "code",
   "execution_count": 4,
   "id": "1e9897eb",
   "metadata": {},
   "outputs": [
    {
     "name": "stdout",
     "output_type": "stream",
     "text": [
      "Резервное копирование выполнено успешно!\n"
     ]
    }
   ],
   "source": [
    "import os\n",
    "import shutil\n",
    "\n",
    "# Исходная и целевая директории\n",
    "source_dir = 'example_folder'\n",
    "backup_dir = 'backup_folder'\n",
    "\n",
    "# Создаем директорию для резервного копирования\n",
    "os.makedirs(backup_dir, exist_ok=True)\n",
    "\n",
    "# Копируем содержимое\n",
    "for filename in os.listdir(source_dir):\n",
    "    full_file_path = os.path.join(source_dir, filename)\n",
    "    if os.path.isfile(full_file_path):\n",
    "        shutil.copy(full_file_path, backup_dir)\n",
    "\n",
    "print(\"Резервное копирование выполнено успешно!\")"
   ]
  },
  {
   "cell_type": "code",
   "execution_count": 5,
   "id": "6a341171",
   "metadata": {},
   "outputs": [
    {
     "name": "stdout",
     "output_type": "stream",
     "text": [
      "Рабочая директория: C:\\Users\\marina.mysh\\!INNOPOLIS\n"
     ]
    }
   ],
   "source": [
    "from pathlib import Path\n",
    "\n",
    "# Получаем текущую директорию через pathlib\n",
    "current_directory = Path().cwd()\n",
    "print(f\"Рабочая директория: {current_directory}\")"
   ]
  },
  {
   "cell_type": "code",
   "execution_count": 6,
   "id": "e9dd3a93",
   "metadata": {},
   "outputs": [
    {
     "ename": "FileNotFoundError",
     "evalue": "[Errno 2] No such file or directory: 'nonexistent_file.txt'",
     "output_type": "error",
     "traceback": [
      "\u001b[1;31m---------------------------------------------------------------------------\u001b[0m",
      "\u001b[1;31mFileNotFoundError\u001b[0m                         Traceback (most recent call last)",
      "Cell \u001b[1;32mIn[6], line 1\u001b[0m\n\u001b[1;32m----> 1\u001b[0m \u001b[38;5;28;01mwith\u001b[39;00m \u001b[38;5;28mopen\u001b[39m(\u001b[38;5;124m'\u001b[39m\u001b[38;5;124mnonexistent_file.txt\u001b[39m\u001b[38;5;124m'\u001b[39m, \u001b[38;5;124m'\u001b[39m\u001b[38;5;124mr\u001b[39m\u001b[38;5;124m'\u001b[39m) \u001b[38;5;28;01mas\u001b[39;00m f:\n\u001b[0;32m      2\u001b[0m     \u001b[38;5;28;01mpass\u001b[39;00m\n",
      "File \u001b[1;32mC:\\ProgramData\\anaconda3\\Lib\\site-packages\\IPython\\core\\interactiveshell.py:324\u001b[0m, in \u001b[0;36m_modified_open\u001b[1;34m(file, *args, **kwargs)\u001b[0m\n\u001b[0;32m    317\u001b[0m \u001b[38;5;28;01mif\u001b[39;00m file \u001b[38;5;129;01min\u001b[39;00m {\u001b[38;5;241m0\u001b[39m, \u001b[38;5;241m1\u001b[39m, \u001b[38;5;241m2\u001b[39m}:\n\u001b[0;32m    318\u001b[0m     \u001b[38;5;28;01mraise\u001b[39;00m \u001b[38;5;167;01mValueError\u001b[39;00m(\n\u001b[0;32m    319\u001b[0m         \u001b[38;5;124mf\u001b[39m\u001b[38;5;124m\"\u001b[39m\u001b[38;5;124mIPython won\u001b[39m\u001b[38;5;124m'\u001b[39m\u001b[38;5;124mt let you open fd=\u001b[39m\u001b[38;5;132;01m{\u001b[39;00mfile\u001b[38;5;132;01m}\u001b[39;00m\u001b[38;5;124m by default \u001b[39m\u001b[38;5;124m\"\u001b[39m\n\u001b[0;32m    320\u001b[0m         \u001b[38;5;124m\"\u001b[39m\u001b[38;5;124mas it is likely to crash IPython. If you know what you are doing, \u001b[39m\u001b[38;5;124m\"\u001b[39m\n\u001b[0;32m    321\u001b[0m         \u001b[38;5;124m\"\u001b[39m\u001b[38;5;124myou can use builtins\u001b[39m\u001b[38;5;124m'\u001b[39m\u001b[38;5;124m open.\u001b[39m\u001b[38;5;124m\"\u001b[39m\n\u001b[0;32m    322\u001b[0m     )\n\u001b[1;32m--> 324\u001b[0m \u001b[38;5;28;01mreturn\u001b[39;00m io_open(file, \u001b[38;5;241m*\u001b[39margs, \u001b[38;5;241m*\u001b[39m\u001b[38;5;241m*\u001b[39mkwargs)\n",
      "\u001b[1;31mFileNotFoundError\u001b[0m: [Errno 2] No such file or directory: 'nonexistent_file.txt'"
     ]
    }
   ],
   "source": [
    "with open('nonexistent_file.txt', 'r') as f:\n",
    "    pass  # Это вызовет FileNotFoundError"
   ]
  },
  {
   "cell_type": "code",
   "execution_count": 7,
   "id": "82a30150",
   "metadata": {},
   "outputs": [
    {
     "name": "stdout",
     "output_type": "stream",
     "text": [
      "Текущая рабочая директория: C:\\Users\\marina.mysh\\!INNOPOLIS\n",
      "Текущая рабочая директория после изменения: C:\\Users\\marina.mysh\\!INNOPOLIS\\new_folder\n"
     ]
    }
   ],
   "source": [
    "import os\n",
    "\n",
    "print(f\"Текущая рабочая директория: {os.getcwd()}\")\n",
    "os.makedirs('new_folder', exist_ok=True)  # Создаёт папку, если её нет\n",
    "os.chdir('new_folder')\n",
    "print(f\"Текущая рабочая директория после изменения: {os.getcwd()}\")"
   ]
  },
  {
   "cell_type": "code",
   "execution_count": 8,
   "id": "b882ac62",
   "metadata": {},
   "outputs": [
    {
     "name": "stdout",
     "output_type": "stream",
     "text": [
      "Рабочая директория после возврата: C:\\Users\\marina.mysh\\!INNOPOLIS\n"
     ]
    }
   ],
   "source": [
    "os.chdir('..')  # Возврат в родительскую директорию\n",
    "print(f\"Рабочая директория после возврата: {os.getcwd()}\")"
   ]
  },
  {
   "cell_type": "code",
   "execution_count": 9,
   "id": "525fc10f",
   "metadata": {},
   "outputs": [
    {
     "name": "stdout",
     "output_type": "stream",
     "text": [
      "Файл создан в папке new_folder.\n"
     ]
    }
   ],
   "source": [
    "# Пример: создаём файл в новой директории\n",
    "os.chdir('new_folder')  # Переходим в папку\n",
    "with open('example.txt', 'w') as f:\n",
    "    f.write('Пример работы с файлами в изменённой директории.')\n",
    "print(\"Файл создан в папке new_folder.\")"
   ]
  },
  {
   "cell_type": "code",
   "execution_count": 10,
   "id": "3894e115",
   "metadata": {},
   "outputs": [
    {
     "name": "stdout",
     "output_type": "stream",
     "text": [
      "Директория не существует.\n"
     ]
    }
   ],
   "source": [
    "if not os.path.exists('target_folder'):\n",
    "    print(\"Директория не существует.\")\n",
    "else:\n",
    "    os.chdir('target_folder')"
   ]
  },
  {
   "cell_type": "code",
   "execution_count": 11,
   "id": "e2cc9486",
   "metadata": {},
   "outputs": [
    {
     "name": "stdout",
     "output_type": "stream",
     "text": [
      "Ошибка: Указанная директория не найдена.\n"
     ]
    }
   ],
   "source": [
    "try:\n",
    "    os.chdir('nonexistent_folder')\n",
    "except FileNotFoundError:\n",
    "    print(\"Ошибка: Указанная директория не найдена.\")"
   ]
  },
  {
   "cell_type": "code",
   "execution_count": 12,
   "id": "72ae5e4a",
   "metadata": {},
   "outputs": [
    {
     "name": "stdout",
     "output_type": "stream",
     "text": [
      "Текущая директория: C:\\Users\\marina.mysh\\!INNOPOLIS\\new_folder\\new_folder\n"
     ]
    }
   ],
   "source": [
    "from pathlib import Path\n",
    "\n",
    "# Переход в директорию через pathlib\n",
    "new_dir = Path('new_folder')\n",
    "new_dir.mkdir(exist_ok=True)\n",
    "os.chdir(new_dir)\n",
    "print(f\"Текущая директория: {Path().cwd()}\")"
   ]
  },
  {
   "cell_type": "code",
   "execution_count": 13,
   "id": "f78109dd",
   "metadata": {},
   "outputs": [
    {
     "name": "stdout",
     "output_type": "stream",
     "text": [
      "Содержимое текущей директории: []\n"
     ]
    }
   ],
   "source": [
    "import os\n",
    "\n",
    "files = os.listdir()  # Список файлов и папок\n",
    "print(f\"Содержимое текущей директории: {files}\")"
   ]
  },
  {
   "cell_type": "code",
   "execution_count": 14,
   "id": "64ab25f5",
   "metadata": {},
   "outputs": [
    {
     "ename": "FileNotFoundError",
     "evalue": "[WinError 3] Системе не удается найти указанный путь: 'path/to/directory'",
     "output_type": "error",
     "traceback": [
      "\u001b[1;31m---------------------------------------------------------------------------\u001b[0m",
      "\u001b[1;31mFileNotFoundError\u001b[0m                         Traceback (most recent call last)",
      "Cell \u001b[1;32mIn[14], line 1\u001b[0m\n\u001b[1;32m----> 1\u001b[0m files_in_dir \u001b[38;5;241m=\u001b[39m os\u001b[38;5;241m.\u001b[39mlistdir(\u001b[38;5;124m'\u001b[39m\u001b[38;5;124mpath/to/directory\u001b[39m\u001b[38;5;124m'\u001b[39m)\n\u001b[0;32m      2\u001b[0m \u001b[38;5;28mprint\u001b[39m(\u001b[38;5;124mf\u001b[39m\u001b[38;5;124m\"\u001b[39m\u001b[38;5;124mСодержимое директории \u001b[39m\u001b[38;5;124m'\u001b[39m\u001b[38;5;124mpath/to/directory\u001b[39m\u001b[38;5;124m'\u001b[39m\u001b[38;5;124m: \u001b[39m\u001b[38;5;132;01m{\u001b[39;00mfiles_in_dir\u001b[38;5;132;01m}\u001b[39;00m\u001b[38;5;124m\"\u001b[39m)\n",
      "\u001b[1;31mFileNotFoundError\u001b[0m: [WinError 3] Системе не удается найти указанный путь: 'path/to/directory'"
     ]
    }
   ],
   "source": [
    "files_in_dir = os.listdir('path/to/directory')\n",
    "print(f\"Содержимое директории 'path/to/directory': {files_in_dir}\")"
   ]
  },
  {
   "cell_type": "code",
   "execution_count": 15,
   "id": "82dbecae",
   "metadata": {},
   "outputs": [
    {
     "name": "stdout",
     "output_type": "stream",
     "text": [
      "Только файлы: []\n"
     ]
    }
   ],
   "source": [
    "files_only = [f for f in os.listdir() if os.path.isfile(f)]\n",
    "print(f\"Только файлы: {files_only}\")"
   ]
  },
  {
   "cell_type": "code",
   "execution_count": 16,
   "id": "1de0e732",
   "metadata": {},
   "outputs": [
    {
     "name": "stdout",
     "output_type": "stream",
     "text": [
      "Только папки: []\n"
     ]
    }
   ],
   "source": [
    "dirs_only = [d for d in os.listdir() if os.path.isdir(d)]\n",
    "print(f\"Только папки: {dirs_only}\")"
   ]
  },
  {
   "cell_type": "code",
   "execution_count": 17,
   "id": "27112f02",
   "metadata": {},
   "outputs": [
    {
     "name": "stdout",
     "output_type": "stream",
     "text": [
      "Содержимое папки test_dir: ['file1.txt', 'file2.txt']\n"
     ]
    }
   ],
   "source": [
    "os.makedirs('test_dir', exist_ok=True)\n",
    "with open('test_dir/file1.txt', 'w') as f:\n",
    "    f.write('File 1 content')\n",
    "with open('test_dir/file2.txt', 'w') as f:\n",
    "    f.write('File 2 content')\n",
    "files_in_test_dir = os.listdir('test_dir')\n",
    "print(f\"Содержимое папки test_dir: {files_in_test_dir}\")"
   ]
  },
  {
   "cell_type": "code",
   "execution_count": 18,
   "id": "c5504aaf",
   "metadata": {},
   "outputs": [
    {
     "name": "stdout",
     "output_type": "stream",
     "text": [
      "Файлы с расширением .txt: ['file1.txt', 'file2.txt']\n"
     ]
    }
   ],
   "source": [
    "txt_files = [f for f in os.listdir('test_dir') if f.endswith('.txt')]\n",
    "print(f\"Файлы с расширением .txt: {txt_files}\")"
   ]
  },
  {
   "cell_type": "code",
   "execution_count": 19,
   "id": "8137de1a",
   "metadata": {},
   "outputs": [
    {
     "name": "stdout",
     "output_type": "stream",
     "text": [
      "Содержимое test_dir: [WindowsPath('test_dir/file1.txt'), WindowsPath('test_dir/file2.txt')]\n",
      "Только файлы: [WindowsPath('test_dir/file1.txt'), WindowsPath('test_dir/file2.txt')]\n"
     ]
    }
   ],
   "source": [
    "from pathlib import Path\n",
    "\n",
    "# Создаём объект Path для директории\n",
    "test_dir = Path('test_dir')\n",
    "\n",
    "# Список всех объектов в папке\n",
    "all_items = list(test_dir.iterdir())\n",
    "print(f\"Содержимое test_dir: {all_items}\")\n",
    "\n",
    "# Фильтрация только файлов\n",
    "files = [item for item in test_dir.iterdir() if item.is_file()]\n",
    "print(f\"Только файлы: {files}\")"
   ]
  },
  {
   "cell_type": "code",
   "execution_count": 20,
   "id": "718330f4",
   "metadata": {},
   "outputs": [
    {
     "name": "stdout",
     "output_type": "stream",
     "text": [
      "Папка 'empty_folder' успешно удалена.\n"
     ]
    }
   ],
   "source": [
    "import os\n",
    "\n",
    "# Создаем пустую папку\n",
    "os.mkdir('empty_folder')\n",
    "\n",
    "# Удаляем папку\n",
    "os.rmdir('empty_folder')\n",
    "print(\"Папка 'empty_folder' успешно удалена.\")"
   ]
  },
  {
   "cell_type": "code",
   "execution_count": 21,
   "id": "091e868a",
   "metadata": {},
   "outputs": [
    {
     "name": "stdout",
     "output_type": "stream",
     "text": [
      "Папка 'test_folder' и все её содержимое удалены.\n"
     ]
    }
   ],
   "source": [
    "import os\n",
    "import shutil\n",
    "\n",
    "# Создаем папку с файлами\n",
    "os.makedirs('test_folder/sub_folder', exist_ok=True)\n",
    "with open('test_folder/file1.txt', 'w') as f:\n",
    "    f.write('Test file 1')\n",
    "with open('test_folder/sub_folder/file2.txt', 'w') as f:\n",
    "    f.write('Test file 2')\n",
    "\n",
    "# Удаляем папку test_folder вместе с её содержимым\n",
    "shutil.rmtree('test_folder')\n",
    "print(\"Папка 'test_folder' и все её содержимое удалены.\")"
   ]
  },
  {
   "cell_type": "code",
   "execution_count": 22,
   "id": "b7c3e6c9",
   "metadata": {},
   "outputs": [
    {
     "name": "stdout",
     "output_type": "stream",
     "text": [
      "Файл example.txt успешно создан.\n",
      "Это тестовый файл.\n",
      "Первая строка.\n"
     ]
    }
   ],
   "source": [
    "# Создаем файл в режиме записи\n",
    "with open('example.txt', 'w') as file:\n",
    "    file.write('Это тестовый файл.\\nПервая строка.')\n",
    "print(\"Файл example.txt успешно создан.\")\n",
    "# Читаем содержимое файла\n",
    "with open('example.txt', 'r') as file:\n",
    "    content = file.read()\n",
    "print(content)"
   ]
  },
  {
   "cell_type": "code",
   "execution_count": 23,
   "id": "91cc77d5",
   "metadata": {},
   "outputs": [
    {
     "name": "stdout",
     "output_type": "stream",
     "text": [
      "Файл example_pathlib.txt успешно создан.\n"
     ]
    }
   ],
   "source": [
    "from pathlib import Path\n",
    "\n",
    "# Создание файла\n",
    "file_path = Path('example_pathlib.txt')\n",
    "file_path.write_text('Пример файла, созданного через pathlib.')\n",
    "print(f\"Файл {file_path.name} успешно создан.\")"
   ]
  },
  {
   "cell_type": "code",
   "execution_count": 24,
   "id": "76a485b7",
   "metadata": {},
   "outputs": [
    {
     "name": "stdout",
     "output_type": "stream",
     "text": [
      "Пустой файл создан.\n"
     ]
    }
   ],
   "source": [
    "# Создаем пустой файл\n",
    "with open('empty_file.txt', 'w'):\n",
    "    pass\n",
    "print(\"Пустой файл создан.\")"
   ]
  },
  {
   "cell_type": "code",
   "execution_count": 25,
   "id": "9f8e4cb7",
   "metadata": {},
   "outputs": [
    {
     "name": "stdout",
     "output_type": "stream",
     "text": [
      "Пустой файл создан через pathlib.\n"
     ]
    }
   ],
   "source": [
    "Path('empty_file_pathlib.txt').touch()\n",
    "print(\"Пустой файл создан через pathlib.\")"
   ]
  },
  {
   "cell_type": "code",
   "execution_count": 26,
   "id": "1045ef9f",
   "metadata": {},
   "outputs": [
    {
     "name": "stdout",
     "output_type": "stream",
     "text": [
      "Исходный файл создан.\n",
      "Файл успешно скопирован как 'copied_file.txt'.\n"
     ]
    }
   ],
   "source": [
    "import shutil\n",
    "\n",
    "with open('source_file.txt', 'w') as f:\n",
    "    f.write('Это исходный файл для копирования.')\n",
    "print(\"Исходный файл создан.\")\n",
    "\n",
    "shutil.copy('source_file.txt', 'copied_file.txt')\n",
    "print(\"Файл успешно скопирован как 'copied_file.txt'.\")"
   ]
  },
  {
   "cell_type": "code",
   "execution_count": 27,
   "id": "4932f731",
   "metadata": {},
   "outputs": [
    {
     "name": "stdout",
     "output_type": "stream",
     "text": [
      "Исходный файл создан.\n",
      "Файл успешно перемещён в папку 'target_folder'.\n",
      "Содержимое папки 'target_folder': ['file_to_move.txt']\n"
     ]
    }
   ],
   "source": [
    "import shutil\n",
    "import os\n",
    "\n",
    "with open('file_to_move.txt', 'w') as f:\n",
    "    f.write('Это файл, который будет перемещён.')\n",
    "print(\"Исходный файл создан.\")\n",
    "\n",
    "# Создаём целевую папку\n",
    "os.makedirs('target_folder', exist_ok=True)\n",
    "\n",
    "# Перемещаем файл\n",
    "shutil.move('file_to_move.txt', 'target_folder/')\n",
    "print(\"Файл успешно перемещён в папку 'target_folder'.\")\n",
    "\n",
    "print(\"Содержимое папки 'target_folder':\", os.listdir('target_folder'))"
   ]
  },
  {
   "cell_type": "code",
   "execution_count": null,
   "id": "1935382c",
   "metadata": {},
   "outputs": [],
   "source": [
    "shutil.move('target_folder/file_to_move.txt', 'target_folder/renamed_file.txt')\n",
    "print(\"Файл перемещён и переименован.\""
   ]
  },
  {
   "cell_type": "code",
   "execution_count": 28,
   "id": "42bd8db5",
   "metadata": {},
   "outputs": [
    {
     "name": "stdout",
     "output_type": "stream",
     "text": [
      "Папка 'source_folder' перемещена в 'moved_folder'.\n"
     ]
    }
   ],
   "source": [
    "# Создаём папку с файлами\n",
    "os.makedirs('source_folder', exist_ok=True)\n",
    "with open('source_folder/sample.txt', 'w') as f:\n",
    "    f.write('Пример содержимого папки.')\n",
    "\n",
    "# Перемещаем папку\n",
    "shutil.move('source_folder', 'moved_folder')\n",
    "print(\"Папка 'source_folder' перемещена в 'moved_folder'.\")"
   ]
  },
  {
   "cell_type": "code",
   "execution_count": 29,
   "id": "08bd34f8",
   "metadata": {},
   "outputs": [
    {
     "name": "stdout",
     "output_type": "stream",
     "text": [
      "Файл создан.\n",
      "Файл успешно удалён.\n"
     ]
    }
   ],
   "source": [
    "import os\n",
    "\n",
    "# Создаем файл\n",
    "with open('file_to_delete.txt', 'w') as f:\n",
    "    f.write('Это файл для удаления.')\n",
    "print(\"Файл создан.\")\n",
    "\n",
    "# Удаляем файл\n",
    "os.remove('file_to_delete.txt')\n",
    "print(\"Файл успешно удалён.\")"
   ]
  },
  {
   "cell_type": "code",
   "execution_count": 30,
   "id": "ed53949d",
   "metadata": {},
   "outputs": [
    {
     "name": "stdout",
     "output_type": "stream",
     "text": [
      "Файл создан.\n",
      "Файл file_to_delete_pathlib.txt успешно удалён.\n"
     ]
    }
   ],
   "source": [
    "from pathlib import Path\n",
    "\n",
    "# Создаем файл\n",
    "file_path = Path('file_to_delete_pathlib.txt')\n",
    "file_path.write_text('Содержимое файла для удаления.')\n",
    "print(\"Файл создан.\")\n",
    "\n",
    "# Удаляем файл\n",
    "file_path.unlink()\n",
    "print(f\"Файл {file_path.name} успешно удалён.\")"
   ]
  },
  {
   "cell_type": "code",
   "execution_count": null,
   "id": "7181eb76",
   "metadata": {},
   "outputs": [],
   "source": [
    "files_to_delete = ['file1.txt', 'file2.txt', 'file3.txt']\n",
    "\n",
    "for file in files_to_delete:\n",
    "    if os.path.exists(file):\n",
    "        os.remove(file)\n",
    "        print(f\"Файл {file} удалён.\")\n",
    "    else:\n",
    "        print(f\"Файл {file} не найден.\")"
   ]
  },
  {
   "cell_type": "code",
   "execution_count": null,
   "id": "de29546e",
   "metadata": {},
   "outputs": [],
   "source": [
    "import os\n",
    "\n",
    "file_path = 'test_file.txt'\n",
    "\n",
    "if os.path.exists(file_path):\n",
    "    print(f\"Файл {file_path} существует.\")\n",
    "else:\n",
    "    print(f\"Файл {file_path} не существует.\")"
   ]
  },
  {
   "cell_type": "code",
   "execution_count": null,
   "id": "ae4ba334",
   "metadata": {},
   "outputs": [],
   "source": [
    "folder_path = 'test_folder'\n",
    "if os.path.isdir(folder_path):\n",
    "    print(f\"Папка {folder_path} существует.\")\n",
    "else:\n",
    "    print(f\"Папка {folder_path} не существует.\")"
   ]
  },
  {
   "cell_type": "code",
   "execution_count": null,
   "id": "f67bbb74",
   "metadata": {},
   "outputs": [],
   "source": [
    "import os\n",
    "\n",
    "# Относительный путь\n",
    "relative_path = 'myfile.txt'\n",
    "\n",
    "# Получение абсолютного пути\n",
    "absolute_path = os.path.abspath(relative_path)\n",
    "print(f\"Абсолютный путь: {absolute_path}\")"
   ]
  },
  {
   "cell_type": "code",
   "execution_count": 31,
   "id": "1385a24c",
   "metadata": {},
   "outputs": [
    {
     "ename": "FileNotFoundError",
     "evalue": "[WinError 2] Не удается найти указанный файл: 'test_file.txt'",
     "output_type": "error",
     "traceback": [
      "\u001b[1;31m---------------------------------------------------------------------------\u001b[0m",
      "\u001b[1;31mFileNotFoundError\u001b[0m                         Traceback (most recent call last)",
      "Cell \u001b[1;32mIn[31], line 4\u001b[0m\n\u001b[0;32m      1\u001b[0m \u001b[38;5;28;01mimport\u001b[39;00m \u001b[38;5;21;01mos\u001b[39;00m\n\u001b[0;32m      3\u001b[0m \u001b[38;5;66;03m# Получаем размер файла\u001b[39;00m\n\u001b[1;32m----> 4\u001b[0m file_size \u001b[38;5;241m=\u001b[39m os\u001b[38;5;241m.\u001b[39mpath\u001b[38;5;241m.\u001b[39mgetsize(\u001b[38;5;124m'\u001b[39m\u001b[38;5;124mtest_file.txt\u001b[39m\u001b[38;5;124m'\u001b[39m)\n\u001b[0;32m      5\u001b[0m \u001b[38;5;28mprint\u001b[39m(\u001b[38;5;124mf\u001b[39m\u001b[38;5;124m\"\u001b[39m\u001b[38;5;124mРазмер файла: \u001b[39m\u001b[38;5;132;01m{\u001b[39;00mfile_size\u001b[38;5;132;01m}\u001b[39;00m\u001b[38;5;124m байт\u001b[39m\u001b[38;5;124m\"\u001b[39m)\n",
      "File \u001b[1;32m<frozen genericpath>:50\u001b[0m, in \u001b[0;36mgetsize\u001b[1;34m(filename)\u001b[0m\n",
      "\u001b[1;31mFileNotFoundError\u001b[0m: [WinError 2] Не удается найти указанный файл: 'test_file.txt'"
     ]
    }
   ],
   "source": [
    "import os\n",
    "\n",
    "# Получаем размер файла\n",
    "file_size = os.path.getsize('test_file.txt')\n",
    "print(f\"Размер файла: {file_size} байт\")"
   ]
  },
  {
   "cell_type": "code",
   "execution_count": null,
   "id": "4cccfc6b",
   "metadata": {},
   "outputs": [],
   "source": [
    "import os\n",
    "\n",
    "# Получаем имя файла из полного пути\n",
    "file_name = os.path.basename('/path/to/file.txt')\n",
    "print(f\"Имя файла: {file_name}\")"
   ]
  },
  {
   "cell_type": "code",
   "execution_count": null,
   "id": "ee2830a0",
   "metadata": {},
   "outputs": [],
   "source": [
    "import os\n",
    "\n",
    "# Получаем директорию из полного пути\n",
    "directory_name = os.path.dirname('/path/to/file.txt')\n",
    "print(f\"Директория: {directory_name}\")"
   ]
  }
 ],
 "metadata": {
  "kernelspec": {
   "display_name": "Python 3 (ipykernel)",
   "language": "python",
   "name": "python3"
  },
  "language_info": {
   "codemirror_mode": {
    "name": "ipython",
    "version": 3
   },
   "file_extension": ".py",
   "mimetype": "text/x-python",
   "name": "python",
   "nbconvert_exporter": "python",
   "pygments_lexer": "ipython3",
   "version": "3.12.4"
  }
 },
 "nbformat": 4,
 "nbformat_minor": 5
}
