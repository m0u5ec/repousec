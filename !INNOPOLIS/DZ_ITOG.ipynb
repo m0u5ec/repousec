{
 "cells": [
  {
   "cell_type": "code",
   "execution_count": 37,
   "id": "02a274a0-4c02-4f7b-aa66-44039e0a49a6",
   "metadata": {},
   "outputs": [
    {
     "name": "stdout",
     "output_type": "stream",
     "text": [
      "[(1, 'Иван', 'Иванов', 19), (2, 'Пётр', 'Сидоров', 27), (3, 'Николай', 'Зайцев', 77), (4, 'Ирина', 'Сивко', 50), (5, 'Злата', 'Егорова', 31), (6, 'Илья', 'Голубцов', 17), (7, 'Сергей', 'Слепов', 37), (8, 'Степан', 'Семёнов', 45), (9, 'Ангелина', 'Кравцова', 29), (10, 'Павел', 'Иванов', 33), (11, 'Сергей', 'Есенин', 49), (12, 'Анна', 'Петрова', 47), (13, 'Наталья', 'Станкова', 39), (14, 'Диниил', 'Копин', 35), (15, 'Алексей', 'Пролетарский', 27)]\n"
     ]
    }
   ],
   "source": [
    "import os\n",
    "import sqlite3\n",
    "from tkinter import *\n",
    "import tkinter.messagebox as box\n",
    "\n",
    "def init_data(): #Инициализация данных - создание БД, очистка таблицы и заполнение стартовым набором данных\n",
    "    try:\n",
    "        db_filename = 'people.db'\n",
    "        conn = sqlite3.connect(db_filename)\n",
    "        cur = conn.cursor()\n",
    "        cur.execute(\"DROP TABLE IF EXISTS people\")\n",
    "        cur.execute(\"\"\"CREATE TABLE people(\n",
    "                    id integer primary key autoincrement not null,\n",
    "                    fname text,\n",
    "                    lname text,\n",
    "                    age integer);\"\"\")\n",
    "        people_init = [('Иван', 'Иванов',  '19'),\n",
    "                        ('Пётр', 'Сидоров',  '27'),\n",
    "                        ('Николай', 'Зайцев',  '77'),\n",
    "                        ('Ирина', 'Сивко',  '50'),\n",
    "                        ('Злата', 'Егорова',  '31'),\n",
    "                        ('Илья', 'Голубцов',  '17'),\n",
    "                        ('Сергей', 'Слепов',  '37'),\n",
    "                        ('Степан', 'Семёнов',  '45'),\n",
    "                        ('Ангелина', 'Кравцова',  '29'),\n",
    "                        ('Павел', 'Иванов',  '33'),\n",
    "                        ('Сергей', 'Есенин',  '49'),\n",
    "                        ('Анна', 'Петрова',  '47'),\n",
    "                        ('Наталья', 'Станкова',  '39'),\n",
    "                        ('Диниил', 'Копин',  '35'),\n",
    "                        ('Алексей', 'Пролетарский',  '27')]\n",
    "        cur.executemany(\"INSERT INTO people(fname, lname, age) VALUES( ?, ?, ?);\", people_init)\n",
    "        conn.commit()\n",
    "        #cur.execute(\"SELECT * FROM people\")\n",
    "        #for row in cur.fetchall():\n",
    "        #    print(row)\n",
    "        conn.close()\n",
    "        return db_filename\n",
    "    except Exception:\n",
    "        return False\n",
    "\n",
    "def Q_func(event):\n",
    "    conn.close()\n",
    "    window.destroy()\n",
    "\n",
    "\n",
    "####################################\n",
    "window = Tk()\n",
    "window.geometry(\"400x300\")\n",
    "window.title(\"Список людей\")\n",
    "frame = Frame(window)\n",
    "lb_1 = Label(frame, text = \"Имя\")\n",
    "lb_2 = Label(frame, text = \"Фамилия\")\n",
    "lb_3 = Label(frame, text = \"Возраст\")\n",
    "lb_1.grid(column=1, row=0)\n",
    "lb_2.grid(column=2, row=0)\n",
    "lb_3.grid(column=3, row=0)\n",
    "conn = sqlite3.connect(str(init_data()))\n",
    "#conn.row_factory = sqlite3.Row\n",
    "cur = conn.cursor()\n",
    "cur.execute(\"SELECT id,fname,lname,age FROM people\")\n",
    "people_list =  cur.fetchall()\n",
    "people_var=Variable(value=people_list)\n",
    "print(people_list)\n",
    "people_listbox = Listbox(frame, listvariable=people_var,width=40)\n",
    "people_listbox.grid(columnspan=3, row=1)\n",
    "scroll = Scrollbar(orient = VERTICAL, command = people_listbox.yview)\n",
    "scroll.pack(side = RIGHT, fill = Y)\n",
    "people_listbox.config(yscrollcommand = scroll.set)\n",
    "Qbtn = Button(frame, text = \"Выйти\", width=15)\n",
    "Qbtn.grid(columnspan=3, row=2)\n",
    "Qbtn.bind('<Button-1>', Q_func)\n",
    "Qbtn.bind('<Return>', Q_func)\n",
    "frame.pack(padx = 20, pady = 20,expand=1)\n",
    "window.mainloop()\n"
   ]
  },
  {
   "cell_type": "code",
   "execution_count": 30,
   "id": "ae92c4b9-7c3d-40e0-a86f-0fc166d746dd",
   "metadata": {},
   "outputs": [
    {
     "name": "stdout",
     "output_type": "stream",
     "text": [
      "[(1, 'Иван', 'Иванов', 19), (2, 'Пётр', 'Сидоров', 27), (3, 'Николай', 'Зайцев', 77), (4, 'Ирина', 'Сивко', 50), (5, 'Злата', 'Егорова', 31), (6, 'Илья', 'Голубцов', 17), (7, 'Сергей', 'Слепов', 37), (8, 'Степан', 'Семёнов', 45), (9, 'Ангелина', 'Кравцова', 29), (10, 'Павел', 'Иванов', 33), (11, 'Сергей', 'Есенин', 49), (12, 'Анна', 'Петрова', 47), (13, 'Наталья', 'Станкова', 39), (14, 'Диниил', 'Копин', 35), (15, 'Алексей', 'Пролетарский', 27)]\n"
     ]
    },
    {
     "ename": "RuntimeError",
     "evalue": "Too early to create variable: no default root window",
     "output_type": "error",
     "traceback": [
      "\u001b[1;31m---------------------------------------------------------------------------\u001b[0m",
      "\u001b[1;31mRuntimeError\u001b[0m                              Traceback (most recent call last)",
      "Cell \u001b[1;32mIn[30], line 8\u001b[0m\n\u001b[0;32m      6\u001b[0m \u001b[38;5;28mprint\u001b[39m(people_list)\n\u001b[0;32m      7\u001b[0m conn\u001b[38;5;241m.\u001b[39mclose()\n\u001b[1;32m----> 8\u001b[0m people_var\u001b[38;5;241m=\u001b[39mVariable(value\u001b[38;5;241m=\u001b[39mpeople_list)\n\u001b[0;32m      9\u001b[0m people_var\n",
      "File \u001b[1;32mC:\\ProgramData\\anaconda3\\Lib\\tkinter\\__init__.py:397\u001b[0m, in \u001b[0;36mVariable.__init__\u001b[1;34m(self, master, value, name)\u001b[0m\n\u001b[0;32m    395\u001b[0m \u001b[38;5;28;01mglobal\u001b[39;00m _varnum\n\u001b[0;32m    396\u001b[0m \u001b[38;5;28;01mif\u001b[39;00m master \u001b[38;5;129;01mis\u001b[39;00m \u001b[38;5;28;01mNone\u001b[39;00m:\n\u001b[1;32m--> 397\u001b[0m     master \u001b[38;5;241m=\u001b[39m _get_default_root(\u001b[38;5;124m'\u001b[39m\u001b[38;5;124mcreate variable\u001b[39m\u001b[38;5;124m'\u001b[39m)\n\u001b[0;32m    398\u001b[0m \u001b[38;5;28mself\u001b[39m\u001b[38;5;241m.\u001b[39m_root \u001b[38;5;241m=\u001b[39m master\u001b[38;5;241m.\u001b[39m_root()\n\u001b[0;32m    399\u001b[0m \u001b[38;5;28mself\u001b[39m\u001b[38;5;241m.\u001b[39m_tk \u001b[38;5;241m=\u001b[39m master\u001b[38;5;241m.\u001b[39mtk\n",
      "File \u001b[1;32mC:\\ProgramData\\anaconda3\\Lib\\tkinter\\__init__.py:323\u001b[0m, in \u001b[0;36m_get_default_root\u001b[1;34m(what)\u001b[0m\n\u001b[0;32m    321\u001b[0m \u001b[38;5;28;01mif\u001b[39;00m _default_root \u001b[38;5;129;01mis\u001b[39;00m \u001b[38;5;28;01mNone\u001b[39;00m:\n\u001b[0;32m    322\u001b[0m     \u001b[38;5;28;01mif\u001b[39;00m what:\n\u001b[1;32m--> 323\u001b[0m         \u001b[38;5;28;01mraise\u001b[39;00m \u001b[38;5;167;01mRuntimeError\u001b[39;00m(\u001b[38;5;124mf\u001b[39m\u001b[38;5;124m\"\u001b[39m\u001b[38;5;124mToo early to \u001b[39m\u001b[38;5;132;01m{\u001b[39;00mwhat\u001b[38;5;132;01m}\u001b[39;00m\u001b[38;5;124m: no default root window\u001b[39m\u001b[38;5;124m\"\u001b[39m)\n\u001b[0;32m    324\u001b[0m     root \u001b[38;5;241m=\u001b[39m Tk()\n\u001b[0;32m    325\u001b[0m     \u001b[38;5;28;01massert\u001b[39;00m _default_root \u001b[38;5;129;01mis\u001b[39;00m root\n",
      "\u001b[1;31mRuntimeError\u001b[0m: Too early to create variable: no default root window"
     ]
    }
   ],
   "source": [
    "conn = sqlite3.connect(str(init_data()))\n",
    "#conn.row_factory = sqlite3.Row\n",
    "cur = conn.cursor()\n",
    "cur.execute(\"SELECT id,fname,lname,age FROM people\")\n",
    "people_list =  cur.fetchall()\n",
    "print(people_list)\n",
    "conn.close()\n",
    "people_var=Variable(value=people_list)\n",
    "people_var"
   ]
  },
  {
   "cell_type": "code",
   "execution_count": null,
   "id": "6bf52dbd-f80a-46c3-9b69-f09175368c34",
   "metadata": {},
   "outputs": [],
   "source": []
  }
 ],
 "metadata": {
  "kernelspec": {
   "display_name": "Python 3 (ipykernel)",
   "language": "python",
   "name": "python3"
  },
  "language_info": {
   "codemirror_mode": {
    "name": "ipython",
    "version": 3
   },
   "file_extension": ".py",
   "mimetype": "text/x-python",
   "name": "python",
   "nbconvert_exporter": "python",
   "pygments_lexer": "ipython3",
   "version": "3.12.4"
  }
 },
 "nbformat": 4,
 "nbformat_minor": 5
}
