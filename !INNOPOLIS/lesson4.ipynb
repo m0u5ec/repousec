{
 "cells": [
  {
   "cell_type": "markdown",
   "id": "0691a550",
   "metadata": {},
   "source": [
    "#### match case"
   ]
  },
  {
   "cell_type": "code",
   "execution_count": null,
   "id": "eec2a6e4",
   "metadata": {},
   "outputs": [],
   "source": [
    "number = 2\n",
    "match number:\n",
    "    case 1:\n",
    "        pass\n",
    "    case 2:\n",
    "        pass\n",
    "    case _:\n",
    "        pass"
   ]
  },
  {
   "cell_type": "code",
   "execution_count": null,
   "id": "5b203a7d",
   "metadata": {},
   "outputs": [],
   "source": [
    "print('Пример простого консольного меню')\n",
    "choice = input('Выберите необходимое действие:\\n1 - Открыть\\n2 - Сохранить\\n0 - Выйти\\nВведите номер: ')\n",
    "match choice:\n",
    "    case '1':\n",
    "        print('Вы выбрали открыть')\n",
    "    case '2':\n",
    "        print('Вы выбрали сохранить')\n",
    "    case '0':\n",
    "        print('Выход из программы')\n",
    "    case _:\n",
    "        print('Вы выбрали неверное действие!')"
   ]
  },
  {
   "cell_type": "code",
   "execution_count": null,
   "id": "984882c9",
   "metadata": {},
   "outputs": [],
   "source": [
    "user_number = int(input('Введите число: '))\n",
    "match user_number:\n",
    "    case 0 | 1:\n",
    "        print('Вы выбрали 0 или 1')\n",
    "    case 2:\n",
    "        print('Вы выбрали 2')"
   ]
  },
  {
   "cell_type": "markdown",
   "id": "95a9eb3d",
   "metadata": {},
   "source": [
    "#### Циклы"
   ]
  },
  {
   "cell_type": "code",
   "execution_count": null,
   "id": "5b9f0239",
   "metadata": {},
   "outputs": [],
   "source": [
    "number = 3\n",
    "while number > 0:\n",
    "    print(number)\n",
    "    number -= 1"
   ]
  },
  {
   "cell_type": "code",
   "execution_count": null,
   "id": "800bbfb2",
   "metadata": {},
   "outputs": [],
   "source": [
    "while True:\n",
    "    print('Это бесконечный цикл')"
   ]
  },
  {
   "cell_type": "code",
   "execution_count": null,
   "id": "23fbf797",
   "metadata": {},
   "outputs": [],
   "source": [
    "while True:\n",
    "    num1 = int(input('Введите первое число: '))\n",
    "    num2 = int(input('Введите второе число: '))\n",
    "    print(num1 + num2)\n",
    "    choice = input('Хотите выйти?(Да/Нет): ')\n",
    "    match choice:\n",
    "        case 'Да':\n",
    "            break"
   ]
  },
  {
   "cell_type": "code",
   "execution_count": null,
   "id": "02efeb5f",
   "metadata": {},
   "outputs": [],
   "source": [
    "choice = 'Нет'\n",
    "while choice != 'Да':\n",
    "    num1 = int(input('Введите первое число: '))\n",
    "    num2 = int(input('Введите второе число: '))\n",
    "    print(num1 + num2)\n",
    "    choice = input('Хотите выйти?(Да/Нет): ')"
   ]
  },
  {
   "cell_type": "code",
   "execution_count": null,
   "id": "bc451972",
   "metadata": {},
   "outputs": [],
   "source": [
    "my_string = 'hello world'\n",
    "for char in my_string:\n",
    "    print(char)"
   ]
  },
  {
   "cell_type": "code",
   "execution_count": null,
   "id": "5b44f986",
   "metadata": {},
   "outputs": [],
   "source": [
    "for i in range(1, 5):\n",
    "    print(i)"
   ]
  },
  {
   "cell_type": "code",
   "execution_count": null,
   "id": "b47bef1f",
   "metadata": {},
   "outputs": [],
   "source": [
    "for i in range(1, 10, 2):\n",
    "    print(i)"
   ]
  },
  {
   "cell_type": "code",
   "execution_count": null,
   "id": "62b84ba9",
   "metadata": {},
   "outputs": [],
   "source": [
    "for i in range(10, 1, -2):\n",
    "    print(i)"
   ]
  },
  {
   "cell_type": "code",
   "execution_count": null,
   "id": "e34d5f7c",
   "metadata": {},
   "outputs": [],
   "source": [
    "for i in range(3):\n",
    "    choice = input('Введите Да для выхода: ')\n",
    "    if choice == 'Да':\n",
    "        break\n",
    "else:\n",
    "    print('Выход из цикла был с помощью break')\n",
    "        "
   ]
  },
  {
   "cell_type": "code",
   "execution_count": null,
   "id": "51f69918",
   "metadata": {},
   "outputs": [],
   "source": [
    "for char in 'hello world':\n",
    "    if char == ' ':\n",
    "        continue\n",
    "    print(char, end=' ')"
   ]
  },
  {
   "cell_type": "markdown",
   "id": "3a694880",
   "metadata": {},
   "source": [
    "#### Исключения"
   ]
  },
  {
   "cell_type": "code",
   "execution_count": null,
   "id": "468af65d",
   "metadata": {},
   "outputs": [],
   "source": [
    "number = int(input('Введите число: '))\n",
    "print(number)"
   ]
  },
  {
   "cell_type": "code",
   "execution_count": 1,
   "id": "c3d2115a",
   "metadata": {},
   "outputs": [
    {
     "name": "stdin",
     "output_type": "stream",
     "text": [
      "Введите число:  tfht\n"
     ]
    },
    {
     "name": "stdout",
     "output_type": "stream",
     "text": [
      "Возникло исключение\n"
     ]
    }
   ],
   "source": [
    "try:\n",
    "    number = int(input('Введите число: '))\n",
    "    print(number)\n",
    "except Exception:\n",
    "    print('Возникло исключение')"
   ]
  },
  {
   "cell_type": "code",
   "execution_count": 1,
   "id": "dc7d67e2",
   "metadata": {},
   "outputs": [
    {
     "name": "stdout",
     "output_type": "stream",
     "text": [
      "Введите число: s\n",
      "Возникло исключение ValueError\n"
     ]
    }
   ],
   "source": [
    "try:\n",
    "    number = int(input('Введите число: '))\n",
    "    print(number)\n",
    "except ValueError:\n",
    "    print('Возникло исключение ValueError')"
   ]
  },
  {
   "cell_type": "code",
   "execution_count": 2,
   "id": "1994490c",
   "metadata": {},
   "outputs": [
    {
     "name": "stdout",
     "output_type": "stream",
     "text": [
      "Введите число: a\n",
      "Возникло исключение ValueError\n",
      "invalid literal for int() with base 10: 'a'\n"
     ]
    }
   ],
   "source": [
    "try:\n",
    "    number = int(input('Введите число: '))\n",
    "    print(number)\n",
    "except ValueError as err:\n",
    "    print('Возникло исключение ValueError')\n",
    "    print(err)"
   ]
  },
  {
   "cell_type": "code",
   "execution_count": 5,
   "id": "536b8b9c",
   "metadata": {},
   "outputs": [
    {
     "name": "stdout",
     "output_type": "stream",
     "text": [
      "Введите число: 1\n",
      "1\n",
      "Исключений не возникло!\n"
     ]
    }
   ],
   "source": [
    "try:\n",
    "    number = int(input('Введите число: '))\n",
    "    print(number)\n",
    "except ValueError:\n",
    "    print('Возникло исключение ValueError')\n",
    "else:\n",
    "    print('Исключений не возникло!')"
   ]
  },
  {
   "cell_type": "code",
   "execution_count": 7,
   "id": "a4d1d5c0",
   "metadata": {},
   "outputs": [
    {
     "name": "stdout",
     "output_type": "stream",
     "text": [
      "Введите число: s\n",
      "Возникло исключение ValueError\n",
      "Сработал finally\n"
     ]
    }
   ],
   "source": [
    "try:\n",
    "    number = int(input('Введите число: '))\n",
    "    print(number)\n",
    "except ValueError:\n",
    "    print('Возникло исключение ValueError')\n",
    "finally:\n",
    "    print('Сработал finally')"
   ]
  },
  {
   "cell_type": "code",
   "execution_count": 8,
   "id": "75857151",
   "metadata": {},
   "outputs": [
    {
     "name": "stdout",
     "output_type": "stream",
     "text": [
      "1\n"
     ]
    },
    {
     "ename": "ValueError",
     "evalue": "",
     "output_type": "error",
     "traceback": [
      "\u001b[1;31m---------------------------------------------------------------------------\u001b[0m",
      "\u001b[1;31mValueError\u001b[0m                                Traceback (most recent call last)",
      "Cell \u001b[1;32mIn[8], line 2\u001b[0m\n\u001b[0;32m      1\u001b[0m num1 \u001b[38;5;241m=\u001b[39m \u001b[38;5;28minput\u001b[39m()\n\u001b[1;32m----> 2\u001b[0m \u001b[38;5;28;01mraise\u001b[39;00m \u001b[38;5;167;01mValueError\u001b[39;00m\n",
      "\u001b[1;31mValueError\u001b[0m: "
     ]
    }
   ],
   "source": [
    "num1 = input()\n",
    "raise ValueError"
   ]
  },
  {
   "cell_type": "code",
   "execution_count": null,
   "id": "7711376d",
   "metadata": {},
   "outputs": [],
   "source": []
  }
 ],
 "metadata": {
  "kernelspec": {
   "display_name": "Python 3 (ipykernel)",
   "language": "python",
   "name": "python3"
  },
  "language_info": {
   "codemirror_mode": {
    "name": "ipython",
    "version": 3
   },
   "file_extension": ".py",
   "mimetype": "text/x-python",
   "name": "python",
   "nbconvert_exporter": "python",
   "pygments_lexer": "ipython3",
   "version": "3.12.4"
  }
 },
 "nbformat": 4,
 "nbformat_minor": 5
}
