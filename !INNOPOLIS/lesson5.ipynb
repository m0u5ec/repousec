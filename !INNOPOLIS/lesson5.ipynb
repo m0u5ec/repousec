{
 "cells": [
  {
   "cell_type": "markdown",
   "id": "66c3476b",
   "metadata": {},
   "source": [
    "### Коллекции"
   ]
  },
  {
   "cell_type": "markdown",
   "id": "c41bc341",
   "metadata": {},
   "source": [
    "#### Строки"
   ]
  },
  {
   "cell_type": "markdown",
   "id": "ead193d6",
   "metadata": {},
   "source": [
    "одинарные кавычки — 'spa\"m'\n",
    "двойные кавычки — \"spa'm\"\n",
    "утроенные кавычки - \"\"\"spam spam ...\"\"\"\n",
    "управляющие последовательности — \"s\\tp\\na\\0m\"\n",
    "неформатированные строки — г \"С:\\new\\test.txt\"\n",
    "байтовые литералы — b'sp\\x01am'\\n\n",
    "литералы Unicode — u'eggs\\и0020spam'"
   ]
  },
  {
   "cell_type": "code",
   "execution_count": 2,
   "id": "d0ded2c5",
   "metadata": {},
   "outputs": [
    {
     "data": {
      "text/plain": [
       "'a\\nb\\tc'"
      ]
     },
     "execution_count": 2,
     "metadata": {},
     "output_type": "execute_result"
    }
   ],
   "source": [
    "s = 'a\\nb\\tc'\n",
    "s"
   ]
  },
  {
   "cell_type": "code",
   "execution_count": 3,
   "id": "f91763b4",
   "metadata": {},
   "outputs": [
    {
     "data": {
      "text/plain": [
       "5"
      ]
     },
     "execution_count": 3,
     "metadata": {},
     "output_type": "execute_result"
    }
   ],
   "source": [
    "len('hello')"
   ]
  },
  {
   "cell_type": "code",
   "execution_count": 5,
   "id": "c3530210",
   "metadata": {},
   "outputs": [
    {
     "data": {
      "text/plain": [
       "'hello world'"
      ]
     },
     "execution_count": 5,
     "metadata": {},
     "output_type": "execute_result"
    }
   ],
   "source": [
    "'hello ' + 'world'"
   ]
  },
  {
   "cell_type": "code",
   "execution_count": 6,
   "id": "d2cf7364",
   "metadata": {},
   "outputs": [
    {
     "data": {
      "text/plain": [
       "'hihihihi'"
      ]
     },
     "execution_count": 6,
     "metadata": {},
     "output_type": "execute_result"
    }
   ],
   "source": [
    "'hi' * 4"
   ]
  },
  {
   "cell_type": "code",
   "execution_count": 4,
   "id": "9565cd56",
   "metadata": {},
   "outputs": [
    {
     "data": {
      "text/plain": [
       "'hi9'"
      ]
     },
     "execution_count": 4,
     "metadata": {},
     "output_type": "execute_result"
    }
   ],
   "source": [
    "'hi' + str(9)"
   ]
  },
  {
   "cell_type": "code",
   "execution_count": 8,
   "id": "033ee41e",
   "metadata": {},
   "outputs": [
    {
     "name": "stdout",
     "output_type": "stream",
     "text": [
      "С е р г е й "
     ]
    }
   ],
   "source": [
    "name = 'Сергей'\n",
    "for char in name:\n",
    "    print(char, end=' ')"
   ]
  },
  {
   "cell_type": "code",
   "execution_count": 11,
   "id": "5189e9f5",
   "metadata": {},
   "outputs": [
    {
     "data": {
      "text/plain": [
       "'P'"
      ]
     },
     "execution_count": 11,
     "metadata": {},
     "output_type": "execute_result"
    }
   ],
   "source": [
    "word = 'Python'\n",
    "word[0]"
   ]
  },
  {
   "cell_type": "code",
   "execution_count": 10,
   "id": "86ca607f",
   "metadata": {},
   "outputs": [
    {
     "data": {
      "text/plain": [
       "'n'"
      ]
     },
     "execution_count": 10,
     "metadata": {},
     "output_type": "execute_result"
    }
   ],
   "source": [
    "word[-1]"
   ]
  },
  {
   "cell_type": "code",
   "execution_count": 12,
   "id": "66b205f8",
   "metadata": {},
   "outputs": [
    {
     "data": {
      "text/plain": [
       "'tho'"
      ]
     },
     "execution_count": 12,
     "metadata": {},
     "output_type": "execute_result"
    }
   ],
   "source": [
    "word = 'Python'\n",
    "word[2:5]"
   ]
  },
  {
   "cell_type": "code",
   "execution_count": 13,
   "id": "4e7a7e40-ad4d-4e6f-9281-6a3a3bc02057",
   "metadata": {},
   "outputs": [
    {
     "data": {
      "text/plain": [
       "'jjjjdfvtyyd'"
      ]
     },
     "execution_count": 13,
     "metadata": {},
     "output_type": "execute_result"
    }
   ],
   "source": [
    "strk='drhynvyjvtdjvyjfyjdtujutjjujjuj'\n",
    "strk[::-3]"
   ]
  },
  {
   "cell_type": "code",
   "execution_count": 11,
   "id": "6cd67c44",
   "metadata": {},
   "outputs": [
    {
     "ename": "NameError",
     "evalue": "name 'word' is not defined",
     "output_type": "error",
     "traceback": [
      "\u001b[1;31m---------------------------------------------------------------------------\u001b[0m",
      "\u001b[1;31mNameError\u001b[0m                                 Traceback (most recent call last)",
      "Cell \u001b[1;32mIn[11], line 1\u001b[0m\n\u001b[1;32m----> 1\u001b[0m word[::\u001b[38;5;241m-\u001b[39m\u001b[38;5;241m1\u001b[39m]\n",
      "\u001b[1;31mNameError\u001b[0m: name 'word' is not defined"
     ]
    }
   ],
   "source": [
    "word[::-1]"
   ]
  },
  {
   "cell_type": "code",
   "execution_count": 14,
   "id": "f7ceea16",
   "metadata": {},
   "outputs": [
    {
     "data": {
      "text/plain": [
       "65"
      ]
     },
     "execution_count": 14,
     "metadata": {},
     "output_type": "execute_result"
    }
   ],
   "source": [
    "ord('A')"
   ]
  },
  {
   "cell_type": "code",
   "execution_count": 15,
   "id": "15849a7f",
   "metadata": {},
   "outputs": [
    {
     "data": {
      "text/plain": [
       "'A'"
      ]
     },
     "execution_count": 15,
     "metadata": {},
     "output_type": "execute_result"
    }
   ],
   "source": [
    "chr(65)"
   ]
  },
  {
   "cell_type": "markdown",
   "id": "a15f4d42",
   "metadata": {},
   "source": [
    "#### Списки"
   ]
  },
  {
   "cell_type": "code",
   "execution_count": 17,
   "id": "ca63b7e3",
   "metadata": {},
   "outputs": [
    {
     "name": "stdout",
     "output_type": "stream",
     "text": [
      "-10\n",
      "-9\n",
      "-8\n",
      "-7\n",
      "-6\n",
      "-5\n",
      "-4\n",
      "-3\n",
      "-2\n",
      "-1\n",
      "0\n",
      "1\n",
      "2\n"
     ]
    },
    {
     "data": {
      "text/plain": [
       "True"
      ]
     },
     "execution_count": 17,
     "metadata": {},
     "output_type": "execute_result"
    }
   ],
   "source": [
    "lst = [] # Создание пустого списка\n",
    "lst = [1, 'hi', 2.5, True] # Список с 4 элементами разного типа\n",
    "lst = [1, 2, [3, 4]] # Список со вложенным подсписком\n",
    "lst = list('hi') # Список элементов итерируемого объекта\n",
    "lst = list(range(-10, 3)) # Список последовательных целых чисел\n",
    "lst[1] # Обращение по индексу\n",
    "lst[1:3] # Срез списка\n",
    "len(lst) # Длина списка\n",
    "lst + [5, 6] # Конкатенация списка\n",
    "lst * 2 # Повторение списка\n",
    "for elem in lst: # Итерация \n",
    "    print(elem)\n",
    "2 in lst # Вхождение(членство)"
   ]
  },
  {
   "cell_type": "markdown",
   "id": "09fca03c",
   "metadata": {},
   "source": [
    "#### Кортежи"
   ]
  },
  {
   "cell_type": "code",
   "execution_count": 18,
   "id": "9192ee32",
   "metadata": {},
   "outputs": [
    {
     "name": "stdout",
     "output_type": "stream",
     "text": [
      "h\n",
      "e\n",
      "l\n",
      "l\n",
      "o\n"
     ]
    },
    {
     "data": {
      "text/plain": [
       "False"
      ]
     },
     "execution_count": 18,
     "metadata": {},
     "output_type": "execute_result"
    }
   ],
   "source": [
    "() # Пустой кортеж\n",
    "T = (0, ) # Кортеж с одним элементом\n",
    "T = (0, 'Hi', 1.5, True) # Кортеж с 4 элементами разного типа\n",
    "T = 0, 'Hi', 1.5, True # Еще один кортеж из 4 элементов\n",
    "T = ('Hello', ('World', '!')) # Вложенные кортежи\n",
    "T = tuple('hello') # Кортеж из элементов итерируемого объекта\n",
    "T[1] # Индекс\n",
    "T[:1] # Срез\n",
    "T + (1, 2) # Конкатенация\n",
    "T * 2 # Повторение\n",
    "for elem in T: # Итерация\n",
    "    print(elem)\n",
    "1 in T # Вхождение(членство)"
   ]
  },
  {
   "cell_type": "markdown",
   "id": "c0904b8e",
   "metadata": {},
   "source": [
    "#### Множества"
   ]
  },
  {
   "cell_type": "code",
   "execution_count": 38,
   "id": "38ca7848",
   "metadata": {},
   "outputs": [
    {
     "name": "stdout",
     "output_type": "stream",
     "text": [
      "e\n",
      "o\n",
      "l\n",
      "h\n"
     ]
    },
    {
     "data": {
      "text/plain": [
       "False"
      ]
     },
     "execution_count": 38,
     "metadata": {},
     "output_type": "execute_result"
    }
   ],
   "source": [
    "a = set() # Пустое множество\n",
    "a = {1} # Множество с одним элементом\n",
    "a = {1, True, 'hi', 2.5} # Множество с 4 элементами разного типа\n",
    "a = set('hello') # Множество из элементов итерируемого объекта\n",
    "for elem in a:\n",
    "    print(elem) # Итерация\n",
    "1 in a # Вхождение(членство)"
   ]
  },
  {
   "cell_type": "markdown",
   "id": "e5b5c88b",
   "metadata": {},
   "source": [
    "#### Словари"
   ]
  },
  {
   "cell_type": "code",
   "execution_count": 39,
   "id": "b4bd0e21",
   "metadata": {},
   "outputs": [
    {
     "name": "stdout",
     "output_type": "stream",
     "text": [
      "name\n",
      "age\n"
     ]
    }
   ],
   "source": [
    "D = {} # Пустой словарь\n",
    "D = {'name': 'Ivan', 'age': 36} # Словарь из двух элементов\n",
    "D = {'person': {'name': 'Ivan', 'age': 36}} # Вложенный словарь\n",
    "D = dict(name='Ivan', age=40) # Создание словаря с помощью dict\n",
    "D['name'] # Индексирование по ключу\n",
    "'age' in D # Вхождение(членство)\n",
    "for key in D: # Итерация по ключу\n",
    "    print(key)"
   ]
  },
  {
   "cell_type": "code",
   "execution_count": null,
   "id": "b1935444",
   "metadata": {},
   "outputs": [],
   "source": []
  }
 ],
 "metadata": {
  "kernelspec": {
   "display_name": "Python 3 (ipykernel)",
   "language": "python",
   "name": "python3"
  },
  "language_info": {
   "codemirror_mode": {
    "name": "ipython",
    "version": 3
   },
   "file_extension": ".py",
   "mimetype": "text/x-python",
   "name": "python",
   "nbconvert_exporter": "python",
   "pygments_lexer": "ipython3",
   "version": "3.12.4"
  }
 },
 "nbformat": 4,
 "nbformat_minor": 5
}
